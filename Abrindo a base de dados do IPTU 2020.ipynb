{
 "cells": [
  {
   "cell_type": "code",
   "execution_count": 18,
   "metadata": {
    "slideshow": {
     "slide_type": "-"
    }
   },
   "outputs": [],
   "source": [
    "# Importanto a bliblioteca pandas\n",
    "\n",
    "import pandas as pd"
   ]
  },
  {
   "cell_type": "code",
   "execution_count": 21,
   "metadata": {},
   "outputs": [
    {
     "data": {
      "text/html": [
       "<pre>✔️ 998 µs (2021-01-26T10:28:09/2021-01-26T10:28:09)</pre>"
      ],
      "text/plain": [
       "<IPython.core.display.HTML object>"
      ]
     },
     "metadata": {},
     "output_type": "display_data"
    }
   ],
   "source": [
    "# CArrengando um complemento para visualizar quanto tempo demoram as tarefas\n",
    "%load_ext autotime"
   ]
  },
  {
   "cell_type": "code",
   "execution_count": 22,
   "metadata": {},
   "outputs": [
    {
     "data": {
      "text/html": [
       "<pre>✔️ 17.4 s (2021-01-26T10:28:12/2021-01-26T10:28:29)</pre>"
      ],
      "text/plain": [
       "<IPython.core.display.HTML object>"
      ]
     },
     "metadata": {},
     "output_type": "display_data"
    }
   ],
   "source": [
    "# Carregando o conjunto de dados para uma variável em memória\n",
    "\n",
    "df_iptu = pd.read_csv('IPTU/IPTU_2020.zip', compression='zip', encoding='iso-8859-9', sep=';', decimal=',')"
   ]
  },
  {
   "cell_type": "code",
   "execution_count": 23,
   "metadata": {},
   "outputs": [
    {
     "data": {
      "text/html": [
       "<pre>✔️ 1.63 s (2021-01-26T10:28:34/2021-01-26T10:28:35)</pre>"
      ],
      "text/plain": [
       "<IPython.core.display.HTML object>"
      ]
     },
     "metadata": {},
     "output_type": "display_data"
    },
    {
     "data": {
      "text/html": [
       "<div>\n",
       "<style scoped>\n",
       "    .dataframe tbody tr th:only-of-type {\n",
       "        vertical-align: middle;\n",
       "    }\n",
       "\n",
       "    .dataframe tbody tr th {\n",
       "        vertical-align: top;\n",
       "    }\n",
       "\n",
       "    .dataframe thead th {\n",
       "        text-align: right;\n",
       "    }\n",
       "</style>\n",
       "<table border=\"1\" class=\"dataframe\">\n",
       "  <thead>\n",
       "    <tr style=\"text-align: right;\">\n",
       "      <th></th>\n",
       "      <th>NUMERO DO CONTRIBUINTE</th>\n",
       "      <th>ANO DO EXERCICIO</th>\n",
       "      <th>NUMERO DA NL</th>\n",
       "      <th>DATA DO CADASTRAMENTO</th>\n",
       "      <th>TIPO DE CONTRIBUINTE 1</th>\n",
       "      <th>CPF/CNPJ DO CONTRIBUINTE 1</th>\n",
       "      <th>NOME DO CONTRIBUINTE 1</th>\n",
       "      <th>TIPO DE CONTRIBUINTE 2</th>\n",
       "      <th>CPF/CNPJ DO CONTRIBUINTE 2</th>\n",
       "      <th>NOME DO CONTRIBUINTE 2</th>\n",
       "      <th>...</th>\n",
       "      <th>ANO DA CONSTRUCAO CORRIGIDO</th>\n",
       "      <th>QUANTIDADE DE PAVIMENTOS</th>\n",
       "      <th>TESTADA PARA CALCULO</th>\n",
       "      <th>TIPO DE USO DO IMOVEL</th>\n",
       "      <th>TIPO DE PADRAO DA CONSTRUCAO</th>\n",
       "      <th>TIPO DE TERRENO</th>\n",
       "      <th>FATOR DE OBSOLESCENCIA</th>\n",
       "      <th>ANO DE INICIO DA VIDA DO CONTRIBUINTE</th>\n",
       "      <th>MES DE INICIO DA VIDA DO CONTRIBUINTE</th>\n",
       "      <th>FASE DO CONTRIBUINTE</th>\n",
       "    </tr>\n",
       "  </thead>\n",
       "  <tbody>\n",
       "    <tr>\n",
       "      <th>0</th>\n",
       "      <td>0010030001-4</td>\n",
       "      <td>2020</td>\n",
       "      <td>1</td>\n",
       "      <td>11/01/20</td>\n",
       "      <td>PESSOA FISICA (CPF)</td>\n",
       "      <td>XXXXXX0214XXXX</td>\n",
       "      <td>MARCIO MOURCHED</td>\n",
       "      <td>NaN</td>\n",
       "      <td></td>\n",
       "      <td>NaN</td>\n",
       "      <td>...</td>\n",
       "      <td>1924</td>\n",
       "      <td>1</td>\n",
       "      <td>13.00</td>\n",
       "      <td>Loja</td>\n",
       "      <td>Comercial horizontal - padrão B</td>\n",
       "      <td>De esquina</td>\n",
       "      <td>0.2</td>\n",
       "      <td>1963</td>\n",
       "      <td>1</td>\n",
       "      <td>0</td>\n",
       "    </tr>\n",
       "    <tr>\n",
       "      <th>1</th>\n",
       "      <td>0010030002-2</td>\n",
       "      <td>2020</td>\n",
       "      <td>1</td>\n",
       "      <td>11/01/20</td>\n",
       "      <td>PESSOA FISICA (CPF)</td>\n",
       "      <td>XXXXXX0214XXXX</td>\n",
       "      <td>MARCIO MOURCHED</td>\n",
       "      <td>NaN</td>\n",
       "      <td></td>\n",
       "      <td>NaN</td>\n",
       "      <td>...</td>\n",
       "      <td>1944</td>\n",
       "      <td>1</td>\n",
       "      <td>6.00</td>\n",
       "      <td>Loja</td>\n",
       "      <td>Comercial horizontal - padrão B</td>\n",
       "      <td>Normal</td>\n",
       "      <td>0.2</td>\n",
       "      <td>1963</td>\n",
       "      <td>1</td>\n",
       "      <td>0</td>\n",
       "    </tr>\n",
       "    <tr>\n",
       "      <th>2</th>\n",
       "      <td>0010030003-0</td>\n",
       "      <td>2020</td>\n",
       "      <td>1</td>\n",
       "      <td>11/01/20</td>\n",
       "      <td>PESSOA FISICA (CPF)</td>\n",
       "      <td>XXXXXX0214XXXX</td>\n",
       "      <td>MARCIO MOURCHED</td>\n",
       "      <td>NaN</td>\n",
       "      <td></td>\n",
       "      <td>NaN</td>\n",
       "      <td>...</td>\n",
       "      <td>1965</td>\n",
       "      <td>2</td>\n",
       "      <td>7.85</td>\n",
       "      <td>Loja</td>\n",
       "      <td>Comercial horizontal - padrão B</td>\n",
       "      <td>Normal</td>\n",
       "      <td>0.3</td>\n",
       "      <td>1963</td>\n",
       "      <td>1</td>\n",
       "      <td>0</td>\n",
       "    </tr>\n",
       "    <tr>\n",
       "      <th>3</th>\n",
       "      <td>0010030004-9</td>\n",
       "      <td>2020</td>\n",
       "      <td>1</td>\n",
       "      <td>11/01/20</td>\n",
       "      <td>PESSOA FISICA (CPF)</td>\n",
       "      <td>XXXXXX2094XXXX</td>\n",
       "      <td>AUGUSTO CESAR DE MATTOS JUNIOR</td>\n",
       "      <td>NaN</td>\n",
       "      <td></td>\n",
       "      <td>NaN</td>\n",
       "      <td>...</td>\n",
       "      <td>1944</td>\n",
       "      <td>1</td>\n",
       "      <td>6.05</td>\n",
       "      <td>Loja</td>\n",
       "      <td>Comercial horizontal - padrão B</td>\n",
       "      <td>Normal</td>\n",
       "      <td>0.2</td>\n",
       "      <td>1963</td>\n",
       "      <td>1</td>\n",
       "      <td>0</td>\n",
       "    </tr>\n",
       "    <tr>\n",
       "      <th>4</th>\n",
       "      <td>0010030005-7</td>\n",
       "      <td>2020</td>\n",
       "      <td>1</td>\n",
       "      <td>11/01/20</td>\n",
       "      <td>PESSOA FISICA (CPF)</td>\n",
       "      <td>XXXXXX2094XXXX</td>\n",
       "      <td>AUGUSTO CESAR DE MATTOS JUNIOR</td>\n",
       "      <td>NaN</td>\n",
       "      <td></td>\n",
       "      <td>NaN</td>\n",
       "      <td>...</td>\n",
       "      <td>1944</td>\n",
       "      <td>1</td>\n",
       "      <td>6.70</td>\n",
       "      <td>Loja</td>\n",
       "      <td>Comercial horizontal - padrão B</td>\n",
       "      <td>Normal</td>\n",
       "      <td>0.2</td>\n",
       "      <td>1963</td>\n",
       "      <td>1</td>\n",
       "      <td>0</td>\n",
       "    </tr>\n",
       "    <tr>\n",
       "      <th>...</th>\n",
       "      <td>...</td>\n",
       "      <td>...</td>\n",
       "      <td>...</td>\n",
       "      <td>...</td>\n",
       "      <td>...</td>\n",
       "      <td>...</td>\n",
       "      <td>...</td>\n",
       "      <td>...</td>\n",
       "      <td>...</td>\n",
       "      <td>...</td>\n",
       "      <td>...</td>\n",
       "      <td>...</td>\n",
       "      <td>...</td>\n",
       "      <td>...</td>\n",
       "      <td>...</td>\n",
       "      <td>...</td>\n",
       "      <td>...</td>\n",
       "      <td>...</td>\n",
       "      <td>...</td>\n",
       "      <td>...</td>\n",
       "      <td>...</td>\n",
       "    </tr>\n",
       "    <tr>\n",
       "      <th>3498639</th>\n",
       "      <td>3101180238-1</td>\n",
       "      <td>2020</td>\n",
       "      <td>1</td>\n",
       "      <td>11/01/20</td>\n",
       "      <td>PESSOA FISICA (CPF)</td>\n",
       "      <td>XXXXXX5127XXXX</td>\n",
       "      <td>CECILIA OTUKA</td>\n",
       "      <td>NaN</td>\n",
       "      <td></td>\n",
       "      <td>NaN</td>\n",
       "      <td>...</td>\n",
       "      <td>1978</td>\n",
       "      <td>5</td>\n",
       "      <td>0.00</td>\n",
       "      <td>Apartamento em condomínio</td>\n",
       "      <td>Residencial vertical - padrão B</td>\n",
       "      <td>De esquina</td>\n",
       "      <td>0.2</td>\n",
       "      <td>1985</td>\n",
       "      <td>1</td>\n",
       "      <td>0</td>\n",
       "    </tr>\n",
       "    <tr>\n",
       "      <th>3498640</th>\n",
       "      <td>3101180239-1</td>\n",
       "      <td>2020</td>\n",
       "      <td>1</td>\n",
       "      <td>11/01/20</td>\n",
       "      <td>PESSOA FISICA (CPF)</td>\n",
       "      <td>XXXXXX6436XXXX</td>\n",
       "      <td>JOSE ESTANISLAU CAMPOS MACHADO FILHO</td>\n",
       "      <td>NaN</td>\n",
       "      <td></td>\n",
       "      <td>NaN</td>\n",
       "      <td>...</td>\n",
       "      <td>1978</td>\n",
       "      <td>5</td>\n",
       "      <td>0.00</td>\n",
       "      <td>Apartamento em condomínio</td>\n",
       "      <td>Residencial vertical - padrão B</td>\n",
       "      <td>De esquina</td>\n",
       "      <td>0.2</td>\n",
       "      <td>1985</td>\n",
       "      <td>1</td>\n",
       "      <td>0</td>\n",
       "    </tr>\n",
       "    <tr>\n",
       "      <th>3498641</th>\n",
       "      <td>3101180240-3</td>\n",
       "      <td>2020</td>\n",
       "      <td>1</td>\n",
       "      <td>11/01/20</td>\n",
       "      <td>PESSOA FISICA (CPF)</td>\n",
       "      <td>XXXXXX6473XXXX</td>\n",
       "      <td>DOUGLAS MACEDO</td>\n",
       "      <td>PESSOA FISICA (CPF)</td>\n",
       "      <td>XXXXXX9655XXXX</td>\n",
       "      <td>JOICE FERNANDA PAIXAO MACEDO</td>\n",
       "      <td>...</td>\n",
       "      <td>1978</td>\n",
       "      <td>5</td>\n",
       "      <td>0.00</td>\n",
       "      <td>Apartamento em condomínio</td>\n",
       "      <td>Residencial vertical - padrão B</td>\n",
       "      <td>De esquina</td>\n",
       "      <td>0.2</td>\n",
       "      <td>1985</td>\n",
       "      <td>1</td>\n",
       "      <td>0</td>\n",
       "    </tr>\n",
       "    <tr>\n",
       "      <th>3498642</th>\n",
       "      <td>3101190001-4</td>\n",
       "      <td>2020</td>\n",
       "      <td>1</td>\n",
       "      <td>11/01/20</td>\n",
       "      <td>PESSOA JURIDICA (CNPJ)</td>\n",
       "      <td>XXXXXXXXXXXXXX</td>\n",
       "      <td>ESTADO DE SAO PAULO</td>\n",
       "      <td>NaN</td>\n",
       "      <td></td>\n",
       "      <td>NaN</td>\n",
       "      <td>...</td>\n",
       "      <td>0</td>\n",
       "      <td>0</td>\n",
       "      <td>0.00</td>\n",
       "      <td>Terreno</td>\n",
       "      <td>TERRENO</td>\n",
       "      <td>De esquina</td>\n",
       "      <td>0.0</td>\n",
       "      <td>1988</td>\n",
       "      <td>1</td>\n",
       "      <td>0</td>\n",
       "    </tr>\n",
       "    <tr>\n",
       "      <th>3498643</th>\n",
       "      <td>3101200001-7</td>\n",
       "      <td>2020</td>\n",
       "      <td>1</td>\n",
       "      <td>11/01/20</td>\n",
       "      <td>PESSOA JURIDICA (CNPJ)</td>\n",
       "      <td>XXXXXXXXXXXXXX</td>\n",
       "      <td>ESTADO DE SAO PAULO</td>\n",
       "      <td>NaN</td>\n",
       "      <td></td>\n",
       "      <td>NaN</td>\n",
       "      <td>...</td>\n",
       "      <td>0</td>\n",
       "      <td>0</td>\n",
       "      <td>500.00</td>\n",
       "      <td>Terreno</td>\n",
       "      <td>TERRENO</td>\n",
       "      <td>Normal</td>\n",
       "      <td>0.0</td>\n",
       "      <td>1988</td>\n",
       "      <td>1</td>\n",
       "      <td>0</td>\n",
       "    </tr>\n",
       "  </tbody>\n",
       "</table>\n",
       "<p>3498644 rows × 35 columns</p>\n",
       "</div>"
      ],
      "text/plain": [
       "        NUMERO DO CONTRIBUINTE  ANO DO EXERCICIO  NUMERO DA NL  \\\n",
       "0                 0010030001-4              2020             1   \n",
       "1                 0010030002-2              2020             1   \n",
       "2                 0010030003-0              2020             1   \n",
       "3                 0010030004-9              2020             1   \n",
       "4                 0010030005-7              2020             1   \n",
       "...                        ...               ...           ...   \n",
       "3498639           3101180238-1              2020             1   \n",
       "3498640           3101180239-1              2020             1   \n",
       "3498641           3101180240-3              2020             1   \n",
       "3498642           3101190001-4              2020             1   \n",
       "3498643           3101200001-7              2020             1   \n",
       "\n",
       "        DATA DO CADASTRAMENTO  TIPO DE CONTRIBUINTE 1  \\\n",
       "0                    11/01/20     PESSOA FISICA (CPF)   \n",
       "1                    11/01/20     PESSOA FISICA (CPF)   \n",
       "2                    11/01/20     PESSOA FISICA (CPF)   \n",
       "3                    11/01/20     PESSOA FISICA (CPF)   \n",
       "4                    11/01/20     PESSOA FISICA (CPF)   \n",
       "...                       ...                     ...   \n",
       "3498639              11/01/20     PESSOA FISICA (CPF)   \n",
       "3498640              11/01/20     PESSOA FISICA (CPF)   \n",
       "3498641              11/01/20     PESSOA FISICA (CPF)   \n",
       "3498642              11/01/20  PESSOA JURIDICA (CNPJ)   \n",
       "3498643              11/01/20  PESSOA JURIDICA (CNPJ)   \n",
       "\n",
       "        CPF/CNPJ DO CONTRIBUINTE 1                NOME DO CONTRIBUINTE 1  \\\n",
       "0                   XXXXXX0214XXXX                       MARCIO MOURCHED   \n",
       "1                   XXXXXX0214XXXX                       MARCIO MOURCHED   \n",
       "2                   XXXXXX0214XXXX                       MARCIO MOURCHED   \n",
       "3                   XXXXXX2094XXXX        AUGUSTO CESAR DE MATTOS JUNIOR   \n",
       "4                   XXXXXX2094XXXX        AUGUSTO CESAR DE MATTOS JUNIOR   \n",
       "...                            ...                                   ...   \n",
       "3498639             XXXXXX5127XXXX                         CECILIA OTUKA   \n",
       "3498640             XXXXXX6436XXXX  JOSE ESTANISLAU CAMPOS MACHADO FILHO   \n",
       "3498641             XXXXXX6473XXXX                        DOUGLAS MACEDO   \n",
       "3498642             XXXXXXXXXXXXXX                   ESTADO DE SAO PAULO   \n",
       "3498643             XXXXXXXXXXXXXX                   ESTADO DE SAO PAULO   \n",
       "\n",
       "        TIPO DE CONTRIBUINTE 2 CPF/CNPJ DO CONTRIBUINTE 2  \\\n",
       "0                          NaN                              \n",
       "1                          NaN                              \n",
       "2                          NaN                              \n",
       "3                          NaN                              \n",
       "4                          NaN                              \n",
       "...                        ...                        ...   \n",
       "3498639                    NaN                              \n",
       "3498640                    NaN                              \n",
       "3498641    PESSOA FISICA (CPF)             XXXXXX9655XXXX   \n",
       "3498642                    NaN                              \n",
       "3498643                    NaN                              \n",
       "\n",
       "               NOME DO CONTRIBUINTE 2  ... ANO DA CONSTRUCAO CORRIGIDO  \\\n",
       "0                                 NaN  ...                        1924   \n",
       "1                                 NaN  ...                        1944   \n",
       "2                                 NaN  ...                        1965   \n",
       "3                                 NaN  ...                        1944   \n",
       "4                                 NaN  ...                        1944   \n",
       "...                               ...  ...                         ...   \n",
       "3498639                           NaN  ...                        1978   \n",
       "3498640                           NaN  ...                        1978   \n",
       "3498641  JOICE FERNANDA PAIXAO MACEDO  ...                        1978   \n",
       "3498642                           NaN  ...                           0   \n",
       "3498643                           NaN  ...                           0   \n",
       "\n",
       "        QUANTIDADE DE PAVIMENTOS TESTADA PARA CALCULO  \\\n",
       "0                              1                13.00   \n",
       "1                              1                 6.00   \n",
       "2                              2                 7.85   \n",
       "3                              1                 6.05   \n",
       "4                              1                 6.70   \n",
       "...                          ...                  ...   \n",
       "3498639                        5                 0.00   \n",
       "3498640                        5                 0.00   \n",
       "3498641                        5                 0.00   \n",
       "3498642                        0                 0.00   \n",
       "3498643                        0               500.00   \n",
       "\n",
       "             TIPO DE USO DO IMOVEL     TIPO DE PADRAO DA CONSTRUCAO  \\\n",
       "0                             Loja  Comercial horizontal - padrão B   \n",
       "1                             Loja  Comercial horizontal - padrão B   \n",
       "2                             Loja  Comercial horizontal - padrão B   \n",
       "3                             Loja  Comercial horizontal - padrão B   \n",
       "4                             Loja  Comercial horizontal - padrão B   \n",
       "...                            ...                              ...   \n",
       "3498639  Apartamento em condomínio  Residencial vertical - padrão B   \n",
       "3498640  Apartamento em condomínio  Residencial vertical - padrão B   \n",
       "3498641  Apartamento em condomínio  Residencial vertical - padrão B   \n",
       "3498642                    Terreno                          TERRENO   \n",
       "3498643                    Terreno                          TERRENO   \n",
       "\n",
       "        TIPO DE TERRENO FATOR DE OBSOLESCENCIA  \\\n",
       "0            De esquina                    0.2   \n",
       "1                Normal                    0.2   \n",
       "2                Normal                    0.3   \n",
       "3                Normal                    0.2   \n",
       "4                Normal                    0.2   \n",
       "...                 ...                    ...   \n",
       "3498639      De esquina                    0.2   \n",
       "3498640      De esquina                    0.2   \n",
       "3498641      De esquina                    0.2   \n",
       "3498642      De esquina                    0.0   \n",
       "3498643          Normal                    0.0   \n",
       "\n",
       "        ANO DE INICIO DA VIDA DO CONTRIBUINTE  \\\n",
       "0                                        1963   \n",
       "1                                        1963   \n",
       "2                                        1963   \n",
       "3                                        1963   \n",
       "4                                        1963   \n",
       "...                                       ...   \n",
       "3498639                                  1985   \n",
       "3498640                                  1985   \n",
       "3498641                                  1985   \n",
       "3498642                                  1988   \n",
       "3498643                                  1988   \n",
       "\n",
       "         MES DE INICIO DA VIDA DO CONTRIBUINTE  FASE DO CONTRIBUINTE  \n",
       "0                                            1                     0  \n",
       "1                                            1                     0  \n",
       "2                                            1                     0  \n",
       "3                                            1                     0  \n",
       "4                                            1                     0  \n",
       "...                                        ...                   ...  \n",
       "3498639                                      1                     0  \n",
       "3498640                                      1                     0  \n",
       "3498641                                      1                     0  \n",
       "3498642                                      1                     0  \n",
       "3498643                                      1                     0  \n",
       "\n",
       "[3498644 rows x 35 columns]"
      ]
     },
     "execution_count": 23,
     "metadata": {},
     "output_type": "execute_result"
    }
   ],
   "source": [
    "# Visualizando \n",
    "\n",
    "df_iptu"
   ]
  },
  {
   "cell_type": "code",
   "execution_count": 24,
   "metadata": {},
   "outputs": [
    {
     "data": {
      "text/html": [
       "<pre>✔️ 32 ms (2021-01-26T10:28:40/2021-01-26T10:28:40)</pre>"
      ],
      "text/plain": [
       "<IPython.core.display.HTML object>"
      ]
     },
     "metadata": {},
     "output_type": "display_data"
    },
    {
     "name": "stdout",
     "output_type": "stream",
     "text": [
      "<class 'pandas.core.frame.DataFrame'>\n",
      "RangeIndex: 3498644 entries, 0 to 3498643\n",
      "Data columns (total 35 columns):\n",
      " #   Column                                 Dtype  \n",
      "---  ------                                 -----  \n",
      " 0   NUMERO DO CONTRIBUINTE                 object \n",
      " 1   ANO DO EXERCICIO                       int64  \n",
      " 2   NUMERO DA NL                           int64  \n",
      " 3   DATA DO CADASTRAMENTO                  object \n",
      " 4   TIPO DE CONTRIBUINTE 1                 object \n",
      " 5   CPF/CNPJ DO CONTRIBUINTE 1             object \n",
      " 6   NOME DO CONTRIBUINTE 1                 object \n",
      " 7   TIPO DE CONTRIBUINTE 2                 object \n",
      " 8   CPF/CNPJ DO CONTRIBUINTE 2             object \n",
      " 9   NOME DO CONTRIBUINTE 2                 object \n",
      " 10  NUMERO DO CONDOMINIO                   object \n",
      " 11  CODLOG DO IMOVEL                       object \n",
      " 12  NOME DE LOGRADOURO DO IMOVEL           object \n",
      " 13  NUMERO DO IMOVEL                       float64\n",
      " 14  COMPLEMENTO DO IMOVEL                  object \n",
      " 15  BAIRRO DO IMOVEL                       object \n",
      " 16  REFERENCIA DO IMOVEL                   object \n",
      " 17  CEP DO IMOVEL                          object \n",
      " 18  QUANTIDADE DE ESQUINAS/FRENTES         int64  \n",
      " 19  FRACAO IDEAL                           float64\n",
      " 20  AREA DO TERRENO                        int64  \n",
      " 21  AREA CONSTRUIDA                        int64  \n",
      " 22  AREA OCUPADA                           int64  \n",
      " 23  VALOR DO M2 DO TERRENO                 float64\n",
      " 24  VALOR DO M2 DE CONSTRUCAO              float64\n",
      " 25  ANO DA CONSTRUCAO CORRIGIDO            int64  \n",
      " 26  QUANTIDADE DE PAVIMENTOS               int64  \n",
      " 27  TESTADA PARA CALCULO                   float64\n",
      " 28  TIPO DE USO DO IMOVEL                  object \n",
      " 29  TIPO DE PADRAO DA CONSTRUCAO           object \n",
      " 30  TIPO DE TERRENO                        object \n",
      " 31  FATOR DE OBSOLESCENCIA                 float64\n",
      " 32  ANO DE INICIO DA VIDA DO CONTRIBUINTE  int64  \n",
      " 33  MES DE INICIO DA VIDA DO CONTRIBUINTE  int64  \n",
      " 34  FASE DO CONTRIBUINTE                   int64  \n",
      "dtypes: float64(6), int64(11), object(18)\n",
      "memory usage: 934.2+ MB\n"
     ]
    }
   ],
   "source": [
    "# Como isso está na memória?\n",
    "\n",
    "df_iptu.info()"
   ]
  },
  {
   "cell_type": "code",
   "execution_count": 31,
   "metadata": {},
   "outputs": [
    {
     "data": {
      "text/html": [
       "<pre>✔️ 166 ms (2021-01-26T10:31:15/2021-01-26T10:31:15)</pre>"
      ],
      "text/plain": [
       "<IPython.core.display.HTML object>"
      ]
     },
     "metadata": {},
     "output_type": "display_data"
    },
    {
     "data": {
      "text/plain": [
       "<AxesSubplot:>"
      ]
     },
     "execution_count": 31,
     "metadata": {},
     "output_type": "execute_result"
    },
    {
     "data": {
      "image/png": "[encoded data removed]",
      "text/plain": [
       "<Figure size 432x288 with 1 Axes>"
      ]
     },
     "metadata": {
      "needs_background": "light"
     },
     "output_type": "display_data"
    }
   ],
   "source": [
    "df_iptu['QUANTIDADE DE PAVIMENTOS'].hist()"
   ]
  },
  {
   "cell_type": "code",
   "execution_count": 32,
   "metadata": {},
   "outputs": [
    {
     "data": {
      "text/html": [
       "<pre>✔️ 171 ms (2021-01-26T10:32:04/2021-01-26T10:32:04)</pre>"
      ],
      "text/plain": [
       "<IPython.core.display.HTML object>"
      ]
     },
     "metadata": {},
     "output_type": "display_data"
    },
    {
     "data": {
      "text/plain": [
       "<AxesSubplot:>"
      ]
     },
     "execution_count": 32,
     "metadata": {},
     "output_type": "execute_result"
    },
    {
     "data": {
      "image/png": "[encoded data removed]",
      "text/plain": [
       "<Figure size 432x288 with 1 Axes>"
      ]
     },
     "metadata": {
      "needs_background": "light"
     },
     "output_type": "display_data"
    }
   ],
   "source": [
    "df_iptu['ANO DA CONSTRUCAO CORRIGIDO'].hist()"
   ]
  },
  {
   "cell_type": "code",
   "execution_count": 40,
   "metadata": {},
   "outputs": [
    {
     "data": {
      "text/html": [
       "<pre>✔️ 795 ms (2021-01-26T10:33:43/2021-01-26T10:33:44)</pre>"
      ],
      "text/plain": [
       "<IPython.core.display.HTML object>"
      ]
     },
     "metadata": {},
     "output_type": "display_data"
    },
    {
     "data": {
      "text/plain": [
       "<AxesSubplot:>"
      ]
     },
     "execution_count": 40,
     "metadata": {},
     "output_type": "execute_result"
    },
    {
     "data": {
      "image/png": "[encoded data removed]",
      "text/plain": [
       "<Figure size 432x288 with 1 Axes>"
      ]
     },
     "metadata": {
      "needs_background": "light"
     },
     "output_type": "display_data"
    }
   ],
   "source": [
    "df_iptu[df_iptu['ANO DA CONSTRUCAO CORRIGIDO'] > 1900]['ANO DA CONSTRUCAO CORRIGIDO'].hist()"
   ]
  },
  {
   "cell_type": "code",
   "execution_count": 47,
   "metadata": {},
   "outputs": [
    {
     "data": {
      "text/html": [
       "<pre>✔️ 1.4 s (2021-01-26T10:42:55/2021-01-26T10:42:56)</pre>"
      ],
      "text/plain": [
       "<IPython.core.display.HTML object>"
      ]
     },
     "metadata": {},
     "output_type": "display_data"
    },
    {
     "data": {
      "text/plain": [
       "<AxesSubplot:ylabel='Density'>"
      ]
     },
     "execution_count": 47,
     "metadata": {},
     "output_type": "execute_result"
    },
    {
     "data": {
      "image/png": "[encoded data removed]",
      "text/plain": [
       "<Figure size 432x288 with 1 Axes>"
      ]
     },
     "metadata": {
      "needs_background": "light"
     },
     "output_type": "display_data"
    }
   ],
   "source": [
    "df_iptu[df_iptu['ANO DA CONSTRUCAO CORRIGIDO'] > 0]['ANO DA CONSTRUCAO CORRIGIDO'].plot.kde(ind=[1900, 1910, 1920, 1930, 1940, 1950, 1960, 1970, 1980, 1990, 2000, 2010, 2020])"
   ]
  },
  {
   "cell_type": "code",
   "execution_count": 54,
   "metadata": {},
   "outputs": [
    {
     "data": {
      "text/html": [
       "<pre>✔️ 10.8 ms (2021-01-26T10:44:36/2021-01-26T10:44:36)</pre>"
      ],
      "text/plain": [
       "<IPython.core.display.HTML object>"
      ]
     },
     "metadata": {},
     "output_type": "display_data"
    },
    {
     "data": {
      "text/plain": [
       "[1900, 1910, 1920, 1930, 1940, 1950, 1960, 1970, 1980, 1990, 2000, 2010, 2020]"
      ]
     },
     "execution_count": 54,
     "metadata": {},
     "output_type": "execute_result"
    }
   ],
   "source": [
    "# um pouco de Python, por que a melhor característica de quem programa é ser preguiçoso\n",
    "\n",
    "list(range(1900, 2030, 10))"
   ]
  },
  {
   "cell_type": "code",
   "execution_count": 59,
   "metadata": {},
   "outputs": [
    {
     "data": {
      "text/html": [
       "<pre>✔️ 7.95 ms (2021-01-26T10:49:09/2021-01-26T10:49:09)</pre>"
      ],
      "text/plain": [
       "<IPython.core.display.HTML object>"
      ]
     },
     "metadata": {},
     "output_type": "display_data"
    },
    {
     "data": {
      "text/plain": [
       "[1900, 1910, 1920, 1930, 1940, 1950, 1960, 1970, 1980, 1990, 2000, 2010, 2020]"
      ]
     },
     "execution_count": 59,
     "metadata": {},
     "output_type": "execute_result"
    }
   ],
   "source": [
    "# Mas tb por que é mais fácil entender as intenções de código\n",
    "\n",
    "ano_de_inicio = 1900\n",
    "ano_final = 2021\n",
    "perido_em_anos = 10\n",
    "\n",
    "list(range(ano_de_inicio, ano_final, perido_em_anos))"
   ]
  },
  {
   "cell_type": "code",
   "execution_count": 58,
   "metadata": {},
   "outputs": [
    {
     "data": {
      "text/html": [
       "<pre>✔️ 3.19 s (2021-01-26T10:48:50/2021-01-26T10:48:53)</pre>"
      ],
      "text/plain": [
       "<IPython.core.display.HTML object>"
      ]
     },
     "metadata": {},
     "output_type": "display_data"
    },
    {
     "data": {
      "text/plain": [
       "<AxesSubplot:ylabel='Density'>"
      ]
     },
     "execution_count": 58,
     "metadata": {},
     "output_type": "execute_result"
    },
    {
     "data": {
      "image/png": "[encoded data removed]",
      "text/plain": [
       "<Figure size 432x288 with 1 Axes>"
      ]
     },
     "metadata": {
      "needs_background": "light"
     },
     "output_type": "display_data"
    }
   ],
   "source": [
    "# defino uma variável que expressa uma intenção, que tenha semântica\n",
    "iptus_depois_1900 = df_iptu['ANO DA CONSTRUCAO CORRIGIDO'] > 0\n",
    "\n",
    "df_iptu[iptus_depois_1900]['ANO DA CONSTRUCAO CORRIGIDO'].plot.kde(ind=list(range(ano_de_inicio, ano_final, perido_em_anos)))"
   ]
  },
  {
   "cell_type": "code",
   "execution_count": 26,
   "metadata": {},
   "outputs": [
    {
     "data": {
      "text/html": [
       "<pre>✔️ 30.5 ms (2021-01-26T10:28:55/2021-01-26T10:28:55)</pre>"
      ],
      "text/plain": [
       "<IPython.core.display.HTML object>"
      ]
     },
     "metadata": {},
     "output_type": "display_data"
    },
    {
     "data": {
      "text/plain": [
       "2020"
      ]
     },
     "execution_count": 26,
     "metadata": {},
     "output_type": "execute_result"
    }
   ],
   "source": [
    "df_iptu.loc[34, 'ANO DO EXERCICIO']"
   ]
  },
  {
   "cell_type": "code",
   "execution_count": 27,
   "metadata": {},
   "outputs": [
    {
     "data": {
      "text/html": [
       "<pre>✔️ 24.3 ms (2021-01-26T10:28:58/2021-01-26T10:28:58)</pre>"
      ],
      "text/plain": [
       "<IPython.core.display.HTML object>"
      ]
     },
     "metadata": {},
     "output_type": "display_data"
    },
    {
     "data": {
      "text/html": [
       "<div>\n",
       "<style scoped>\n",
       "    .dataframe tbody tr th:only-of-type {\n",
       "        vertical-align: middle;\n",
       "    }\n",
       "\n",
       "    .dataframe tbody tr th {\n",
       "        vertical-align: top;\n",
       "    }\n",
       "\n",
       "    .dataframe thead th {\n",
       "        text-align: right;\n",
       "    }\n",
       "</style>\n",
       "<table border=\"1\" class=\"dataframe\">\n",
       "  <thead>\n",
       "    <tr style=\"text-align: right;\">\n",
       "      <th></th>\n",
       "      <th>NUMERO DO CONTRIBUINTE</th>\n",
       "      <th>ANO DO EXERCICIO</th>\n",
       "      <th>NUMERO DA NL</th>\n",
       "      <th>DATA DO CADASTRAMENTO</th>\n",
       "      <th>TIPO DE CONTRIBUINTE 1</th>\n",
       "      <th>CPF/CNPJ DO CONTRIBUINTE 1</th>\n",
       "      <th>NOME DO CONTRIBUINTE 1</th>\n",
       "      <th>TIPO DE CONTRIBUINTE 2</th>\n",
       "      <th>CPF/CNPJ DO CONTRIBUINTE 2</th>\n",
       "      <th>NOME DO CONTRIBUINTE 2</th>\n",
       "      <th>...</th>\n",
       "      <th>ANO DA CONSTRUCAO CORRIGIDO</th>\n",
       "      <th>QUANTIDADE DE PAVIMENTOS</th>\n",
       "      <th>TESTADA PARA CALCULO</th>\n",
       "      <th>TIPO DE USO DO IMOVEL</th>\n",
       "      <th>TIPO DE PADRAO DA CONSTRUCAO</th>\n",
       "      <th>TIPO DE TERRENO</th>\n",
       "      <th>FATOR DE OBSOLESCENCIA</th>\n",
       "      <th>ANO DE INICIO DA VIDA DO CONTRIBUINTE</th>\n",
       "      <th>MES DE INICIO DA VIDA DO CONTRIBUINTE</th>\n",
       "      <th>FASE DO CONTRIBUINTE</th>\n",
       "    </tr>\n",
       "  </thead>\n",
       "  <tbody>\n",
       "    <tr>\n",
       "      <th>3333333</th>\n",
       "      <td>2482040020-5</td>\n",
       "      <td>2020</td>\n",
       "      <td>1</td>\n",
       "      <td>11/01/20</td>\n",
       "      <td>PESSOA FISICA (CPF)</td>\n",
       "      <td>XXXXXX4740XXXX</td>\n",
       "      <td>ANTONIO JOSE DA SILVA</td>\n",
       "      <td>NaN</td>\n",
       "      <td></td>\n",
       "      <td>NaN</td>\n",
       "      <td>...</td>\n",
       "      <td>2009</td>\n",
       "      <td>1</td>\n",
       "      <td>6.96</td>\n",
       "      <td>Residência</td>\n",
       "      <td>Residencial horizontal - padrão A</td>\n",
       "      <td>Normal</td>\n",
       "      <td>0.86</td>\n",
       "      <td>2010</td>\n",
       "      <td>1</td>\n",
       "      <td>0</td>\n",
       "    </tr>\n",
       "    <tr>\n",
       "      <th>3333334</th>\n",
       "      <td>2482040021-3</td>\n",
       "      <td>2020</td>\n",
       "      <td>1</td>\n",
       "      <td>11/01/20</td>\n",
       "      <td>PESSOA FISICA (CPF)</td>\n",
       "      <td>XXXXXX2621XXXX</td>\n",
       "      <td>ANTONIO DAMIAO JULIO</td>\n",
       "      <td>NaN</td>\n",
       "      <td></td>\n",
       "      <td>NaN</td>\n",
       "      <td>...</td>\n",
       "      <td>2009</td>\n",
       "      <td>1</td>\n",
       "      <td>6.02</td>\n",
       "      <td>Residência</td>\n",
       "      <td>Residencial horizontal - padrão A</td>\n",
       "      <td>Normal</td>\n",
       "      <td>0.86</td>\n",
       "      <td>2010</td>\n",
       "      <td>1</td>\n",
       "      <td>0</td>\n",
       "    </tr>\n",
       "  </tbody>\n",
       "</table>\n",
       "<p>2 rows × 35 columns</p>\n",
       "</div>"
      ],
      "text/plain": [
       "        NUMERO DO CONTRIBUINTE  ANO DO EXERCICIO  NUMERO DA NL  \\\n",
       "3333333           2482040020-5              2020             1   \n",
       "3333334           2482040021-3              2020             1   \n",
       "\n",
       "        DATA DO CADASTRAMENTO TIPO DE CONTRIBUINTE 1  \\\n",
       "3333333              11/01/20    PESSOA FISICA (CPF)   \n",
       "3333334              11/01/20    PESSOA FISICA (CPF)   \n",
       "\n",
       "        CPF/CNPJ DO CONTRIBUINTE 1 NOME DO CONTRIBUINTE 1  \\\n",
       "3333333             XXXXXX4740XXXX  ANTONIO JOSE DA SILVA   \n",
       "3333334             XXXXXX2621XXXX   ANTONIO DAMIAO JULIO   \n",
       "\n",
       "        TIPO DE CONTRIBUINTE 2 CPF/CNPJ DO CONTRIBUINTE 2  \\\n",
       "3333333                    NaN                              \n",
       "3333334                    NaN                              \n",
       "\n",
       "        NOME DO CONTRIBUINTE 2  ... ANO DA CONSTRUCAO CORRIGIDO  \\\n",
       "3333333                    NaN  ...                        2009   \n",
       "3333334                    NaN  ...                        2009   \n",
       "\n",
       "        QUANTIDADE DE PAVIMENTOS TESTADA PARA CALCULO  TIPO DE USO DO IMOVEL  \\\n",
       "3333333                        1                 6.96             Residência   \n",
       "3333334                        1                 6.02             Residência   \n",
       "\n",
       "              TIPO DE PADRAO DA CONSTRUCAO TIPO DE TERRENO  \\\n",
       "3333333  Residencial horizontal - padrão A          Normal   \n",
       "3333334  Residencial horizontal - padrão A          Normal   \n",
       "\n",
       "        FATOR DE OBSOLESCENCIA ANO DE INICIO DA VIDA DO CONTRIBUINTE  \\\n",
       "3333333                   0.86                                  2010   \n",
       "3333334                   0.86                                  2010   \n",
       "\n",
       "         MES DE INICIO DA VIDA DO CONTRIBUINTE  FASE DO CONTRIBUINTE  \n",
       "3333333                                      1                     0  \n",
       "3333334                                      1                     0  \n",
       "\n",
       "[2 rows x 35 columns]"
      ]
     },
     "execution_count": 27,
     "metadata": {},
     "output_type": "execute_result"
    }
   ],
   "source": [
    "df_iptu.iloc[3333333:3333335]"
   ]
  },
  {
   "cell_type": "code",
   "execution_count": 28,
   "metadata": {},
   "outputs": [
    {
     "data": {
      "text/html": [
       "<pre>✔️ 219 ms (2021-01-26T10:29:02/2021-01-26T10:29:02)</pre>"
      ],
      "text/plain": [
       "<IPython.core.display.HTML object>"
      ]
     },
     "metadata": {},
     "output_type": "display_data"
    },
    {
     "data": {
      "text/plain": [
       "array(['Loja',\n",
       "       'Prédio de apartamento, não em condomínio, de uso misto (apartamentos e escritórios e/ou consultórios), com ou sem loja (predominância residencial)',\n",
       "       'Loja e residência (predominância comercial)',\n",
       "       'Outras edificações de uso comercial, com utilização múltipla',\n",
       "       'Residência e outro uso (predominância residencial)', 'Residência',\n",
       "       'Prédio de escritório ou consultório, não em condomínio, com ou sem lojas',\n",
       "       'Residência coletiva, exclusive cortiço (mais de uma residência no lote)',\n",
       "       'Loja em edifício em condomínio (unidade autônoma)',\n",
       "       'Apartamento em condomínio',\n",
       "       'Outras edificações de uso especial, com utilização múltipla',\n",
       "       'Terreno',\n",
       "       'Garagem (unidade autônoma) em edifício em condomínio de uso exclusivamente residencial',\n",
       "       'Hotel, pensão ou hospedaria', 'Oficina',\n",
       "       'Armazéns gerais e depósitos', 'Indústria', 'Posto de serviço',\n",
       "       'Clube esportivo', 'Cortiço',\n",
       "       'Estação radioemissora, de televisão ou empresa jornalística',\n",
       "       'Outras edificações de uso coletivo, com utilização múltipla',\n",
       "       'Outras edificações de uso de serviço, com utilização múltipla',\n",
       "       'Prédio de apartamento, não em condomínio, de uso exclusivamente residencial',\n",
       "       'Templo', 'Garagem (exclusive em prédio em condomínio)',\n",
       "       'Escritório/consultório em condomínio (unidade autônoma)',\n",
       "       'Garagem (unidade autônoma) em edifício em condomínio de escritórios, consultórios ou misto',\n",
       "       'Hospital, ambulatório, casa de saúde e assemelhados',\n",
       "       'Garagem (unidade autônoma) de prédio de garagens', 'Escola',\n",
       "       'Cinema, teatro, casa de diversão, clube ou congênere',\n",
       "       'Prédio de escritório, não em condomínio, de uso misto (apartamentos e escritórios e/ou consultórios) com ou sem loja (predominância comercial)',\n",
       "       'Asilo, orfanato, creche, seminário ou convento',\n",
       "       'Flat de uso comercial (semelhante a hotel)',\n",
       "       'Flat residencial em condomínio'], dtype=object)"
      ]
     },
     "execution_count": 28,
     "metadata": {},
     "output_type": "execute_result"
    }
   ],
   "source": [
    "df_iptu['TIPO DE USO DO IMOVEL'].unique()"
   ]
  },
  {
   "cell_type": "code",
   "execution_count": 8,
   "metadata": {},
   "outputs": [
    {
     "data": {
      "text/plain": [
       "Index(['NUMERO DO CONTRIBUINTE', 'ANO DO EXERCICIO', 'NUMERO DA NL',\n",
       "       'DATA DO CADASTRAMENTO', 'TIPO DE CONTRIBUINTE 1',\n",
       "       'CPF/CNPJ DO CONTRIBUINTE 1', 'NOME DO CONTRIBUINTE 1',\n",
       "       'TIPO DE CONTRIBUINTE 2', 'CPF/CNPJ DO CONTRIBUINTE 2',\n",
       "       'NOME DO CONTRIBUINTE 2', 'NUMERO DO CONDOMINIO', 'CODLOG DO IMOVEL',\n",
       "       'NOME DE LOGRADOURO DO IMOVEL', 'NUMERO DO IMOVEL',\n",
       "       'COMPLEMENTO DO IMOVEL', 'BAIRRO DO IMOVEL', 'REFERENCIA DO IMOVEL',\n",
       "       'CEP DO IMOVEL', 'QUANTIDADE DE ESQUINAS/FRENTES', 'FRACAO IDEAL',\n",
       "       'AREA DO TERRENO', 'AREA CONSTRUIDA', 'AREA OCUPADA',\n",
       "       'VALOR DO M2 DO TERRENO', 'VALOR DO M2 DE CONSTRUCAO',\n",
       "       'ANO DA CONSTRUCAO CORRIGIDO', 'QUANTIDADE DE PAVIMENTOS',\n",
       "       'TESTADA PARA CALCULO', 'TIPO DE USO DO IMOVEL',\n",
       "       'TIPO DE PADRAO DA CONSTRUCAO', 'TIPO DE TERRENO',\n",
       "       'FATOR DE OBSOLESCENCIA', 'ANO DE INICIO DA VIDA DO CONTRIBUINTE',\n",
       "       'MES DE INICIO DA VIDA DO CONTRIBUINTE', 'FASE DO CONTRIBUINTE'],\n",
       "      dtype='object')"
      ]
     },
     "execution_count": 8,
     "metadata": {},
     "output_type": "execute_result"
    }
   ],
   "source": [
    "df_iptu.columns"
   ]
  },
  {
   "cell_type": "code",
   "execution_count": 23,
   "metadata": {},
   "outputs": [],
   "source": [
    "df_cep01 = df_iptu[df_iptu['CEP DO IMOVEL'].str[0:2] == '01']"
   ]
  },
  {
   "cell_type": "code",
   "execution_count": 29,
   "metadata": {},
   "outputs": [],
   "source": [
    "df_cep01.to_csv('resultados/iptu-2020-cep01.csv.gz', compression='gzip')"
   ]
  },
  {
   "cell_type": "code",
   "execution_count": null,
   "metadata": {},
   "outputs": [],
   "source": []
  }
 ],
 "metadata": {
  "celltoolbar": "Slideshow",
  "kernelspec": {
   "display_name": "Python 3",
   "language": "python",
   "name": "python3"
  },
  "language_info": {
   "codemirror_mode": {
    "name": "ipython",
    "version": 3
   },
   "file_extension": ".py",
   "mimetype": "text/x-python",
   "name": "python",
   "nbconvert_exporter": "python",
   "pygments_lexer": "ipython3",
   "version": "3.8.2"
  }
 },
 "nbformat": 4,
 "nbformat_minor": 4
}
