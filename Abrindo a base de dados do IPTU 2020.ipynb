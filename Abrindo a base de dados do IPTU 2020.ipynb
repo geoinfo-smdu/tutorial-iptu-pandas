{
 "cells": [
  {
   "cell_type": "code",
   "execution_count": 1,
   "metadata": {
    "slideshow": {
     "slide_type": "-"
    }
   },
   "outputs": [],
   "source": [
    "# Importando a bliblioteca pandas\n",
    "\n",
    "import pandas as pd"
   ]
  },
  {
   "cell_type": "code",
   "execution_count": 2,
   "metadata": {},
   "outputs": [
    {
     "data": {
      "text/html": [
       "<pre>✔️ 684 µs (2021-02-04T16:40:42/2021-02-04T16:40:42)</pre>"
      ],
      "text/plain": [
       "<IPython.core.display.HTML object>"
      ]
     },
     "metadata": {},
     "output_type": "display_data"
    }
   ],
   "source": [
    "# Carrengando um complemento para visualizar quanto tempo demoram as tarefas\n",
    "\n",
    "%load_ext autotime"
   ]
  },
  {
   "cell_type": "code",
   "execution_count": 3,
   "metadata": {},
   "outputs": [
    {
     "data": {
      "text/html": [
       "<pre>✔️ 20.7 s (2021-02-04T16:40:43/2021-02-04T16:41:03)</pre>"
      ],
      "text/plain": [
       "<IPython.core.display.HTML object>"
      ]
     },
     "metadata": {},
     "output_type": "display_data"
    }
   ],
   "source": [
    "# Carregando o conjunto de dados para uma variável em memória\n",
    "\n",
    "df_iptu = pd.read_csv('IPTU/IPTU_2020.zip', compression='zip', encoding='iso-8859-9', sep=';', decimal=',')"
   ]
  },
  {
   "cell_type": "code",
   "execution_count": 4,
   "metadata": {},
   "outputs": [
    {
     "data": {
      "text/html": [
       "<pre>✔️ 2.95 ms (2021-02-04T16:41:04/2021-02-04T16:41:04)</pre>"
      ],
      "text/plain": [
       "<IPython.core.display.HTML object>"
      ]
     },
     "metadata": {},
     "output_type": "display_data"
    },
    {
     "data": {
      "text/plain": [
       "Index(['NUMERO DO CONTRIBUINTE', 'ANO DO EXERCICIO', 'NUMERO DA NL',\n",
       "       'DATA DO CADASTRAMENTO', 'TIPO DE CONTRIBUINTE 1',\n",
       "       'CPF/CNPJ DO CONTRIBUINTE 1', 'NOME DO CONTRIBUINTE 1',\n",
       "       'TIPO DE CONTRIBUINTE 2', 'CPF/CNPJ DO CONTRIBUINTE 2',\n",
       "       'NOME DO CONTRIBUINTE 2', 'NUMERO DO CONDOMINIO', 'CODLOG DO IMOVEL',\n",
       "       'NOME DE LOGRADOURO DO IMOVEL', 'NUMERO DO IMOVEL',\n",
       "       'COMPLEMENTO DO IMOVEL', 'BAIRRO DO IMOVEL', 'REFERENCIA DO IMOVEL',\n",
       "       'CEP DO IMOVEL', 'QUANTIDADE DE ESQUINAS/FRENTES', 'FRACAO IDEAL',\n",
       "       'AREA DO TERRENO', 'AREA CONSTRUIDA', 'AREA OCUPADA',\n",
       "       'VALOR DO M2 DO TERRENO', 'VALOR DO M2 DE CONSTRUCAO',\n",
       "       'ANO DA CONSTRUCAO CORRIGIDO', 'QUANTIDADE DE PAVIMENTOS',\n",
       "       'TESTADA PARA CALCULO', 'TIPO DE USO DO IMOVEL',\n",
       "       'TIPO DE PADRAO DA CONSTRUCAO', 'TIPO DE TERRENO',\n",
       "       'FATOR DE OBSOLESCENCIA', 'ANO DE INICIO DA VIDA DO CONTRIBUINTE',\n",
       "       'MES DE INICIO DA VIDA DO CONTRIBUINTE', 'FASE DO CONTRIBUINTE'],\n",
       "      dtype='object')"
      ]
     },
     "execution_count": 4,
     "metadata": {},
     "output_type": "execute_result"
    }
   ],
   "source": [
    "df_iptu.columns"
   ]
  },
  {
   "cell_type": "code",
   "execution_count": 16,
   "metadata": {},
   "outputs": [
    {
     "data": {
      "text/html": [
       "<pre>✔️ 389 ms (2021-02-04T17:24:12/2021-02-04T17:24:12)</pre>"
      ],
      "text/plain": [
       "<IPython.core.display.HTML object>"
      ]
     },
     "metadata": {},
     "output_type": "display_data"
    },
    {
     "data": {
      "text/plain": [
       "array(['R  ESTELA'], dtype=object)"
      ]
     },
     "execution_count": 16,
     "metadata": {},
     "output_type": "execute_result"
    }
   ],
   "source": [
    "df_iptu[df_iptu['CEP DO IMOVEL'] == '04011-001']['NOME DE LOGRADOURO DO IMOVEL'].unique()"
   ]
  },
  {
   "cell_type": "code",
   "execution_count": null,
   "metadata": {},
   "outputs": [],
   "source": []
  },
  {
   "cell_type": "code",
   "execution_count": 8,
   "metadata": {},
   "outputs": [
    {
     "data": {
      "text/html": [
       "<pre>✔️ 21.1 ms (2021-01-27T10:46:20/2021-01-27T10:46:20)</pre>"
      ],
      "text/plain": [
       "<IPython.core.display.HTML object>"
      ]
     },
     "metadata": {},
     "output_type": "display_data"
    },
    {
     "data": {
      "text/html": [
       "<div>\n",
       "<style scoped>\n",
       "    .dataframe tbody tr th:only-of-type {\n",
       "        vertical-align: middle;\n",
       "    }\n",
       "\n",
       "    .dataframe tbody tr th {\n",
       "        vertical-align: top;\n",
       "    }\n",
       "\n",
       "    .dataframe thead th {\n",
       "        text-align: right;\n",
       "    }\n",
       "</style>\n",
       "<table border=\"1\" class=\"dataframe\">\n",
       "  <thead>\n",
       "    <tr style=\"text-align: right;\">\n",
       "      <th></th>\n",
       "      <th>NUMERO DO CONTRIBUINTE</th>\n",
       "      <th>ANO DO EXERCICIO</th>\n",
       "      <th>NUMERO DA NL</th>\n",
       "      <th>DATA DO CADASTRAMENTO</th>\n",
       "      <th>TIPO DE CONTRIBUINTE 1</th>\n",
       "      <th>CPF/CNPJ DO CONTRIBUINTE 1</th>\n",
       "      <th>NOME DO CONTRIBUINTE 1</th>\n",
       "      <th>TIPO DE CONTRIBUINTE 2</th>\n",
       "      <th>CPF/CNPJ DO CONTRIBUINTE 2</th>\n",
       "      <th>NOME DO CONTRIBUINTE 2</th>\n",
       "      <th>...</th>\n",
       "      <th>ANO DA CONSTRUCAO CORRIGIDO</th>\n",
       "      <th>QUANTIDADE DE PAVIMENTOS</th>\n",
       "      <th>TESTADA PARA CALCULO</th>\n",
       "      <th>TIPO DE USO DO IMOVEL</th>\n",
       "      <th>TIPO DE PADRAO DA CONSTRUCAO</th>\n",
       "      <th>TIPO DE TERRENO</th>\n",
       "      <th>FATOR DE OBSOLESCENCIA</th>\n",
       "      <th>ANO DE INICIO DA VIDA DO CONTRIBUINTE</th>\n",
       "      <th>MES DE INICIO DA VIDA DO CONTRIBUINTE</th>\n",
       "      <th>FASE DO CONTRIBUINTE</th>\n",
       "    </tr>\n",
       "  </thead>\n",
       "  <tbody>\n",
       "    <tr>\n",
       "      <th>3498639</th>\n",
       "      <td>3101180238-1</td>\n",
       "      <td>2020</td>\n",
       "      <td>1</td>\n",
       "      <td>11/01/20</td>\n",
       "      <td>PESSOA FISICA (CPF)</td>\n",
       "      <td>XXXXXX5127XXXX</td>\n",
       "      <td>CECILIA OTUKA</td>\n",
       "      <td>NaN</td>\n",
       "      <td></td>\n",
       "      <td>NaN</td>\n",
       "      <td>...</td>\n",
       "      <td>1978</td>\n",
       "      <td>5</td>\n",
       "      <td>0.0</td>\n",
       "      <td>Apartamento em condomínio</td>\n",
       "      <td>Residencial vertical - padrão B</td>\n",
       "      <td>De esquina</td>\n",
       "      <td>0.2</td>\n",
       "      <td>1985</td>\n",
       "      <td>1</td>\n",
       "      <td>0</td>\n",
       "    </tr>\n",
       "    <tr>\n",
       "      <th>3498640</th>\n",
       "      <td>3101180239-1</td>\n",
       "      <td>2020</td>\n",
       "      <td>1</td>\n",
       "      <td>11/01/20</td>\n",
       "      <td>PESSOA FISICA (CPF)</td>\n",
       "      <td>XXXXXX6436XXXX</td>\n",
       "      <td>JOSE ESTANISLAU CAMPOS MACHADO FILHO</td>\n",
       "      <td>NaN</td>\n",
       "      <td></td>\n",
       "      <td>NaN</td>\n",
       "      <td>...</td>\n",
       "      <td>1978</td>\n",
       "      <td>5</td>\n",
       "      <td>0.0</td>\n",
       "      <td>Apartamento em condomínio</td>\n",
       "      <td>Residencial vertical - padrão B</td>\n",
       "      <td>De esquina</td>\n",
       "      <td>0.2</td>\n",
       "      <td>1985</td>\n",
       "      <td>1</td>\n",
       "      <td>0</td>\n",
       "    </tr>\n",
       "    <tr>\n",
       "      <th>3498641</th>\n",
       "      <td>3101180240-3</td>\n",
       "      <td>2020</td>\n",
       "      <td>1</td>\n",
       "      <td>11/01/20</td>\n",
       "      <td>PESSOA FISICA (CPF)</td>\n",
       "      <td>XXXXXX6473XXXX</td>\n",
       "      <td>DOUGLAS MACEDO</td>\n",
       "      <td>PESSOA FISICA (CPF)</td>\n",
       "      <td>XXXXXX9655XXXX</td>\n",
       "      <td>JOICE FERNANDA PAIXAO MACEDO</td>\n",
       "      <td>...</td>\n",
       "      <td>1978</td>\n",
       "      <td>5</td>\n",
       "      <td>0.0</td>\n",
       "      <td>Apartamento em condomínio</td>\n",
       "      <td>Residencial vertical - padrão B</td>\n",
       "      <td>De esquina</td>\n",
       "      <td>0.2</td>\n",
       "      <td>1985</td>\n",
       "      <td>1</td>\n",
       "      <td>0</td>\n",
       "    </tr>\n",
       "    <tr>\n",
       "      <th>3498642</th>\n",
       "      <td>3101190001-4</td>\n",
       "      <td>2020</td>\n",
       "      <td>1</td>\n",
       "      <td>11/01/20</td>\n",
       "      <td>PESSOA JURIDICA (CNPJ)</td>\n",
       "      <td>XXXXXXXXXXXXXX</td>\n",
       "      <td>ESTADO DE SAO PAULO</td>\n",
       "      <td>NaN</td>\n",
       "      <td></td>\n",
       "      <td>NaN</td>\n",
       "      <td>...</td>\n",
       "      <td>0</td>\n",
       "      <td>0</td>\n",
       "      <td>0.0</td>\n",
       "      <td>Terreno</td>\n",
       "      <td>TERRENO</td>\n",
       "      <td>De esquina</td>\n",
       "      <td>0.0</td>\n",
       "      <td>1988</td>\n",
       "      <td>1</td>\n",
       "      <td>0</td>\n",
       "    </tr>\n",
       "    <tr>\n",
       "      <th>3498643</th>\n",
       "      <td>3101200001-7</td>\n",
       "      <td>2020</td>\n",
       "      <td>1</td>\n",
       "      <td>11/01/20</td>\n",
       "      <td>PESSOA JURIDICA (CNPJ)</td>\n",
       "      <td>XXXXXXXXXXXXXX</td>\n",
       "      <td>ESTADO DE SAO PAULO</td>\n",
       "      <td>NaN</td>\n",
       "      <td></td>\n",
       "      <td>NaN</td>\n",
       "      <td>...</td>\n",
       "      <td>0</td>\n",
       "      <td>0</td>\n",
       "      <td>500.0</td>\n",
       "      <td>Terreno</td>\n",
       "      <td>TERRENO</td>\n",
       "      <td>Normal</td>\n",
       "      <td>0.0</td>\n",
       "      <td>1988</td>\n",
       "      <td>1</td>\n",
       "      <td>0</td>\n",
       "    </tr>\n",
       "  </tbody>\n",
       "</table>\n",
       "<p>5 rows × 35 columns</p>\n",
       "</div>"
      ],
      "text/plain": [
       "        NUMERO DO CONTRIBUINTE  ANO DO EXERCICIO  NUMERO DA NL  \\\n",
       "3498639           3101180238-1              2020             1   \n",
       "3498640           3101180239-1              2020             1   \n",
       "3498641           3101180240-3              2020             1   \n",
       "3498642           3101190001-4              2020             1   \n",
       "3498643           3101200001-7              2020             1   \n",
       "\n",
       "        DATA DO CADASTRAMENTO  TIPO DE CONTRIBUINTE 1  \\\n",
       "3498639              11/01/20     PESSOA FISICA (CPF)   \n",
       "3498640              11/01/20     PESSOA FISICA (CPF)   \n",
       "3498641              11/01/20     PESSOA FISICA (CPF)   \n",
       "3498642              11/01/20  PESSOA JURIDICA (CNPJ)   \n",
       "3498643              11/01/20  PESSOA JURIDICA (CNPJ)   \n",
       "\n",
       "        CPF/CNPJ DO CONTRIBUINTE 1                NOME DO CONTRIBUINTE 1  \\\n",
       "3498639             XXXXXX5127XXXX                         CECILIA OTUKA   \n",
       "3498640             XXXXXX6436XXXX  JOSE ESTANISLAU CAMPOS MACHADO FILHO   \n",
       "3498641             XXXXXX6473XXXX                        DOUGLAS MACEDO   \n",
       "3498642             XXXXXXXXXXXXXX                   ESTADO DE SAO PAULO   \n",
       "3498643             XXXXXXXXXXXXXX                   ESTADO DE SAO PAULO   \n",
       "\n",
       "        TIPO DE CONTRIBUINTE 2 CPF/CNPJ DO CONTRIBUINTE 2  \\\n",
       "3498639                    NaN                              \n",
       "3498640                    NaN                              \n",
       "3498641    PESSOA FISICA (CPF)             XXXXXX9655XXXX   \n",
       "3498642                    NaN                              \n",
       "3498643                    NaN                              \n",
       "\n",
       "               NOME DO CONTRIBUINTE 2  ... ANO DA CONSTRUCAO CORRIGIDO  \\\n",
       "3498639                           NaN  ...                        1978   \n",
       "3498640                           NaN  ...                        1978   \n",
       "3498641  JOICE FERNANDA PAIXAO MACEDO  ...                        1978   \n",
       "3498642                           NaN  ...                           0   \n",
       "3498643                           NaN  ...                           0   \n",
       "\n",
       "        QUANTIDADE DE PAVIMENTOS TESTADA PARA CALCULO  \\\n",
       "3498639                        5                  0.0   \n",
       "3498640                        5                  0.0   \n",
       "3498641                        5                  0.0   \n",
       "3498642                        0                  0.0   \n",
       "3498643                        0                500.0   \n",
       "\n",
       "             TIPO DE USO DO IMOVEL     TIPO DE PADRAO DA CONSTRUCAO  \\\n",
       "3498639  Apartamento em condomínio  Residencial vertical - padrão B   \n",
       "3498640  Apartamento em condomínio  Residencial vertical - padrão B   \n",
       "3498641  Apartamento em condomínio  Residencial vertical - padrão B   \n",
       "3498642                    Terreno                          TERRENO   \n",
       "3498643                    Terreno                          TERRENO   \n",
       "\n",
       "        TIPO DE TERRENO FATOR DE OBSOLESCENCIA  \\\n",
       "3498639      De esquina                    0.2   \n",
       "3498640      De esquina                    0.2   \n",
       "3498641      De esquina                    0.2   \n",
       "3498642      De esquina                    0.0   \n",
       "3498643          Normal                    0.0   \n",
       "\n",
       "        ANO DE INICIO DA VIDA DO CONTRIBUINTE  \\\n",
       "3498639                                  1985   \n",
       "3498640                                  1985   \n",
       "3498641                                  1985   \n",
       "3498642                                  1988   \n",
       "3498643                                  1988   \n",
       "\n",
       "         MES DE INICIO DA VIDA DO CONTRIBUINTE  FASE DO CONTRIBUINTE  \n",
       "3498639                                      1                     0  \n",
       "3498640                                      1                     0  \n",
       "3498641                                      1                     0  \n",
       "3498642                                      1                     0  \n",
       "3498643                                      1                     0  \n",
       "\n",
       "[5 rows x 35 columns]"
      ]
     },
     "execution_count": 8,
     "metadata": {},
     "output_type": "execute_result"
    }
   ],
   "source": [
    "# Visualizando os cinco primeiros registros\n",
    "\n",
    "df_iptu.tail(5)"
   ]
  },
  {
   "cell_type": "code",
   "execution_count": 9,
   "metadata": {},
   "outputs": [
    {
     "data": {
      "text/html": [
       "<pre>✔️ 12.9 ms (2021-01-27T10:46:44/2021-01-27T10:46:44)</pre>"
      ],
      "text/plain": [
       "<IPython.core.display.HTML object>"
      ]
     },
     "metadata": {},
     "output_type": "display_data"
    },
    {
     "name": "stdout",
     "output_type": "stream",
     "text": [
      "<class 'pandas.core.frame.DataFrame'>\n",
      "RangeIndex: 3498644 entries, 0 to 3498643\n",
      "Data columns (total 35 columns):\n",
      " #   Column                                 Dtype  \n",
      "---  ------                                 -----  \n",
      " 0   NUMERO DO CONTRIBUINTE                 object \n",
      " 1   ANO DO EXERCICIO                       int64  \n",
      " 2   NUMERO DA NL                           int64  \n",
      " 3   DATA DO CADASTRAMENTO                  object \n",
      " 4   TIPO DE CONTRIBUINTE 1                 object \n",
      " 5   CPF/CNPJ DO CONTRIBUINTE 1             object \n",
      " 6   NOME DO CONTRIBUINTE 1                 object \n",
      " 7   TIPO DE CONTRIBUINTE 2                 object \n",
      " 8   CPF/CNPJ DO CONTRIBUINTE 2             object \n",
      " 9   NOME DO CONTRIBUINTE 2                 object \n",
      " 10  NUMERO DO CONDOMINIO                   object \n",
      " 11  CODLOG DO IMOVEL                       object \n",
      " 12  NOME DE LOGRADOURO DO IMOVEL           object \n",
      " 13  NUMERO DO IMOVEL                       float64\n",
      " 14  COMPLEMENTO DO IMOVEL                  object \n",
      " 15  BAIRRO DO IMOVEL                       object \n",
      " 16  REFERENCIA DO IMOVEL                   object \n",
      " 17  CEP DO IMOVEL                          object \n",
      " 18  QUANTIDADE DE ESQUINAS/FRENTES         int64  \n",
      " 19  FRACAO IDEAL                           float64\n",
      " 20  AREA DO TERRENO                        int64  \n",
      " 21  AREA CONSTRUIDA                        int64  \n",
      " 22  AREA OCUPADA                           int64  \n",
      " 23  VALOR DO M2 DO TERRENO                 float64\n",
      " 24  VALOR DO M2 DE CONSTRUCAO              float64\n",
      " 25  ANO DA CONSTRUCAO CORRIGIDO            int64  \n",
      " 26  QUANTIDADE DE PAVIMENTOS               int64  \n",
      " 27  TESTADA PARA CALCULO                   float64\n",
      " 28  TIPO DE USO DO IMOVEL                  object \n",
      " 29  TIPO DE PADRAO DA CONSTRUCAO           object \n",
      " 30  TIPO DE TERRENO                        object \n",
      " 31  FATOR DE OBSOLESCENCIA                 float64\n",
      " 32  ANO DE INICIO DA VIDA DO CONTRIBUINTE  int64  \n",
      " 33  MES DE INICIO DA VIDA DO CONTRIBUINTE  int64  \n",
      " 34  FASE DO CONTRIBUINTE                   int64  \n",
      "dtypes: float64(6), int64(11), object(18)\n",
      "memory usage: 934.2+ MB\n"
     ]
    }
   ],
   "source": [
    "# Como isso está na memória?\n",
    "\n",
    "df_iptu.info()"
   ]
  },
  {
   "cell_type": "code",
   "execution_count": 1,
   "metadata": {},
   "outputs": [],
   "source": [
    "a = 0\n"
   ]
  },
  {
   "cell_type": "code",
   "execution_count": 2,
   "metadata": {},
   "outputs": [
    {
     "ename": "TypeError",
     "evalue": "'int' object is not subscriptable",
     "output_type": "error",
     "traceback": [
      "\u001b[0;31m---------------------------------------------------------------------------\u001b[0m",
      "\u001b[0;31mTypeError\u001b[0m                                 Traceback (most recent call last)",
      "\u001b[0;32m<ipython-input-2-fc907be37984>\u001b[0m in \u001b[0;36m<module>\u001b[0;34m\u001b[0m\n\u001b[0;32m----> 1\u001b[0;31m \u001b[0ma\u001b[0m\u001b[0;34m[\u001b[0m\u001b[0;36m2\u001b[0m\u001b[0;34m]\u001b[0m\u001b[0;34m\u001b[0m\u001b[0;34m\u001b[0m\u001b[0m\n\u001b[0m",
      "\u001b[0;31mTypeError\u001b[0m: 'int' object is not subscriptable"
     ]
    }
   ],
   "source": []
  },
  {
   "cell_type": "code",
   "execution_count": null,
   "metadata": {},
   "outputs": [],
   "source": []
  },
  {
   "cell_type": "code",
   "execution_count": 9,
   "metadata": {},
   "outputs": [
    {
     "data": {
      "text/html": [
       "<pre>✔️ 10.6 ms (2021-01-26T15:13:33/2021-01-26T15:13:33)</pre>"
      ],
      "text/plain": [
       "<IPython.core.display.HTML object>"
      ]
     },
     "metadata": {},
     "output_type": "display_data"
    },
    {
     "data": {
      "text/plain": [
       "0          0010030001-4\n",
       "1          0010030002-2\n",
       "2          0010030003-0\n",
       "3          0010030004-9\n",
       "4          0010030005-7\n",
       "               ...     \n",
       "3498639    3101180238-1\n",
       "3498640    3101180239-1\n",
       "3498641    3101180240-3\n",
       "3498642    3101190001-4\n",
       "3498643    3101200001-7\n",
       "Name: NUMERO DO CONTRIBUINTE, Length: 3498644, dtype: object"
      ]
     },
     "execution_count": 9,
     "metadata": {},
     "output_type": "execute_result"
    }
   ],
   "source": [
    "# Listando dados em uma determinada coluna\n",
    "\n",
    "df_iptu['NUMERO DO CONTRIBUINTE']"
   ]
  },
  {
   "cell_type": "code",
   "execution_count": 12,
   "metadata": {},
   "outputs": [
    {
     "data": {
      "text/html": [
       "<pre>✔️ 24.6 ms (2021-01-27T10:50:39/2021-01-27T10:50:39)</pre>"
      ],
      "text/plain": [
       "<IPython.core.display.HTML object>"
      ]
     },
     "metadata": {},
     "output_type": "display_data"
    },
    {
     "data": {
      "text/plain": [
       "array([ 1,  2,  8,  4,  6,  3,  5,  0,  7,  9, 11, 12, 16, 10, 13, 21, 24,\n",
       "       20, 19, 17, 25, 30, 14, 15, 26, 18, 23, 45, 27, 28, 22, 39, 42, 36,\n",
       "       33, 31, 32, 34, 35, 29, 38, 37, 46, 43, 40, 41, 47, 50, 44])"
      ]
     },
     "execution_count": 12,
     "metadata": {},
     "output_type": "execute_result"
    }
   ],
   "source": [
    "# listando valores unicos\n",
    "\n",
    "df_iptu['QUANTIDADE DE PAVIMENTOS'].unique()"
   ]
  },
  {
   "cell_type": "code",
   "execution_count": 15,
   "metadata": {},
   "outputs": [
    {
     "data": {
      "text/html": [
       "<pre>✔️ 19.2 ms (2021-01-27T10:54:27/2021-01-27T10:54:27)</pre>"
      ],
      "text/plain": [
       "<IPython.core.display.HTML object>"
      ]
     },
     "metadata": {},
     "output_type": "display_data"
    },
    {
     "data": {
      "text/plain": [
       "[0,\n",
       " 1,\n",
       " 2,\n",
       " 3,\n",
       " 4,\n",
       " 5,\n",
       " 6,\n",
       " 7,\n",
       " 8,\n",
       " 9,\n",
       " 10,\n",
       " 11,\n",
       " 12,\n",
       " 13,\n",
       " 14,\n",
       " 15,\n",
       " 16,\n",
       " 17,\n",
       " 18,\n",
       " 19,\n",
       " 20,\n",
       " 21,\n",
       " 22,\n",
       " 23,\n",
       " 24,\n",
       " 25,\n",
       " 26,\n",
       " 27,\n",
       " 28,\n",
       " 29,\n",
       " 30,\n",
       " 31,\n",
       " 32,\n",
       " 33,\n",
       " 34,\n",
       " 35,\n",
       " 36,\n",
       " 37,\n",
       " 38,\n",
       " 39,\n",
       " 40,\n",
       " 41,\n",
       " 42,\n",
       " 43,\n",
       " 44,\n",
       " 45,\n",
       " 46,\n",
       " 47,\n",
       " 50]"
      ]
     },
     "execution_count": 15,
     "metadata": {},
     "output_type": "execute_result"
    }
   ],
   "source": [
    "# listando valores unicos agora em ordem\n",
    "\n",
    "sorted(df_iptu['QUANTIDADE DE PAVIMENTOS'].unique())"
   ]
  },
  {
   "cell_type": "code",
   "execution_count": 27,
   "metadata": {},
   "outputs": [
    {
     "data": {
      "text/html": [
       "<pre>✔️ 34.8 ms (2021-01-26T15:22:39/2021-01-26T15:22:40)</pre>"
      ],
      "text/plain": [
       "<IPython.core.display.HTML object>"
      ]
     },
     "metadata": {},
     "output_type": "display_data"
    },
    {
     "data": {
      "text/plain": [
       "2     787414\n",
       "1     745087\n",
       "5     136667\n",
       "14    123194\n",
       "9     113328\n",
       "0     109885\n",
       "17    106278\n",
       "15    102207\n",
       "16    101663\n",
       "13    101474\n",
       "19     94258\n",
       "18     92725\n",
       "4      89182\n",
       "11     75101\n",
       "12     73939\n",
       "3      69170\n",
       "20     68740\n",
       "21     65341\n",
       "10     54057\n",
       "22     52958\n",
       "23     46993\n",
       "26     37171\n",
       "25     34425\n",
       "8      34137\n",
       "24     33044\n",
       "28     31335\n",
       "27     28296\n",
       "29     23402\n",
       "7      18087\n",
       "6      14307\n",
       "30     11564\n",
       "37      4484\n",
       "35      4109\n",
       "31      2943\n",
       "33      2456\n",
       "36      1885\n",
       "39      1651\n",
       "32      1570\n",
       "34      1359\n",
       "38      1047\n",
       "45      1027\n",
       "42       379\n",
       "46       225\n",
       "41        39\n",
       "40        35\n",
       "43         2\n",
       "50         2\n",
       "44         1\n",
       "47         1\n",
       "Name: QUANTIDADE DE PAVIMENTOS, dtype: int64"
      ]
     },
     "execution_count": 27,
     "metadata": {},
     "output_type": "execute_result"
    }
   ],
   "source": [
    "# contando valores únicos\n",
    "\n",
    "df_iptu['QUANTIDADE DE PAVIMENTOS'].value_counts()"
   ]
  },
  {
   "cell_type": "code",
   "execution_count": 31,
   "metadata": {},
   "outputs": [
    {
     "data": {
      "text/html": [
       "<pre>✔️ 166 ms (2021-01-26T10:31:15/2021-01-26T10:31:15)</pre>"
      ],
      "text/plain": [
       "<IPython.core.display.HTML object>"
      ]
     },
     "metadata": {},
     "output_type": "display_data"
    },
    {
     "data": {
      "text/plain": [
       "<AxesSubplot:>"
      ]
     },
     "execution_count": 31,
     "metadata": {},
     "output_type": "execute_result"
    },
    {
     "data": {
      "image/png": "[encoded data removed]",
      "text/plain": [
       "<Figure size 432x288 with 1 Axes>"
      ]
     },
     "metadata": {
      "needs_background": "light"
     },
     "output_type": "display_data"
    }
   ],
   "source": [
    "df_iptu['QUANTIDADE DE PAVIMENTOS'].hist()"
   ]
  },
  {
   "cell_type": "code",
   "execution_count": 31,
   "metadata": {},
   "outputs": [
    {
     "data": {
      "text/html": [
       "<pre>✔️ 10.8 ms (2021-01-26T15:25:48/2021-01-26T15:25:48)</pre>"
      ],
      "text/plain": [
       "<IPython.core.display.HTML object>"
      ]
     },
     "metadata": {},
     "output_type": "display_data"
    },
    {
     "data": {
      "text/plain": [
       "0          False\n",
       "1          False\n",
       "2          False\n",
       "3          False\n",
       "4          False\n",
       "           ...  \n",
       "3498639    False\n",
       "3498640    False\n",
       "3498641    False\n",
       "3498642    False\n",
       "3498643    False\n",
       "Name: QUANTIDADE DE PAVIMENTOS, Length: 3498644, dtype: bool"
      ]
     },
     "execution_count": 31,
     "metadata": {},
     "output_type": "execute_result"
    }
   ],
   "source": [
    "# E se quisermos saber quais os registros com mais pavimentos?\n",
    "\n",
    "df_iptu['QUANTIDADE DE PAVIMENTOS'] == 50\n",
    "# (df_iptu['QUANTIDADE DE PAVIMENTOS'] == 50).value_counts()"
   ]
  },
  {
   "cell_type": "code",
   "execution_count": 32,
   "metadata": {},
   "outputs": [
    {
     "data": {
      "text/html": [
       "<pre>✔️ 29.1 ms (2021-01-26T15:26:22/2021-01-26T15:26:22)</pre>"
      ],
      "text/plain": [
       "<IPython.core.display.HTML object>"
      ]
     },
     "metadata": {},
     "output_type": "display_data"
    },
    {
     "data": {
      "text/html": [
       "<div>\n",
       "<style scoped>\n",
       "    .dataframe tbody tr th:only-of-type {\n",
       "        vertical-align: middle;\n",
       "    }\n",
       "\n",
       "    .dataframe tbody tr th {\n",
       "        vertical-align: top;\n",
       "    }\n",
       "\n",
       "    .dataframe thead th {\n",
       "        text-align: right;\n",
       "    }\n",
       "</style>\n",
       "<table border=\"1\" class=\"dataframe\">\n",
       "  <thead>\n",
       "    <tr style=\"text-align: right;\">\n",
       "      <th></th>\n",
       "      <th>NUMERO DO CONTRIBUINTE</th>\n",
       "      <th>ANO DO EXERCICIO</th>\n",
       "      <th>NUMERO DA NL</th>\n",
       "      <th>DATA DO CADASTRAMENTO</th>\n",
       "      <th>TIPO DE CONTRIBUINTE 1</th>\n",
       "      <th>CPF/CNPJ DO CONTRIBUINTE 1</th>\n",
       "      <th>NOME DO CONTRIBUINTE 1</th>\n",
       "      <th>TIPO DE CONTRIBUINTE 2</th>\n",
       "      <th>CPF/CNPJ DO CONTRIBUINTE 2</th>\n",
       "      <th>NOME DO CONTRIBUINTE 2</th>\n",
       "      <th>...</th>\n",
       "      <th>ANO DA CONSTRUCAO CORRIGIDO</th>\n",
       "      <th>QUANTIDADE DE PAVIMENTOS</th>\n",
       "      <th>TESTADA PARA CALCULO</th>\n",
       "      <th>TIPO DE USO DO IMOVEL</th>\n",
       "      <th>TIPO DE PADRAO DA CONSTRUCAO</th>\n",
       "      <th>TIPO DE TERRENO</th>\n",
       "      <th>FATOR DE OBSOLESCENCIA</th>\n",
       "      <th>ANO DE INICIO DA VIDA DO CONTRIBUINTE</th>\n",
       "      <th>MES DE INICIO DA VIDA DO CONTRIBUINTE</th>\n",
       "      <th>FASE DO CONTRIBUINTE</th>\n",
       "    </tr>\n",
       "  </thead>\n",
       "  <tbody>\n",
       "    <tr>\n",
       "      <th>2151058</th>\n",
       "      <td>1120560056-5</td>\n",
       "      <td>2020</td>\n",
       "      <td>1</td>\n",
       "      <td>11/01/20</td>\n",
       "      <td>PESSOA FISICA (CPF)</td>\n",
       "      <td>XXXXXX4746XXXX</td>\n",
       "      <td>LUIZ DINIZ DUARTE</td>\n",
       "      <td>PESSOA FISICA (CPF)</td>\n",
       "      <td>XXXXXX0842XXXX</td>\n",
       "      <td>ELISABETE NELLIS DE SOUZA ALMEIDA</td>\n",
       "      <td>...</td>\n",
       "      <td>1990</td>\n",
       "      <td>50</td>\n",
       "      <td>5.0</td>\n",
       "      <td>Residência</td>\n",
       "      <td>Residencial horizontal - padrão B</td>\n",
       "      <td>Normal</td>\n",
       "      <td>0.48</td>\n",
       "      <td>2011</td>\n",
       "      <td>1</td>\n",
       "      <td>0</td>\n",
       "    </tr>\n",
       "    <tr>\n",
       "      <th>2151059</th>\n",
       "      <td>1120560057-3</td>\n",
       "      <td>2020</td>\n",
       "      <td>1</td>\n",
       "      <td>11/01/20</td>\n",
       "      <td>PESSOA FISICA (CPF)</td>\n",
       "      <td>XXXXXX4746XXXX</td>\n",
       "      <td>LUIZ DINIZ DUARTE</td>\n",
       "      <td>PESSOA FISICA (CPF)</td>\n",
       "      <td>XXXXXX5237XXXX</td>\n",
       "      <td>GILDA JOANA BRITO</td>\n",
       "      <td>...</td>\n",
       "      <td>1990</td>\n",
       "      <td>50</td>\n",
       "      <td>5.0</td>\n",
       "      <td>Residência</td>\n",
       "      <td>Residencial horizontal - padrão B</td>\n",
       "      <td>Normal</td>\n",
       "      <td>0.48</td>\n",
       "      <td>2011</td>\n",
       "      <td>1</td>\n",
       "      <td>0</td>\n",
       "    </tr>\n",
       "  </tbody>\n",
       "</table>\n",
       "<p>2 rows × 35 columns</p>\n",
       "</div>"
      ],
      "text/plain": [
       "        NUMERO DO CONTRIBUINTE  ANO DO EXERCICIO  NUMERO DA NL  \\\n",
       "2151058           1120560056-5              2020             1   \n",
       "2151059           1120560057-3              2020             1   \n",
       "\n",
       "        DATA DO CADASTRAMENTO TIPO DE CONTRIBUINTE 1  \\\n",
       "2151058              11/01/20    PESSOA FISICA (CPF)   \n",
       "2151059              11/01/20    PESSOA FISICA (CPF)   \n",
       "\n",
       "        CPF/CNPJ DO CONTRIBUINTE 1 NOME DO CONTRIBUINTE 1  \\\n",
       "2151058             XXXXXX4746XXXX      LUIZ DINIZ DUARTE   \n",
       "2151059             XXXXXX4746XXXX      LUIZ DINIZ DUARTE   \n",
       "\n",
       "        TIPO DE CONTRIBUINTE 2 CPF/CNPJ DO CONTRIBUINTE 2  \\\n",
       "2151058    PESSOA FISICA (CPF)             XXXXXX0842XXXX   \n",
       "2151059    PESSOA FISICA (CPF)             XXXXXX5237XXXX   \n",
       "\n",
       "                    NOME DO CONTRIBUINTE 2  ... ANO DA CONSTRUCAO CORRIGIDO  \\\n",
       "2151058  ELISABETE NELLIS DE SOUZA ALMEIDA  ...                        1990   \n",
       "2151059                  GILDA JOANA BRITO  ...                        1990   \n",
       "\n",
       "        QUANTIDADE DE PAVIMENTOS TESTADA PARA CALCULO  TIPO DE USO DO IMOVEL  \\\n",
       "2151058                       50                  5.0             Residência   \n",
       "2151059                       50                  5.0             Residência   \n",
       "\n",
       "              TIPO DE PADRAO DA CONSTRUCAO TIPO DE TERRENO  \\\n",
       "2151058  Residencial horizontal - padrão B          Normal   \n",
       "2151059  Residencial horizontal - padrão B          Normal   \n",
       "\n",
       "        FATOR DE OBSOLESCENCIA ANO DE INICIO DA VIDA DO CONTRIBUINTE  \\\n",
       "2151058                   0.48                                  2011   \n",
       "2151059                   0.48                                  2011   \n",
       "\n",
       "         MES DE INICIO DA VIDA DO CONTRIBUINTE  FASE DO CONTRIBUINTE  \n",
       "2151058                                      1                     0  \n",
       "2151059                                      1                     0  \n",
       "\n",
       "[2 rows x 35 columns]"
      ]
     },
     "execution_count": 32,
     "metadata": {},
     "output_type": "execute_result"
    }
   ],
   "source": [
    "# Agora é só filtrar os registros que precisamos\n",
    "\n",
    "df_iptu[df_iptu['QUANTIDADE DE PAVIMENTOS'] == 50]"
   ]
  },
  {
   "cell_type": "code",
   "execution_count": 17,
   "metadata": {},
   "outputs": [
    {
     "data": {
      "text/html": [
       "<pre>✔️ 25.6 ms (2021-01-27T11:01:52/2021-01-27T11:01:52)</pre>"
      ],
      "text/plain": [
       "<IPython.core.display.HTML object>"
      ]
     },
     "metadata": {},
     "output_type": "display_data"
    },
    {
     "data": {
      "text/html": [
       "<div>\n",
       "<style scoped>\n",
       "    .dataframe tbody tr th:only-of-type {\n",
       "        vertical-align: middle;\n",
       "    }\n",
       "\n",
       "    .dataframe tbody tr th {\n",
       "        vertical-align: top;\n",
       "    }\n",
       "\n",
       "    .dataframe thead th {\n",
       "        text-align: right;\n",
       "    }\n",
       "</style>\n",
       "<table border=\"1\" class=\"dataframe\">\n",
       "  <thead>\n",
       "    <tr style=\"text-align: right;\">\n",
       "      <th></th>\n",
       "      <th>NUMERO DO CONTRIBUINTE</th>\n",
       "      <th>ANO DO EXERCICIO</th>\n",
       "      <th>NUMERO DA NL</th>\n",
       "      <th>DATA DO CADASTRAMENTO</th>\n",
       "      <th>TIPO DE CONTRIBUINTE 1</th>\n",
       "      <th>CPF/CNPJ DO CONTRIBUINTE 1</th>\n",
       "      <th>NOME DO CONTRIBUINTE 1</th>\n",
       "      <th>TIPO DE CONTRIBUINTE 2</th>\n",
       "      <th>CPF/CNPJ DO CONTRIBUINTE 2</th>\n",
       "      <th>NOME DO CONTRIBUINTE 2</th>\n",
       "      <th>NUMERO DO CONDOMINIO</th>\n",
       "      <th>CODLOG DO IMOVEL</th>\n",
       "      <th>NOME DE LOGRADOURO DO IMOVEL</th>\n",
       "      <th>NUMERO DO IMOVEL</th>\n",
       "      <th>COMPLEMENTO DO IMOVEL</th>\n",
       "      <th>BAIRRO DO IMOVEL</th>\n",
       "      <th>REFERENCIA DO IMOVEL</th>\n",
       "      <th>CEP DO IMOVEL</th>\n",
       "      <th>QUANTIDADE DE ESQUINAS/FRENTES</th>\n",
       "      <th>FRACAO IDEAL</th>\n",
       "      <th>AREA DO TERRENO</th>\n",
       "      <th>AREA CONSTRUIDA</th>\n",
       "      <th>AREA OCUPADA</th>\n",
       "      <th>VALOR DO M2 DO TERRENO</th>\n",
       "      <th>VALOR DO M2 DE CONSTRUCAO</th>\n",
       "      <th>ANO DA CONSTRUCAO CORRIGIDO</th>\n",
       "      <th>QUANTIDADE DE PAVIMENTOS</th>\n",
       "      <th>TESTADA PARA CALCULO</th>\n",
       "      <th>TIPO DE USO DO IMOVEL</th>\n",
       "      <th>TIPO DE PADRAO DA CONSTRUCAO</th>\n",
       "      <th>TIPO DE TERRENO</th>\n",
       "      <th>FATOR DE OBSOLESCENCIA</th>\n",
       "      <th>ANO DE INICIO DA VIDA DO CONTRIBUINTE</th>\n",
       "      <th>MES DE INICIO DA VIDA DO CONTRIBUINTE</th>\n",
       "      <th>FASE DO CONTRIBUINTE</th>\n",
       "    </tr>\n",
       "  </thead>\n",
       "  <tbody>\n",
       "    <tr>\n",
       "      <th>2151058</th>\n",
       "      <td>1120560056-5</td>\n",
       "      <td>2020</td>\n",
       "      <td>1</td>\n",
       "      <td>11/01/20</td>\n",
       "      <td>PESSOA FISICA (CPF)</td>\n",
       "      <td>XXXXXX4746XXXX</td>\n",
       "      <td>LUIZ DINIZ DUARTE</td>\n",
       "      <td>PESSOA FISICA (CPF)</td>\n",
       "      <td>XXXXXX0842XXXX</td>\n",
       "      <td>ELISABETE NELLIS DE SOUZA ALMEIDA</td>\n",
       "      <td>00-0</td>\n",
       "      <td>76478-7</td>\n",
       "      <td>R  ANTONIO DE SOUSA E CASTRO</td>\n",
       "      <td>171.0</td>\n",
       "      <td>NaN</td>\n",
       "      <td>NaN</td>\n",
       "      <td>LOTE A</td>\n",
       "      <td>08090-300</td>\n",
       "      <td>0</td>\n",
       "      <td>1.0</td>\n",
       "      <td>130</td>\n",
       "      <td>75</td>\n",
       "      <td>75</td>\n",
       "      <td>425.0</td>\n",
       "      <td>715.0</td>\n",
       "      <td>1990</td>\n",
       "      <td>50</td>\n",
       "      <td>5.0</td>\n",
       "      <td>Residência</td>\n",
       "      <td>Residencial horizontal - padrão B</td>\n",
       "      <td>Normal</td>\n",
       "      <td>0.48</td>\n",
       "      <td>2011</td>\n",
       "      <td>1</td>\n",
       "      <td>0</td>\n",
       "    </tr>\n",
       "    <tr>\n",
       "      <th>2151059</th>\n",
       "      <td>1120560057-3</td>\n",
       "      <td>2020</td>\n",
       "      <td>1</td>\n",
       "      <td>11/01/20</td>\n",
       "      <td>PESSOA FISICA (CPF)</td>\n",
       "      <td>XXXXXX4746XXXX</td>\n",
       "      <td>LUIZ DINIZ DUARTE</td>\n",
       "      <td>PESSOA FISICA (CPF)</td>\n",
       "      <td>XXXXXX5237XXXX</td>\n",
       "      <td>GILDA JOANA BRITO</td>\n",
       "      <td>00-0</td>\n",
       "      <td>76478-7</td>\n",
       "      <td>R  ANTONIO DE SOUSA E CASTRO</td>\n",
       "      <td>175.0</td>\n",
       "      <td>NaN</td>\n",
       "      <td>NaN</td>\n",
       "      <td>LOTE B</td>\n",
       "      <td>08090-300</td>\n",
       "      <td>0</td>\n",
       "      <td>1.0</td>\n",
       "      <td>130</td>\n",
       "      <td>75</td>\n",
       "      <td>75</td>\n",
       "      <td>425.0</td>\n",
       "      <td>715.0</td>\n",
       "      <td>1990</td>\n",
       "      <td>50</td>\n",
       "      <td>5.0</td>\n",
       "      <td>Residência</td>\n",
       "      <td>Residencial horizontal - padrão B</td>\n",
       "      <td>Normal</td>\n",
       "      <td>0.48</td>\n",
       "      <td>2011</td>\n",
       "      <td>1</td>\n",
       "      <td>0</td>\n",
       "    </tr>\n",
       "  </tbody>\n",
       "</table>\n",
       "</div>"
      ],
      "text/plain": [
       "        NUMERO DO CONTRIBUINTE  ANO DO EXERCICIO  NUMERO DA NL  \\\n",
       "2151058           1120560056-5              2020             1   \n",
       "2151059           1120560057-3              2020             1   \n",
       "\n",
       "        DATA DO CADASTRAMENTO TIPO DE CONTRIBUINTE 1  \\\n",
       "2151058              11/01/20    PESSOA FISICA (CPF)   \n",
       "2151059              11/01/20    PESSOA FISICA (CPF)   \n",
       "\n",
       "        CPF/CNPJ DO CONTRIBUINTE 1 NOME DO CONTRIBUINTE 1  \\\n",
       "2151058             XXXXXX4746XXXX      LUIZ DINIZ DUARTE   \n",
       "2151059             XXXXXX4746XXXX      LUIZ DINIZ DUARTE   \n",
       "\n",
       "        TIPO DE CONTRIBUINTE 2 CPF/CNPJ DO CONTRIBUINTE 2  \\\n",
       "2151058    PESSOA FISICA (CPF)             XXXXXX0842XXXX   \n",
       "2151059    PESSOA FISICA (CPF)             XXXXXX5237XXXX   \n",
       "\n",
       "                    NOME DO CONTRIBUINTE 2 NUMERO DO CONDOMINIO  \\\n",
       "2151058  ELISABETE NELLIS DE SOUZA ALMEIDA                 00-0   \n",
       "2151059                  GILDA JOANA BRITO                 00-0   \n",
       "\n",
       "        CODLOG DO IMOVEL  NOME DE LOGRADOURO DO IMOVEL  NUMERO DO IMOVEL  \\\n",
       "2151058          76478-7  R  ANTONIO DE SOUSA E CASTRO             171.0   \n",
       "2151059          76478-7  R  ANTONIO DE SOUSA E CASTRO             175.0   \n",
       "\n",
       "        COMPLEMENTO DO IMOVEL BAIRRO DO IMOVEL REFERENCIA DO IMOVEL  \\\n",
       "2151058                   NaN              NaN               LOTE A   \n",
       "2151059                   NaN              NaN               LOTE B   \n",
       "\n",
       "        CEP DO IMOVEL  QUANTIDADE DE ESQUINAS/FRENTES  FRACAO IDEAL  \\\n",
       "2151058     08090-300                               0           1.0   \n",
       "2151059     08090-300                               0           1.0   \n",
       "\n",
       "         AREA DO TERRENO  AREA CONSTRUIDA  AREA OCUPADA  \\\n",
       "2151058              130               75            75   \n",
       "2151059              130               75            75   \n",
       "\n",
       "         VALOR DO M2 DO TERRENO  VALOR DO M2 DE CONSTRUCAO  \\\n",
       "2151058                   425.0                      715.0   \n",
       "2151059                   425.0                      715.0   \n",
       "\n",
       "         ANO DA CONSTRUCAO CORRIGIDO  QUANTIDADE DE PAVIMENTOS  \\\n",
       "2151058                         1990                        50   \n",
       "2151059                         1990                        50   \n",
       "\n",
       "         TESTADA PARA CALCULO TIPO DE USO DO IMOVEL  \\\n",
       "2151058                   5.0            Residência   \n",
       "2151059                   5.0            Residência   \n",
       "\n",
       "              TIPO DE PADRAO DA CONSTRUCAO TIPO DE TERRENO  \\\n",
       "2151058  Residencial horizontal - padrão B          Normal   \n",
       "2151059  Residencial horizontal - padrão B          Normal   \n",
       "\n",
       "         FATOR DE OBSOLESCENCIA  ANO DE INICIO DA VIDA DO CONTRIBUINTE  \\\n",
       "2151058                    0.48                                   2011   \n",
       "2151059                    0.48                                   2011   \n",
       "\n",
       "         MES DE INICIO DA VIDA DO CONTRIBUINTE  FASE DO CONTRIBUINTE  \n",
       "2151058                                      1                     0  \n",
       "2151059                                      1                     0  "
      ]
     },
     "execution_count": 17,
     "metadata": {},
     "output_type": "execute_result"
    }
   ],
   "source": [
    "# Mas como fazer para ver as informações de todos os campos\n",
    "\n",
    "pd.set_option('display.max_columns', None)\n",
    "df_iptu[df_iptu['QUANTIDADE DE PAVIMENTOS'] >= 50]"
   ]
  },
  {
   "cell_type": "code",
   "execution_count": 18,
   "metadata": {},
   "outputs": [
    {
     "data": {
      "text/html": [
       "<pre>✔️ 434 µs (2021-01-27T11:02:47/2021-01-27T11:02:47)</pre>"
      ],
      "text/plain": [
       "<IPython.core.display.HTML object>"
      ]
     },
     "metadata": {},
     "output_type": "display_data"
    }
   ],
   "source": [
    "a = 1"
   ]
  },
  {
   "cell_type": "code",
   "execution_count": 23,
   "metadata": {},
   "outputs": [
    {
     "data": {
      "text/html": [
       "<pre>✔️ 2.38 ms (2021-01-27T11:03:30/2021-01-27T11:03:30)</pre>"
      ],
      "text/plain": [
       "<IPython.core.display.HTML object>"
      ]
     },
     "metadata": {},
     "output_type": "display_data"
    },
    {
     "data": {
      "text/plain": [
       "True"
      ]
     },
     "execution_count": 23,
     "metadata": {},
     "output_type": "execute_result"
    }
   ],
   "source": [
    "a != 0"
   ]
  },
  {
   "cell_type": "code",
   "execution_count": 41,
   "metadata": {},
   "outputs": [
    {
     "data": {
      "text/html": [
       "<pre>✔️ 28.2 ms (2021-01-26T16:07:10/2021-01-26T16:07:10)</pre>"
      ],
      "text/plain": [
       "<IPython.core.display.HTML object>"
      ]
     },
     "metadata": {},
     "output_type": "display_data"
    },
    {
     "data": {
      "text/html": [
       "<div>\n",
       "<style scoped>\n",
       "    .dataframe tbody tr th:only-of-type {\n",
       "        vertical-align: middle;\n",
       "    }\n",
       "\n",
       "    .dataframe tbody tr th {\n",
       "        vertical-align: top;\n",
       "    }\n",
       "\n",
       "    .dataframe thead th {\n",
       "        text-align: right;\n",
       "    }\n",
       "</style>\n",
       "<table border=\"1\" class=\"dataframe\">\n",
       "  <thead>\n",
       "    <tr style=\"text-align: right;\">\n",
       "      <th></th>\n",
       "      <th>NUMERO DO CONTRIBUINTE</th>\n",
       "      <th>ANO DO EXERCICIO</th>\n",
       "      <th>NUMERO DA NL</th>\n",
       "      <th>DATA DO CADASTRAMENTO</th>\n",
       "      <th>TIPO DE CONTRIBUINTE 1</th>\n",
       "      <th>CPF/CNPJ DO CONTRIBUINTE 1</th>\n",
       "      <th>NOME DO CONTRIBUINTE 1</th>\n",
       "      <th>TIPO DE CONTRIBUINTE 2</th>\n",
       "      <th>CPF/CNPJ DO CONTRIBUINTE 2</th>\n",
       "      <th>NOME DO CONTRIBUINTE 2</th>\n",
       "      <th>NUMERO DO CONDOMINIO</th>\n",
       "      <th>CODLOG DO IMOVEL</th>\n",
       "      <th>NOME DE LOGRADOURO DO IMOVEL</th>\n",
       "      <th>NUMERO DO IMOVEL</th>\n",
       "      <th>COMPLEMENTO DO IMOVEL</th>\n",
       "      <th>BAIRRO DO IMOVEL</th>\n",
       "      <th>REFERENCIA DO IMOVEL</th>\n",
       "      <th>CEP DO IMOVEL</th>\n",
       "      <th>QUANTIDADE DE ESQUINAS/FRENTES</th>\n",
       "      <th>FRACAO IDEAL</th>\n",
       "      <th>AREA DO TERRENO</th>\n",
       "      <th>AREA CONSTRUIDA</th>\n",
       "      <th>AREA OCUPADA</th>\n",
       "      <th>VALOR DO M2 DO TERRENO</th>\n",
       "      <th>VALOR DO M2 DE CONSTRUCAO</th>\n",
       "      <th>ANO DA CONSTRUCAO CORRIGIDO</th>\n",
       "      <th>QUANTIDADE DE PAVIMENTOS</th>\n",
       "      <th>TESTADA PARA CALCULO</th>\n",
       "      <th>TIPO DE USO DO IMOVEL</th>\n",
       "      <th>TIPO DE PADRAO DA CONSTRUCAO</th>\n",
       "      <th>TIPO DE TERRENO</th>\n",
       "      <th>FATOR DE OBSOLESCENCIA</th>\n",
       "      <th>ANO DE INICIO DA VIDA DO CONTRIBUINTE</th>\n",
       "      <th>MES DE INICIO DA VIDA DO CONTRIBUINTE</th>\n",
       "      <th>FASE DO CONTRIBUINTE</th>\n",
       "    </tr>\n",
       "  </thead>\n",
       "  <tbody>\n",
       "    <tr>\n",
       "      <th>1406873</th>\n",
       "      <td>0701480140-6</td>\n",
       "      <td>2020</td>\n",
       "      <td>1</td>\n",
       "      <td>11/01/20</td>\n",
       "      <td>PESSOA FISICA (CPF)</td>\n",
       "      <td>XXXXXX5577XXXX</td>\n",
       "      <td>EDUARDO EUGENIO DE BARROS</td>\n",
       "      <td>NaN</td>\n",
       "      <td></td>\n",
       "      <td>NaN</td>\n",
       "      <td>01-9</td>\n",
       "      <td>14426-6</td>\n",
       "      <td>R  NANAU</td>\n",
       "      <td>38.0</td>\n",
       "      <td>AP 31 AN 3</td>\n",
       "      <td>AGUA FRIA</td>\n",
       "      <td>ED SAMAMBAIA</td>\n",
       "      <td>02335-040</td>\n",
       "      <td>3</td>\n",
       "      <td>0.0071</td>\n",
       "      <td>15372</td>\n",
       "      <td>234</td>\n",
       "      <td>4928</td>\n",
       "      <td>1699.0</td>\n",
       "      <td>1918.0</td>\n",
       "      <td>1979</td>\n",
       "      <td>47</td>\n",
       "      <td>250.0</td>\n",
       "      <td>Apartamento em condomínio</td>\n",
       "      <td>Residencial vertical - padrão D</td>\n",
       "      <td>De duas ou mais</td>\n",
       "      <td>0.54</td>\n",
       "      <td>1980</td>\n",
       "      <td>1</td>\n",
       "      <td>0</td>\n",
       "    </tr>\n",
       "  </tbody>\n",
       "</table>\n",
       "</div>"
      ],
      "text/plain": [
       "        NUMERO DO CONTRIBUINTE  ANO DO EXERCICIO  NUMERO DA NL  \\\n",
       "1406873           0701480140-6              2020             1   \n",
       "\n",
       "        DATA DO CADASTRAMENTO TIPO DE CONTRIBUINTE 1  \\\n",
       "1406873              11/01/20    PESSOA FISICA (CPF)   \n",
       "\n",
       "        CPF/CNPJ DO CONTRIBUINTE 1     NOME DO CONTRIBUINTE 1  \\\n",
       "1406873             XXXXXX5577XXXX  EDUARDO EUGENIO DE BARROS   \n",
       "\n",
       "        TIPO DE CONTRIBUINTE 2 CPF/CNPJ DO CONTRIBUINTE 2  \\\n",
       "1406873                    NaN                              \n",
       "\n",
       "        NOME DO CONTRIBUINTE 2 NUMERO DO CONDOMINIO CODLOG DO IMOVEL  \\\n",
       "1406873                    NaN                 01-9          14426-6   \n",
       "\n",
       "        NOME DE LOGRADOURO DO IMOVEL  NUMERO DO IMOVEL COMPLEMENTO DO IMOVEL  \\\n",
       "1406873                     R  NANAU              38.0            AP 31 AN 3   \n",
       "\n",
       "        BAIRRO DO IMOVEL REFERENCIA DO IMOVEL CEP DO IMOVEL  \\\n",
       "1406873        AGUA FRIA         ED SAMAMBAIA     02335-040   \n",
       "\n",
       "         QUANTIDADE DE ESQUINAS/FRENTES  FRACAO IDEAL  AREA DO TERRENO  \\\n",
       "1406873                               3        0.0071            15372   \n",
       "\n",
       "         AREA CONSTRUIDA  AREA OCUPADA  VALOR DO M2 DO TERRENO  \\\n",
       "1406873              234          4928                  1699.0   \n",
       "\n",
       "         VALOR DO M2 DE CONSTRUCAO  ANO DA CONSTRUCAO CORRIGIDO  \\\n",
       "1406873                     1918.0                         1979   \n",
       "\n",
       "         QUANTIDADE DE PAVIMENTOS  TESTADA PARA CALCULO  \\\n",
       "1406873                        47                 250.0   \n",
       "\n",
       "             TIPO DE USO DO IMOVEL     TIPO DE PADRAO DA CONSTRUCAO  \\\n",
       "1406873  Apartamento em condomínio  Residencial vertical - padrão D   \n",
       "\n",
       "          TIPO DE TERRENO  FATOR DE OBSOLESCENCIA  \\\n",
       "1406873  De duas ou mais                     0.54   \n",
       "\n",
       "         ANO DE INICIO DA VIDA DO CONTRIBUINTE  \\\n",
       "1406873                                   1980   \n",
       "\n",
       "         MES DE INICIO DA VIDA DO CONTRIBUINTE  FASE DO CONTRIBUINTE  \n",
       "1406873                                      1                     0  "
      ]
     },
     "execution_count": 41,
     "metadata": {},
     "output_type": "execute_result"
    }
   ],
   "source": [
    "# Vamos ver os registros com mais de 47 pavimentos\n",
    "\n",
    "df_iptu[df_iptu['QUANTIDADE DE PAVIMENTOS'] == 47]"
   ]
  },
  {
   "cell_type": "code",
   "execution_count": 53,
   "metadata": {},
   "outputs": [
    {
     "data": {
      "text/html": [
       "<pre>✔️ 1.94 s (2021-01-26T16:19:07/2021-01-26T16:19:09)</pre>"
      ],
      "text/plain": [
       "<IPython.core.display.HTML object>"
      ]
     },
     "metadata": {},
     "output_type": "display_data"
    },
    {
     "data": {
      "text/html": [
       "<div>\n",
       "<style scoped>\n",
       "    .dataframe tbody tr th:only-of-type {\n",
       "        vertical-align: middle;\n",
       "    }\n",
       "\n",
       "    .dataframe tbody tr th {\n",
       "        vertical-align: top;\n",
       "    }\n",
       "\n",
       "    .dataframe thead th {\n",
       "        text-align: right;\n",
       "    }\n",
       "</style>\n",
       "<table border=\"1\" class=\"dataframe\">\n",
       "  <thead>\n",
       "    <tr style=\"text-align: right;\">\n",
       "      <th></th>\n",
       "      <th>NUMERO DO CONTRIBUINTE</th>\n",
       "      <th>ANO DO EXERCICIO</th>\n",
       "      <th>NUMERO DA NL</th>\n",
       "      <th>DATA DO CADASTRAMENTO</th>\n",
       "      <th>TIPO DE CONTRIBUINTE 1</th>\n",
       "      <th>CPF/CNPJ DO CONTRIBUINTE 1</th>\n",
       "      <th>NOME DO CONTRIBUINTE 1</th>\n",
       "      <th>TIPO DE CONTRIBUINTE 2</th>\n",
       "      <th>CPF/CNPJ DO CONTRIBUINTE 2</th>\n",
       "      <th>NOME DO CONTRIBUINTE 2</th>\n",
       "      <th>NUMERO DO CONDOMINIO</th>\n",
       "      <th>CODLOG DO IMOVEL</th>\n",
       "      <th>NOME DE LOGRADOURO DO IMOVEL</th>\n",
       "      <th>NUMERO DO IMOVEL</th>\n",
       "      <th>COMPLEMENTO DO IMOVEL</th>\n",
       "      <th>BAIRRO DO IMOVEL</th>\n",
       "      <th>REFERENCIA DO IMOVEL</th>\n",
       "      <th>CEP DO IMOVEL</th>\n",
       "      <th>QUANTIDADE DE ESQUINAS/FRENTES</th>\n",
       "      <th>FRACAO IDEAL</th>\n",
       "      <th>AREA DO TERRENO</th>\n",
       "      <th>AREA CONSTRUIDA</th>\n",
       "      <th>AREA OCUPADA</th>\n",
       "      <th>VALOR DO M2 DO TERRENO</th>\n",
       "      <th>VALOR DO M2 DE CONSTRUCAO</th>\n",
       "      <th>ANO DA CONSTRUCAO CORRIGIDO</th>\n",
       "      <th>QUANTIDADE DE PAVIMENTOS</th>\n",
       "      <th>TESTADA PARA CALCULO</th>\n",
       "      <th>TIPO DE USO DO IMOVEL</th>\n",
       "      <th>TIPO DE PADRAO DA CONSTRUCAO</th>\n",
       "      <th>TIPO DE TERRENO</th>\n",
       "      <th>FATOR DE OBSOLESCENCIA</th>\n",
       "      <th>ANO DE INICIO DA VIDA DO CONTRIBUINTE</th>\n",
       "      <th>MES DE INICIO DA VIDA DO CONTRIBUINTE</th>\n",
       "      <th>FASE DO CONTRIBUINTE</th>\n",
       "    </tr>\n",
       "  </thead>\n",
       "  <tbody>\n",
       "    <tr>\n",
       "      <th>1406779</th>\n",
       "      <td>0701480046-9</td>\n",
       "      <td>2020</td>\n",
       "      <td>1</td>\n",
       "      <td>11/01/20</td>\n",
       "      <td>PESSOA FISICA (CPF)</td>\n",
       "      <td>XXXXXX0936XXXX</td>\n",
       "      <td>WALFRIDO DE CARVALHO</td>\n",
       "      <td>PESSOA FISICA (CPF)</td>\n",
       "      <td>XXXXXX6280XXXX</td>\n",
       "      <td>JOSE MOACYR DE PAULA</td>\n",
       "      <td>01-9</td>\n",
       "      <td>14426-6</td>\n",
       "      <td>R  NANAU</td>\n",
       "      <td>92.0</td>\n",
       "      <td>AP 11 AN 1</td>\n",
       "      <td>AGUA FRIA</td>\n",
       "      <td>ED MANACA</td>\n",
       "      <td>02335-040</td>\n",
       "      <td>3</td>\n",
       "      <td>0.0072</td>\n",
       "      <td>15372</td>\n",
       "      <td>234</td>\n",
       "      <td>4928</td>\n",
       "      <td>1699.0</td>\n",
       "      <td>1918.0</td>\n",
       "      <td>1979</td>\n",
       "      <td>17</td>\n",
       "      <td>250.0</td>\n",
       "      <td>Apartamento em condomínio</td>\n",
       "      <td>Residencial vertical - padrão D</td>\n",
       "      <td>De duas ou mais</td>\n",
       "      <td>0.54</td>\n",
       "      <td>1980</td>\n",
       "      <td>1</td>\n",
       "      <td>0</td>\n",
       "    </tr>\n",
       "    <tr>\n",
       "      <th>1406780</th>\n",
       "      <td>0701480047-7</td>\n",
       "      <td>2020</td>\n",
       "      <td>1</td>\n",
       "      <td>11/01/20</td>\n",
       "      <td>PESSOA FISICA (CPF)</td>\n",
       "      <td>XXXXXX9969XXXX</td>\n",
       "      <td>JOAO LUIS PRUDENTE DO AMARAL</td>\n",
       "      <td>NaN</td>\n",
       "      <td></td>\n",
       "      <td>NaN</td>\n",
       "      <td>01-9</td>\n",
       "      <td>14426-6</td>\n",
       "      <td>R  NANAU</td>\n",
       "      <td>92.0</td>\n",
       "      <td>AP 12 AN 1</td>\n",
       "      <td>AGUA FRIA</td>\n",
       "      <td>ED MANACA</td>\n",
       "      <td>02335-040</td>\n",
       "      <td>3</td>\n",
       "      <td>0.0072</td>\n",
       "      <td>15372</td>\n",
       "      <td>234</td>\n",
       "      <td>4928</td>\n",
       "      <td>1699.0</td>\n",
       "      <td>1918.0</td>\n",
       "      <td>1979</td>\n",
       "      <td>17</td>\n",
       "      <td>250.0</td>\n",
       "      <td>Apartamento em condomínio</td>\n",
       "      <td>Residencial vertical - padrão D</td>\n",
       "      <td>De duas ou mais</td>\n",
       "      <td>0.54</td>\n",
       "      <td>1980</td>\n",
       "      <td>1</td>\n",
       "      <td>0</td>\n",
       "    </tr>\n",
       "    <tr>\n",
       "      <th>1406781</th>\n",
       "      <td>0701480048-5</td>\n",
       "      <td>2020</td>\n",
       "      <td>1</td>\n",
       "      <td>11/01/20</td>\n",
       "      <td>PESSOA FISICA (CPF)</td>\n",
       "      <td>XXXXXX8284XXXX</td>\n",
       "      <td>AMADOR CORTELLINI</td>\n",
       "      <td>NaN</td>\n",
       "      <td></td>\n",
       "      <td>NaN</td>\n",
       "      <td>01-9</td>\n",
       "      <td>14426-6</td>\n",
       "      <td>R  NANAU</td>\n",
       "      <td>92.0</td>\n",
       "      <td>AP 21 AN 2</td>\n",
       "      <td>AGUA FRIA</td>\n",
       "      <td>ED MANACA</td>\n",
       "      <td>02335-040</td>\n",
       "      <td>3</td>\n",
       "      <td>0.0072</td>\n",
       "      <td>15372</td>\n",
       "      <td>234</td>\n",
       "      <td>4928</td>\n",
       "      <td>1699.0</td>\n",
       "      <td>1918.0</td>\n",
       "      <td>1979</td>\n",
       "      <td>17</td>\n",
       "      <td>250.0</td>\n",
       "      <td>Apartamento em condomínio</td>\n",
       "      <td>Residencial vertical - padrão D</td>\n",
       "      <td>De duas ou mais</td>\n",
       "      <td>0.54</td>\n",
       "      <td>1980</td>\n",
       "      <td>1</td>\n",
       "      <td>0</td>\n",
       "    </tr>\n",
       "    <tr>\n",
       "      <th>1406782</th>\n",
       "      <td>0701480049-3</td>\n",
       "      <td>2020</td>\n",
       "      <td>1</td>\n",
       "      <td>11/01/20</td>\n",
       "      <td>PESSOA FISICA (CPF)</td>\n",
       "      <td>XXXXXX9883XXXX</td>\n",
       "      <td>CHRISTIAN PIASON FREITAS</td>\n",
       "      <td>NaN</td>\n",
       "      <td></td>\n",
       "      <td>NaN</td>\n",
       "      <td>01-9</td>\n",
       "      <td>14426-6</td>\n",
       "      <td>R  NANAU</td>\n",
       "      <td>92.0</td>\n",
       "      <td>AP 22 AN 2</td>\n",
       "      <td>AGUA FRIA</td>\n",
       "      <td>ED MANACA</td>\n",
       "      <td>02335-040</td>\n",
       "      <td>3</td>\n",
       "      <td>0.0072</td>\n",
       "      <td>15372</td>\n",
       "      <td>234</td>\n",
       "      <td>4928</td>\n",
       "      <td>1699.0</td>\n",
       "      <td>1918.0</td>\n",
       "      <td>1979</td>\n",
       "      <td>17</td>\n",
       "      <td>250.0</td>\n",
       "      <td>Apartamento em condomínio</td>\n",
       "      <td>Residencial vertical - padrão D</td>\n",
       "      <td>De duas ou mais</td>\n",
       "      <td>0.54</td>\n",
       "      <td>1980</td>\n",
       "      <td>1</td>\n",
       "      <td>0</td>\n",
       "    </tr>\n",
       "    <tr>\n",
       "      <th>1406783</th>\n",
       "      <td>0701480050-7</td>\n",
       "      <td>2020</td>\n",
       "      <td>1</td>\n",
       "      <td>11/01/20</td>\n",
       "      <td>PESSOA FISICA (CPF)</td>\n",
       "      <td>XXXXXX8662XXXX</td>\n",
       "      <td>DARCY LOPES DE CARVALHO</td>\n",
       "      <td>PESSOA FISICA (CPF)</td>\n",
       "      <td>XXXXXX8431XXXX</td>\n",
       "      <td>ELIANA AYALA WALVERDE</td>\n",
       "      <td>01-9</td>\n",
       "      <td>14426-6</td>\n",
       "      <td>R  NANAU</td>\n",
       "      <td>92.0</td>\n",
       "      <td>AP 31 AN 3</td>\n",
       "      <td>AGUA FRIA</td>\n",
       "      <td>ED MANACA</td>\n",
       "      <td>02335-040</td>\n",
       "      <td>3</td>\n",
       "      <td>0.0072</td>\n",
       "      <td>15372</td>\n",
       "      <td>234</td>\n",
       "      <td>4928</td>\n",
       "      <td>1699.0</td>\n",
       "      <td>1918.0</td>\n",
       "      <td>1979</td>\n",
       "      <td>17</td>\n",
       "      <td>250.0</td>\n",
       "      <td>Apartamento em condomínio</td>\n",
       "      <td>Residencial vertical - padrão D</td>\n",
       "      <td>De duas ou mais</td>\n",
       "      <td>0.54</td>\n",
       "      <td>1980</td>\n",
       "      <td>1</td>\n",
       "      <td>0</td>\n",
       "    </tr>\n",
       "    <tr>\n",
       "      <th>...</th>\n",
       "      <td>...</td>\n",
       "      <td>...</td>\n",
       "      <td>...</td>\n",
       "      <td>...</td>\n",
       "      <td>...</td>\n",
       "      <td>...</td>\n",
       "      <td>...</td>\n",
       "      <td>...</td>\n",
       "      <td>...</td>\n",
       "      <td>...</td>\n",
       "      <td>...</td>\n",
       "      <td>...</td>\n",
       "      <td>...</td>\n",
       "      <td>...</td>\n",
       "      <td>...</td>\n",
       "      <td>...</td>\n",
       "      <td>...</td>\n",
       "      <td>...</td>\n",
       "      <td>...</td>\n",
       "      <td>...</td>\n",
       "      <td>...</td>\n",
       "      <td>...</td>\n",
       "      <td>...</td>\n",
       "      <td>...</td>\n",
       "      <td>...</td>\n",
       "      <td>...</td>\n",
       "      <td>...</td>\n",
       "      <td>...</td>\n",
       "      <td>...</td>\n",
       "      <td>...</td>\n",
       "      <td>...</td>\n",
       "      <td>...</td>\n",
       "      <td>...</td>\n",
       "      <td>...</td>\n",
       "      <td>...</td>\n",
       "    </tr>\n",
       "    <tr>\n",
       "      <th>1407132</th>\n",
       "      <td>0701480402-2</td>\n",
       "      <td>2020</td>\n",
       "      <td>1</td>\n",
       "      <td>11/01/20</td>\n",
       "      <td>PESSOA FISICA (CPF)</td>\n",
       "      <td>XXXXXX2526XXXX</td>\n",
       "      <td>ALUISIO CARLOS FABRICIO JUNIOR</td>\n",
       "      <td>NaN</td>\n",
       "      <td></td>\n",
       "      <td>NaN</td>\n",
       "      <td>01-9</td>\n",
       "      <td>04529-2</td>\n",
       "      <td>R  CASA FORTE</td>\n",
       "      <td>427.0</td>\n",
       "      <td>BX 57 SS</td>\n",
       "      <td>AGUA FRIA</td>\n",
       "      <td>ED FLAMBOYANT</td>\n",
       "      <td>02336-040</td>\n",
       "      <td>3</td>\n",
       "      <td>0.0004</td>\n",
       "      <td>15372</td>\n",
       "      <td>15</td>\n",
       "      <td>4928</td>\n",
       "      <td>1739.0</td>\n",
       "      <td>1663.0</td>\n",
       "      <td>1979</td>\n",
       "      <td>17</td>\n",
       "      <td>250.0</td>\n",
       "      <td>Garagem (unidade autônoma) em edifício em cond...</td>\n",
       "      <td>Residencial vertical - padrão C</td>\n",
       "      <td>De duas ou mais</td>\n",
       "      <td>0.54</td>\n",
       "      <td>1980</td>\n",
       "      <td>1</td>\n",
       "      <td>0</td>\n",
       "    </tr>\n",
       "    <tr>\n",
       "      <th>1407133</th>\n",
       "      <td>0701480403-0</td>\n",
       "      <td>2020</td>\n",
       "      <td>1</td>\n",
       "      <td>11/01/20</td>\n",
       "      <td>PESSOA FISICA (CPF)</td>\n",
       "      <td>XXXXXX2526XXXX</td>\n",
       "      <td>ALUISIO CARLOS FABRICIO JUNIOR</td>\n",
       "      <td>NaN</td>\n",
       "      <td></td>\n",
       "      <td>NaN</td>\n",
       "      <td>01-9</td>\n",
       "      <td>04529-2</td>\n",
       "      <td>R  CASA FORTE</td>\n",
       "      <td>427.0</td>\n",
       "      <td>BX 58 SS</td>\n",
       "      <td>AGUA FRIA</td>\n",
       "      <td>ED FLAMBOYANT</td>\n",
       "      <td>02336-040</td>\n",
       "      <td>3</td>\n",
       "      <td>0.0004</td>\n",
       "      <td>15372</td>\n",
       "      <td>15</td>\n",
       "      <td>4928</td>\n",
       "      <td>1739.0</td>\n",
       "      <td>1663.0</td>\n",
       "      <td>1979</td>\n",
       "      <td>17</td>\n",
       "      <td>250.0</td>\n",
       "      <td>Garagem (unidade autônoma) em edifício em cond...</td>\n",
       "      <td>Residencial vertical - padrão C</td>\n",
       "      <td>De duas ou mais</td>\n",
       "      <td>0.54</td>\n",
       "      <td>1980</td>\n",
       "      <td>1</td>\n",
       "      <td>0</td>\n",
       "    </tr>\n",
       "    <tr>\n",
       "      <th>1407134</th>\n",
       "      <td>0701480404-9</td>\n",
       "      <td>2020</td>\n",
       "      <td>1</td>\n",
       "      <td>11/01/20</td>\n",
       "      <td>PESSOA FISICA (CPF)</td>\n",
       "      <td>XXXXXX4375XXXX</td>\n",
       "      <td>ANTONIO MOURA</td>\n",
       "      <td>NaN</td>\n",
       "      <td></td>\n",
       "      <td>NaN</td>\n",
       "      <td>01-9</td>\n",
       "      <td>04529-2</td>\n",
       "      <td>R  CASA FORTE</td>\n",
       "      <td>427.0</td>\n",
       "      <td>BX 59 SS</td>\n",
       "      <td>AGUA FRIA</td>\n",
       "      <td>ED  FLAMBOYANT</td>\n",
       "      <td>02336-040</td>\n",
       "      <td>3</td>\n",
       "      <td>0.0004</td>\n",
       "      <td>15372</td>\n",
       "      <td>15</td>\n",
       "      <td>4928</td>\n",
       "      <td>1739.0</td>\n",
       "      <td>1663.0</td>\n",
       "      <td>1979</td>\n",
       "      <td>17</td>\n",
       "      <td>250.0</td>\n",
       "      <td>Garagem (unidade autônoma) em edifício em cond...</td>\n",
       "      <td>Residencial vertical - padrão C</td>\n",
       "      <td>De duas ou mais</td>\n",
       "      <td>0.54</td>\n",
       "      <td>1980</td>\n",
       "      <td>1</td>\n",
       "      <td>0</td>\n",
       "    </tr>\n",
       "    <tr>\n",
       "      <th>1407135</th>\n",
       "      <td>0701480405-7</td>\n",
       "      <td>2020</td>\n",
       "      <td>1</td>\n",
       "      <td>11/01/20</td>\n",
       "      <td>PESSOA FISICA (CPF)</td>\n",
       "      <td>XXXXXX4375XXXX</td>\n",
       "      <td>ANTONIO MOURA</td>\n",
       "      <td>NaN</td>\n",
       "      <td></td>\n",
       "      <td>NaN</td>\n",
       "      <td>01-9</td>\n",
       "      <td>04529-2</td>\n",
       "      <td>R  CASA FORTE</td>\n",
       "      <td>427.0</td>\n",
       "      <td>BX 60 SS</td>\n",
       "      <td>AGUA FRIA</td>\n",
       "      <td>ED FLAMBOYANT</td>\n",
       "      <td>02336-040</td>\n",
       "      <td>3</td>\n",
       "      <td>0.0004</td>\n",
       "      <td>15372</td>\n",
       "      <td>15</td>\n",
       "      <td>4928</td>\n",
       "      <td>1739.0</td>\n",
       "      <td>1663.0</td>\n",
       "      <td>1979</td>\n",
       "      <td>17</td>\n",
       "      <td>250.0</td>\n",
       "      <td>Garagem (unidade autônoma) em edifício em cond...</td>\n",
       "      <td>Residencial vertical - padrão C</td>\n",
       "      <td>De duas ou mais</td>\n",
       "      <td>0.54</td>\n",
       "      <td>1980</td>\n",
       "      <td>1</td>\n",
       "      <td>0</td>\n",
       "    </tr>\n",
       "    <tr>\n",
       "      <th>1407190</th>\n",
       "      <td>0701480461-8</td>\n",
       "      <td>2020</td>\n",
       "      <td>1</td>\n",
       "      <td>11/01/20</td>\n",
       "      <td>PESSOA FISICA (CPF)</td>\n",
       "      <td>XXXXXX8573XXXX</td>\n",
       "      <td>ALCIR BAPTISTA CAMILLO</td>\n",
       "      <td>NaN</td>\n",
       "      <td></td>\n",
       "      <td>NaN</td>\n",
       "      <td>01-9</td>\n",
       "      <td>20466-8</td>\n",
       "      <td>R CAP ALBERTO MENDES JUNIOR</td>\n",
       "      <td>521.0</td>\n",
       "      <td>AP 121 BX 45/46</td>\n",
       "      <td>AGUA FRIA</td>\n",
       "      <td>ED AVENCAS</td>\n",
       "      <td>02335-011</td>\n",
       "      <td>3</td>\n",
       "      <td>0.0080</td>\n",
       "      <td>15372</td>\n",
       "      <td>254</td>\n",
       "      <td>4928</td>\n",
       "      <td>1739.0</td>\n",
       "      <td>1918.0</td>\n",
       "      <td>1979</td>\n",
       "      <td>17</td>\n",
       "      <td>250.0</td>\n",
       "      <td>Apartamento em condomínio</td>\n",
       "      <td>Residencial vertical - padrão D</td>\n",
       "      <td>De duas ou mais</td>\n",
       "      <td>0.54</td>\n",
       "      <td>1992</td>\n",
       "      <td>1</td>\n",
       "      <td>0</td>\n",
       "    </tr>\n",
       "  </tbody>\n",
       "</table>\n",
       "<p>358 rows × 35 columns</p>\n",
       "</div>"
      ],
      "text/plain": [
       "        NUMERO DO CONTRIBUINTE  ANO DO EXERCICIO  NUMERO DA NL  \\\n",
       "1406779           0701480046-9              2020             1   \n",
       "1406780           0701480047-7              2020             1   \n",
       "1406781           0701480048-5              2020             1   \n",
       "1406782           0701480049-3              2020             1   \n",
       "1406783           0701480050-7              2020             1   \n",
       "...                        ...               ...           ...   \n",
       "1407132           0701480402-2              2020             1   \n",
       "1407133           0701480403-0              2020             1   \n",
       "1407134           0701480404-9              2020             1   \n",
       "1407135           0701480405-7              2020             1   \n",
       "1407190           0701480461-8              2020             1   \n",
       "\n",
       "        DATA DO CADASTRAMENTO TIPO DE CONTRIBUINTE 1  \\\n",
       "1406779              11/01/20    PESSOA FISICA (CPF)   \n",
       "1406780              11/01/20    PESSOA FISICA (CPF)   \n",
       "1406781              11/01/20    PESSOA FISICA (CPF)   \n",
       "1406782              11/01/20    PESSOA FISICA (CPF)   \n",
       "1406783              11/01/20    PESSOA FISICA (CPF)   \n",
       "...                       ...                    ...   \n",
       "1407132              11/01/20    PESSOA FISICA (CPF)   \n",
       "1407133              11/01/20    PESSOA FISICA (CPF)   \n",
       "1407134              11/01/20    PESSOA FISICA (CPF)   \n",
       "1407135              11/01/20    PESSOA FISICA (CPF)   \n",
       "1407190              11/01/20    PESSOA FISICA (CPF)   \n",
       "\n",
       "        CPF/CNPJ DO CONTRIBUINTE 1          NOME DO CONTRIBUINTE 1  \\\n",
       "1406779             XXXXXX0936XXXX            WALFRIDO DE CARVALHO   \n",
       "1406780             XXXXXX9969XXXX    JOAO LUIS PRUDENTE DO AMARAL   \n",
       "1406781             XXXXXX8284XXXX               AMADOR CORTELLINI   \n",
       "1406782             XXXXXX9883XXXX        CHRISTIAN PIASON FREITAS   \n",
       "1406783             XXXXXX8662XXXX         DARCY LOPES DE CARVALHO   \n",
       "...                            ...                             ...   \n",
       "1407132             XXXXXX2526XXXX  ALUISIO CARLOS FABRICIO JUNIOR   \n",
       "1407133             XXXXXX2526XXXX  ALUISIO CARLOS FABRICIO JUNIOR   \n",
       "1407134             XXXXXX4375XXXX                   ANTONIO MOURA   \n",
       "1407135             XXXXXX4375XXXX                   ANTONIO MOURA   \n",
       "1407190             XXXXXX8573XXXX          ALCIR BAPTISTA CAMILLO   \n",
       "\n",
       "        TIPO DE CONTRIBUINTE 2 CPF/CNPJ DO CONTRIBUINTE 2  \\\n",
       "1406779    PESSOA FISICA (CPF)             XXXXXX6280XXXX   \n",
       "1406780                    NaN                              \n",
       "1406781                    NaN                              \n",
       "1406782                    NaN                              \n",
       "1406783    PESSOA FISICA (CPF)             XXXXXX8431XXXX   \n",
       "...                        ...                        ...   \n",
       "1407132                    NaN                              \n",
       "1407133                    NaN                              \n",
       "1407134                    NaN                              \n",
       "1407135                    NaN                              \n",
       "1407190                    NaN                              \n",
       "\n",
       "        NOME DO CONTRIBUINTE 2 NUMERO DO CONDOMINIO CODLOG DO IMOVEL  \\\n",
       "1406779   JOSE MOACYR DE PAULA                 01-9          14426-6   \n",
       "1406780                    NaN                 01-9          14426-6   \n",
       "1406781                    NaN                 01-9          14426-6   \n",
       "1406782                    NaN                 01-9          14426-6   \n",
       "1406783  ELIANA AYALA WALVERDE                 01-9          14426-6   \n",
       "...                        ...                  ...              ...   \n",
       "1407132                    NaN                 01-9          04529-2   \n",
       "1407133                    NaN                 01-9          04529-2   \n",
       "1407134                    NaN                 01-9          04529-2   \n",
       "1407135                    NaN                 01-9          04529-2   \n",
       "1407190                    NaN                 01-9          20466-8   \n",
       "\n",
       "        NOME DE LOGRADOURO DO IMOVEL  NUMERO DO IMOVEL COMPLEMENTO DO IMOVEL  \\\n",
       "1406779                     R  NANAU              92.0            AP 11 AN 1   \n",
       "1406780                     R  NANAU              92.0            AP 12 AN 1   \n",
       "1406781                     R  NANAU              92.0            AP 21 AN 2   \n",
       "1406782                     R  NANAU              92.0            AP 22 AN 2   \n",
       "1406783                     R  NANAU              92.0            AP 31 AN 3   \n",
       "...                              ...               ...                   ...   \n",
       "1407132                R  CASA FORTE             427.0              BX 57 SS   \n",
       "1407133                R  CASA FORTE             427.0              BX 58 SS   \n",
       "1407134                R  CASA FORTE             427.0              BX 59 SS   \n",
       "1407135                R  CASA FORTE             427.0              BX 60 SS   \n",
       "1407190  R CAP ALBERTO MENDES JUNIOR             521.0       AP 121 BX 45/46   \n",
       "\n",
       "        BAIRRO DO IMOVEL REFERENCIA DO IMOVEL CEP DO IMOVEL  \\\n",
       "1406779        AGUA FRIA            ED MANACA     02335-040   \n",
       "1406780        AGUA FRIA            ED MANACA     02335-040   \n",
       "1406781        AGUA FRIA            ED MANACA     02335-040   \n",
       "1406782        AGUA FRIA            ED MANACA     02335-040   \n",
       "1406783        AGUA FRIA            ED MANACA     02335-040   \n",
       "...                  ...                  ...           ...   \n",
       "1407132        AGUA FRIA        ED FLAMBOYANT     02336-040   \n",
       "1407133        AGUA FRIA        ED FLAMBOYANT     02336-040   \n",
       "1407134        AGUA FRIA       ED  FLAMBOYANT     02336-040   \n",
       "1407135        AGUA FRIA        ED FLAMBOYANT     02336-040   \n",
       "1407190        AGUA FRIA           ED AVENCAS     02335-011   \n",
       "\n",
       "         QUANTIDADE DE ESQUINAS/FRENTES  FRACAO IDEAL  AREA DO TERRENO  \\\n",
       "1406779                               3        0.0072            15372   \n",
       "1406780                               3        0.0072            15372   \n",
       "1406781                               3        0.0072            15372   \n",
       "1406782                               3        0.0072            15372   \n",
       "1406783                               3        0.0072            15372   \n",
       "...                                 ...           ...              ...   \n",
       "1407132                               3        0.0004            15372   \n",
       "1407133                               3        0.0004            15372   \n",
       "1407134                               3        0.0004            15372   \n",
       "1407135                               3        0.0004            15372   \n",
       "1407190                               3        0.0080            15372   \n",
       "\n",
       "         AREA CONSTRUIDA  AREA OCUPADA  VALOR DO M2 DO TERRENO  \\\n",
       "1406779              234          4928                  1699.0   \n",
       "1406780              234          4928                  1699.0   \n",
       "1406781              234          4928                  1699.0   \n",
       "1406782              234          4928                  1699.0   \n",
       "1406783              234          4928                  1699.0   \n",
       "...                  ...           ...                     ...   \n",
       "1407132               15          4928                  1739.0   \n",
       "1407133               15          4928                  1739.0   \n",
       "1407134               15          4928                  1739.0   \n",
       "1407135               15          4928                  1739.0   \n",
       "1407190              254          4928                  1739.0   \n",
       "\n",
       "         VALOR DO M2 DE CONSTRUCAO  ANO DA CONSTRUCAO CORRIGIDO  \\\n",
       "1406779                     1918.0                         1979   \n",
       "1406780                     1918.0                         1979   \n",
       "1406781                     1918.0                         1979   \n",
       "1406782                     1918.0                         1979   \n",
       "1406783                     1918.0                         1979   \n",
       "...                            ...                          ...   \n",
       "1407132                     1663.0                         1979   \n",
       "1407133                     1663.0                         1979   \n",
       "1407134                     1663.0                         1979   \n",
       "1407135                     1663.0                         1979   \n",
       "1407190                     1918.0                         1979   \n",
       "\n",
       "         QUANTIDADE DE PAVIMENTOS  TESTADA PARA CALCULO  \\\n",
       "1406779                        17                 250.0   \n",
       "1406780                        17                 250.0   \n",
       "1406781                        17                 250.0   \n",
       "1406782                        17                 250.0   \n",
       "1406783                        17                 250.0   \n",
       "...                           ...                   ...   \n",
       "1407132                        17                 250.0   \n",
       "1407133                        17                 250.0   \n",
       "1407134                        17                 250.0   \n",
       "1407135                        17                 250.0   \n",
       "1407190                        17                 250.0   \n",
       "\n",
       "                                     TIPO DE USO DO IMOVEL  \\\n",
       "1406779                          Apartamento em condomínio   \n",
       "1406780                          Apartamento em condomínio   \n",
       "1406781                          Apartamento em condomínio   \n",
       "1406782                          Apartamento em condomínio   \n",
       "1406783                          Apartamento em condomínio   \n",
       "...                                                    ...   \n",
       "1407132  Garagem (unidade autônoma) em edifício em cond...   \n",
       "1407133  Garagem (unidade autônoma) em edifício em cond...   \n",
       "1407134  Garagem (unidade autônoma) em edifício em cond...   \n",
       "1407135  Garagem (unidade autônoma) em edifício em cond...   \n",
       "1407190                          Apartamento em condomínio   \n",
       "\n",
       "            TIPO DE PADRAO DA CONSTRUCAO   TIPO DE TERRENO  \\\n",
       "1406779  Residencial vertical - padrão D  De duas ou mais    \n",
       "1406780  Residencial vertical - padrão D  De duas ou mais    \n",
       "1406781  Residencial vertical - padrão D  De duas ou mais    \n",
       "1406782  Residencial vertical - padrão D  De duas ou mais    \n",
       "1406783  Residencial vertical - padrão D  De duas ou mais    \n",
       "...                                  ...               ...   \n",
       "1407132  Residencial vertical - padrão C  De duas ou mais    \n",
       "1407133  Residencial vertical - padrão C  De duas ou mais    \n",
       "1407134  Residencial vertical - padrão C  De duas ou mais    \n",
       "1407135  Residencial vertical - padrão C  De duas ou mais    \n",
       "1407190  Residencial vertical - padrão D  De duas ou mais    \n",
       "\n",
       "         FATOR DE OBSOLESCENCIA  ANO DE INICIO DA VIDA DO CONTRIBUINTE  \\\n",
       "1406779                    0.54                                   1980   \n",
       "1406780                    0.54                                   1980   \n",
       "1406781                    0.54                                   1980   \n",
       "1406782                    0.54                                   1980   \n",
       "1406783                    0.54                                   1980   \n",
       "...                         ...                                    ...   \n",
       "1407132                    0.54                                   1980   \n",
       "1407133                    0.54                                   1980   \n",
       "1407134                    0.54                                   1980   \n",
       "1407135                    0.54                                   1980   \n",
       "1407190                    0.54                                   1992   \n",
       "\n",
       "         MES DE INICIO DA VIDA DO CONTRIBUINTE  FASE DO CONTRIBUINTE  \n",
       "1406779                                      1                     0  \n",
       "1406780                                      1                     0  \n",
       "1406781                                      1                     0  \n",
       "1406782                                      1                     0  \n",
       "1406783                                      1                     0  \n",
       "...                                        ...                   ...  \n",
       "1407132                                      1                     0  \n",
       "1407133                                      1                     0  \n",
       "1407134                                      1                     0  \n",
       "1407135                                      1                     0  \n",
       "1407190                                      1                     0  \n",
       "\n",
       "[358 rows x 35 columns]"
      ]
     },
     "execution_count": 53,
     "metadata": {},
     "output_type": "execute_result"
    }
   ],
   "source": [
    "# RECURSO mais avançado, não precisa entender tudo\n",
    "# Podemos verificar como estão os registros dos outros condominos\n",
    "\n",
    "df_iptu[df_iptu['NUMERO DO CONTRIBUINTE'].str.match(r'070148[0-9]{4}-[0-9]') & \n",
    "        df_iptu['NUMERO DO CONDOMINIO'].str.match(r'01-[0-9]')]"
   ]
  },
  {
   "cell_type": "code",
   "execution_count": 54,
   "metadata": {},
   "outputs": [
    {
     "data": {
      "text/html": [
       "<pre>✔️ 1.97 s (2021-01-26T16:19:10/2021-01-26T16:19:12)</pre>"
      ],
      "text/plain": [
       "<IPython.core.display.HTML object>"
      ]
     },
     "metadata": {},
     "output_type": "display_data"
    },
    {
     "data": {
      "text/plain": [
       "17    357\n",
       "47      1\n",
       "Name: QUANTIDADE DE PAVIMENTOS, dtype: int64"
      ]
     },
     "execution_count": 54,
     "metadata": {},
     "output_type": "execute_result"
    }
   ],
   "source": [
    "df_iptu[df_iptu['NUMERO DO CONTRIBUINTE'].str.match(r'070148[0-9]{4}-[0-9]') & \n",
    "        df_iptu['NUMERO DO CONDOMINIO'].str.match(r'01-[0-9]')]['QUANTIDADE DE PAVIMENTOS'].value_counts()"
   ]
  },
  {
   "cell_type": "code",
   "execution_count": 55,
   "metadata": {},
   "outputs": [
    {
     "data": {
      "text/html": [
       "<pre>✔️ 237 ms (2021-01-26T16:23:01/2021-01-26T16:23:01)</pre>"
      ],
      "text/plain": [
       "<IPython.core.display.HTML object>"
      ]
     },
     "metadata": {},
     "output_type": "display_data"
    },
    {
     "data": {
      "text/plain": [
       "<AxesSubplot:>"
      ]
     },
     "execution_count": 55,
     "metadata": {},
     "output_type": "execute_result"
    },
    {
     "data": {
      "image/png": "[encoded data removed]",
      "text/plain": [
       "<Figure size 432x288 with 1 Axes>"
      ]
     },
     "metadata": {
      "needs_background": "light"
     },
     "output_type": "display_data"
    }
   ],
   "source": [
    "# Um bom exercício é repetir com ano de construção corrigido\n",
    "\n",
    "df_iptu['ANO DA CONSTRUCAO CORRIGIDO'].hist()"
   ]
  },
  {
   "cell_type": "code",
   "execution_count": 56,
   "metadata": {},
   "outputs": [
    {
     "data": {
      "text/html": [
       "<pre>✔️ 825 ms (2021-01-26T16:23:08/2021-01-26T16:23:09)</pre>"
      ],
      "text/plain": [
       "<IPython.core.display.HTML object>"
      ]
     },
     "metadata": {},
     "output_type": "display_data"
    },
    {
     "data": {
      "text/plain": [
       "<AxesSubplot:>"
      ]
     },
     "execution_count": 56,
     "metadata": {},
     "output_type": "execute_result"
    },
    {
     "data": {
      "image/png": "[encoded data removed]",
      "text/plain": [
       "<Figure size 432x288 with 1 Axes>"
      ]
     },
     "metadata": {
      "needs_background": "light"
     },
     "output_type": "display_data"
    }
   ],
   "source": [
    "df_iptu[df_iptu['ANO DA CONSTRUCAO CORRIGIDO'] > 1900]['ANO DA CONSTRUCAO CORRIGIDO'].hist()"
   ]
  },
  {
   "cell_type": "code",
   "execution_count": 57,
   "metadata": {},
   "outputs": [
    {
     "data": {
      "text/html": [
       "<pre>✔️ 2.05 s (2021-01-26T16:23:45/2021-01-26T16:23:47)</pre>"
      ],
      "text/plain": [
       "<IPython.core.display.HTML object>"
      ]
     },
     "metadata": {},
     "output_type": "display_data"
    },
    {
     "data": {
      "text/plain": [
       "<AxesSubplot:ylabel='Density'>"
      ]
     },
     "execution_count": 57,
     "metadata": {},
     "output_type": "execute_result"
    },
    {
     "data": {
      "image/png": "[encoded data removed]",
      "text/plain": [
       "<Figure size 432x288 with 1 Axes>"
      ]
     },
     "metadata": {
      "needs_background": "light"
     },
     "output_type": "display_data"
    }
   ],
   "source": [
    "# AVANÇADO, sem strees!!!\n",
    "df_iptu[df_iptu['ANO DA CONSTRUCAO CORRIGIDO'] > 0]['ANO DA CONSTRUCAO CORRIGIDO'].plot.kde(ind=[1900, 1910, 1920, 1930, 1940, 1950, 1960, 1970, 1980, 1990, 2000, 2010, 2020])"
   ]
  },
  {
   "cell_type": "code",
   "execution_count": 54,
   "metadata": {},
   "outputs": [
    {
     "data": {
      "text/html": [
       "<pre>✔️ 10.8 ms (2021-01-26T10:44:36/2021-01-26T10:44:36)</pre>"
      ],
      "text/plain": [
       "<IPython.core.display.HTML object>"
      ]
     },
     "metadata": {},
     "output_type": "display_data"
    },
    {
     "data": {
      "text/plain": [
       "[1900, 1910, 1920, 1930, 1940, 1950, 1960, 1970, 1980, 1990, 2000, 2010, 2020]"
      ]
     },
     "execution_count": 54,
     "metadata": {},
     "output_type": "execute_result"
    }
   ],
   "source": [
    "# um pouco de Python, por que a melhor característica de quem programa é ser preguiçoso\n",
    "\n",
    "list(range(1900, 2030, 10))"
   ]
  },
  {
   "cell_type": "code",
   "execution_count": 24,
   "metadata": {},
   "outputs": [
    {
     "data": {
      "text/html": [
       "<pre>✔️ 3.41 ms (2021-01-27T11:12:47/2021-01-27T11:12:47)</pre>"
      ],
      "text/plain": [
       "<IPython.core.display.HTML object>"
      ]
     },
     "metadata": {},
     "output_type": "display_data"
    },
    {
     "data": {
      "text/plain": [
       "[1900,\n",
       " 1905,\n",
       " 1910,\n",
       " 1915,\n",
       " 1920,\n",
       " 1925,\n",
       " 1930,\n",
       " 1935,\n",
       " 1940,\n",
       " 1945,\n",
       " 1950,\n",
       " 1955,\n",
       " 1960,\n",
       " 1965,\n",
       " 1970,\n",
       " 1975,\n",
       " 1980,\n",
       " 1985,\n",
       " 1990,\n",
       " 1995,\n",
       " 2000,\n",
       " 2005,\n",
       " 2010,\n",
       " 2015,\n",
       " 2020]"
      ]
     },
     "execution_count": 24,
     "metadata": {},
     "output_type": "execute_result"
    }
   ],
   "source": [
    "# Mas tb por que é mais fácil entender as intenções de código\n",
    "\n",
    "ano_de_inicio = 1900\n",
    "ano_final = 2021\n",
    "perido_em_anos = 5\n",
    "\n",
    "list(range(ano_de_inicio, ano_final, perido_em_anos))"
   ]
  },
  {
   "cell_type": "code",
   "execution_count": 25,
   "metadata": {},
   "outputs": [
    {
     "data": {
      "text/html": [
       "<pre>✔️ 2.9 s (2021-01-27T11:12:55/2021-01-27T11:12:58)</pre>"
      ],
      "text/plain": [
       "<IPython.core.display.HTML object>"
      ]
     },
     "metadata": {},
     "output_type": "display_data"
    },
    {
     "data": {
      "text/plain": [
       "<AxesSubplot:ylabel='Density'>"
      ]
     },
     "execution_count": 25,
     "metadata": {},
     "output_type": "execute_result"
    },
    {
     "data": {
      "image/png": "[encoded data removed]",
      "text/plain": [
       "<Figure size 432x288 with 1 Axes>"
      ]
     },
     "metadata": {
      "needs_background": "light"
     },
     "output_type": "display_data"
    }
   ],
   "source": [
    "# defino uma variável que expressa uma intenção, que tenha semântica\n",
    "iptus_depois_1900 = df_iptu['ANO DA CONSTRUCAO CORRIGIDO'] > 0\n",
    "\n",
    "df_iptu[iptus_depois_1900]['ANO DA CONSTRUCAO CORRIGIDO'].plot.kde(ind=list(range(ano_de_inicio, ano_final, perido_em_anos)))"
   ]
  },
  {
   "cell_type": "code",
   "execution_count": 61,
   "metadata": {},
   "outputs": [
    {
     "data": {
      "text/html": [
       "<pre>✔️ 186 ms (2021-01-26T16:30:57/2021-01-26T16:30:58)</pre>"
      ],
      "text/plain": [
       "<IPython.core.display.HTML object>"
      ]
     },
     "metadata": {},
     "output_type": "display_data"
    },
    {
     "data": {
      "text/html": [
       "<div>\n",
       "<style scoped>\n",
       "    .dataframe tbody tr th:only-of-type {\n",
       "        vertical-align: middle;\n",
       "    }\n",
       "\n",
       "    .dataframe tbody tr th {\n",
       "        vertical-align: top;\n",
       "    }\n",
       "\n",
       "    .dataframe thead th {\n",
       "        text-align: right;\n",
       "    }\n",
       "</style>\n",
       "<table border=\"1\" class=\"dataframe\">\n",
       "  <thead>\n",
       "    <tr style=\"text-align: right;\">\n",
       "      <th></th>\n",
       "      <th>NUMERO DO CONTRIBUINTE</th>\n",
       "      <th>ANO DO EXERCICIO</th>\n",
       "      <th>NUMERO DA NL</th>\n",
       "      <th>DATA DO CADASTRAMENTO</th>\n",
       "      <th>TIPO DE CONTRIBUINTE 1</th>\n",
       "      <th>CPF/CNPJ DO CONTRIBUINTE 1</th>\n",
       "      <th>NOME DO CONTRIBUINTE 1</th>\n",
       "      <th>TIPO DE CONTRIBUINTE 2</th>\n",
       "      <th>CPF/CNPJ DO CONTRIBUINTE 2</th>\n",
       "      <th>NOME DO CONTRIBUINTE 2</th>\n",
       "      <th>NUMERO DO CONDOMINIO</th>\n",
       "      <th>CODLOG DO IMOVEL</th>\n",
       "      <th>NOME DE LOGRADOURO DO IMOVEL</th>\n",
       "      <th>NUMERO DO IMOVEL</th>\n",
       "      <th>COMPLEMENTO DO IMOVEL</th>\n",
       "      <th>BAIRRO DO IMOVEL</th>\n",
       "      <th>REFERENCIA DO IMOVEL</th>\n",
       "      <th>CEP DO IMOVEL</th>\n",
       "      <th>QUANTIDADE DE ESQUINAS/FRENTES</th>\n",
       "      <th>FRACAO IDEAL</th>\n",
       "      <th>AREA DO TERRENO</th>\n",
       "      <th>AREA CONSTRUIDA</th>\n",
       "      <th>AREA OCUPADA</th>\n",
       "      <th>VALOR DO M2 DO TERRENO</th>\n",
       "      <th>VALOR DO M2 DE CONSTRUCAO</th>\n",
       "      <th>ANO DA CONSTRUCAO CORRIGIDO</th>\n",
       "      <th>QUANTIDADE DE PAVIMENTOS</th>\n",
       "      <th>TESTADA PARA CALCULO</th>\n",
       "      <th>TIPO DE USO DO IMOVEL</th>\n",
       "      <th>TIPO DE PADRAO DA CONSTRUCAO</th>\n",
       "      <th>TIPO DE TERRENO</th>\n",
       "      <th>FATOR DE OBSOLESCENCIA</th>\n",
       "      <th>ANO DE INICIO DA VIDA DO CONTRIBUINTE</th>\n",
       "      <th>MES DE INICIO DA VIDA DO CONTRIBUINTE</th>\n",
       "      <th>FASE DO CONTRIBUINTE</th>\n",
       "    </tr>\n",
       "  </thead>\n",
       "  <tbody>\n",
       "    <tr>\n",
       "      <th>48379</th>\n",
       "      <td>0050260001-2</td>\n",
       "      <td>2020</td>\n",
       "      <td>1</td>\n",
       "      <td>11/01/20</td>\n",
       "      <td>PESSOA JURIDICA (CNPJ)</td>\n",
       "      <td>XXXXXX2500XXXX</td>\n",
       "      <td>MITRA ARQUIDIOCESANA DE SAO PAULO</td>\n",
       "      <td>NaN</td>\n",
       "      <td></td>\n",
       "      <td>NaN</td>\n",
       "      <td>00-0</td>\n",
       "      <td>17545-5</td>\n",
       "      <td>PC DA SE</td>\n",
       "      <td>NaN</td>\n",
       "      <td>NaN</td>\n",
       "      <td>NaN</td>\n",
       "      <td>NaN</td>\n",
       "      <td>01001-000</td>\n",
       "      <td>2</td>\n",
       "      <td>1.0</td>\n",
       "      <td>5700</td>\n",
       "      <td>5700</td>\n",
       "      <td>5700</td>\n",
       "      <td>5510.0</td>\n",
       "      <td>2418.0</td>\n",
       "      <td>1959</td>\n",
       "      <td>1</td>\n",
       "      <td>0.0</td>\n",
       "      <td>Templo</td>\n",
       "      <td>Templo/Clube/Ginásio ou Estádio es</td>\n",
       "      <td>De esquina</td>\n",
       "      <td>0.2</td>\n",
       "      <td>1963</td>\n",
       "      <td>1</td>\n",
       "      <td>0</td>\n",
       "    </tr>\n",
       "  </tbody>\n",
       "</table>\n",
       "</div>"
      ],
      "text/plain": [
       "      NUMERO DO CONTRIBUINTE  ANO DO EXERCICIO  NUMERO DA NL  \\\n",
       "48379           0050260001-2              2020             1   \n",
       "\n",
       "      DATA DO CADASTRAMENTO  TIPO DE CONTRIBUINTE 1  \\\n",
       "48379              11/01/20  PESSOA JURIDICA (CNPJ)   \n",
       "\n",
       "      CPF/CNPJ DO CONTRIBUINTE 1             NOME DO CONTRIBUINTE 1  \\\n",
       "48379             XXXXXX2500XXXX  MITRA ARQUIDIOCESANA DE SAO PAULO   \n",
       "\n",
       "      TIPO DE CONTRIBUINTE 2 CPF/CNPJ DO CONTRIBUINTE 2  \\\n",
       "48379                    NaN                              \n",
       "\n",
       "      NOME DO CONTRIBUINTE 2 NUMERO DO CONDOMINIO CODLOG DO IMOVEL  \\\n",
       "48379                    NaN                 00-0          17545-5   \n",
       "\n",
       "      NOME DE LOGRADOURO DO IMOVEL  NUMERO DO IMOVEL COMPLEMENTO DO IMOVEL  \\\n",
       "48379                     PC DA SE               NaN                   NaN   \n",
       "\n",
       "      BAIRRO DO IMOVEL REFERENCIA DO IMOVEL CEP DO IMOVEL  \\\n",
       "48379              NaN                  NaN     01001-000   \n",
       "\n",
       "       QUANTIDADE DE ESQUINAS/FRENTES  FRACAO IDEAL  AREA DO TERRENO  \\\n",
       "48379                               2           1.0             5700   \n",
       "\n",
       "       AREA CONSTRUIDA  AREA OCUPADA  VALOR DO M2 DO TERRENO  \\\n",
       "48379             5700          5700                  5510.0   \n",
       "\n",
       "       VALOR DO M2 DE CONSTRUCAO  ANO DA CONSTRUCAO CORRIGIDO  \\\n",
       "48379                     2418.0                         1959   \n",
       "\n",
       "       QUANTIDADE DE PAVIMENTOS  TESTADA PARA CALCULO TIPO DE USO DO IMOVEL  \\\n",
       "48379                         1                   0.0                Templo   \n",
       "\n",
       "             TIPO DE PADRAO DA CONSTRUCAO TIPO DE TERRENO  \\\n",
       "48379  Templo/Clube/Ginásio ou Estádio es      De esquina   \n",
       "\n",
       "       FATOR DE OBSOLESCENCIA  ANO DE INICIO DA VIDA DO CONTRIBUINTE  \\\n",
       "48379                     0.2                                   1963   \n",
       "\n",
       "       MES DE INICIO DA VIDA DO CONTRIBUINTE  FASE DO CONTRIBUINTE  \n",
       "48379                                      1                     0  "
      ]
     },
     "execution_count": 61,
     "metadata": {},
     "output_type": "execute_result"
    }
   ],
   "source": [
    "# E se eu quiser localizar apenas um registro a partir de um SQL\n",
    "\n",
    "sql = '0050260001-2'\n",
    "\n",
    "df_iptu.loc[df_iptu['NUMERO DO CONTRIBUINTE'] == sql]"
   ]
  },
  {
   "cell_type": "code",
   "execution_count": 31,
   "metadata": {},
   "outputs": [
    {
     "data": {
      "text/html": [
       "<pre>✔️ 2.88 s (2021-01-27T11:40:09/2021-01-27T11:40:12)</pre>"
      ],
      "text/plain": [
       "<IPython.core.display.HTML object>"
      ]
     },
     "metadata": {},
     "output_type": "display_data"
    }
   ],
   "source": [
    "# Mas nem sempre eu tenho o dígito\n",
    "# Poderia usar Expressões Regulares, mas também posso criar novas colunas processadas\n",
    "\n",
    "df_iptu['Setor'] = df_iptu['NUMERO DO CONTRIBUINTE'].str[0:3]\n",
    "df_iptu['Quadra'] = df_iptu['NUMERO DO CONTRIBUINTE'].str[3:6]\n",
    "df_iptu['Lote'] = df_iptu['NUMERO DO CONTRIBUINTE'].str[6:10]"
   ]
  },
  {
   "cell_type": "code",
   "execution_count": 66,
   "metadata": {},
   "outputs": [
    {
     "data": {
      "text/html": [
       "<pre>✔️ 1.26 s (2021-01-26T16:37:13/2021-01-26T16:37:14)</pre>"
      ],
      "text/plain": [
       "<IPython.core.display.HTML object>"
      ]
     },
     "metadata": {},
     "output_type": "display_data"
    },
    {
     "data": {
      "text/html": [
       "<div>\n",
       "<style scoped>\n",
       "    .dataframe tbody tr th:only-of-type {\n",
       "        vertical-align: middle;\n",
       "    }\n",
       "\n",
       "    .dataframe tbody tr th {\n",
       "        vertical-align: top;\n",
       "    }\n",
       "\n",
       "    .dataframe thead th {\n",
       "        text-align: right;\n",
       "    }\n",
       "</style>\n",
       "<table border=\"1\" class=\"dataframe\">\n",
       "  <thead>\n",
       "    <tr style=\"text-align: right;\">\n",
       "      <th></th>\n",
       "      <th>Setor</th>\n",
       "      <th>Quadra</th>\n",
       "      <th>Lote</th>\n",
       "    </tr>\n",
       "  </thead>\n",
       "  <tbody>\n",
       "    <tr>\n",
       "      <th>0</th>\n",
       "      <td>001</td>\n",
       "      <td>003</td>\n",
       "      <td>0001</td>\n",
       "    </tr>\n",
       "    <tr>\n",
       "      <th>1</th>\n",
       "      <td>001</td>\n",
       "      <td>003</td>\n",
       "      <td>0002</td>\n",
       "    </tr>\n",
       "    <tr>\n",
       "      <th>2</th>\n",
       "      <td>001</td>\n",
       "      <td>003</td>\n",
       "      <td>0003</td>\n",
       "    </tr>\n",
       "    <tr>\n",
       "      <th>3</th>\n",
       "      <td>001</td>\n",
       "      <td>003</td>\n",
       "      <td>0004</td>\n",
       "    </tr>\n",
       "    <tr>\n",
       "      <th>4</th>\n",
       "      <td>001</td>\n",
       "      <td>003</td>\n",
       "      <td>0005</td>\n",
       "    </tr>\n",
       "    <tr>\n",
       "      <th>...</th>\n",
       "      <td>...</td>\n",
       "      <td>...</td>\n",
       "      <td>...</td>\n",
       "    </tr>\n",
       "    <tr>\n",
       "      <th>3498639</th>\n",
       "      <td>310</td>\n",
       "      <td>118</td>\n",
       "      <td>0238</td>\n",
       "    </tr>\n",
       "    <tr>\n",
       "      <th>3498640</th>\n",
       "      <td>310</td>\n",
       "      <td>118</td>\n",
       "      <td>0239</td>\n",
       "    </tr>\n",
       "    <tr>\n",
       "      <th>3498641</th>\n",
       "      <td>310</td>\n",
       "      <td>118</td>\n",
       "      <td>0240</td>\n",
       "    </tr>\n",
       "    <tr>\n",
       "      <th>3498642</th>\n",
       "      <td>310</td>\n",
       "      <td>119</td>\n",
       "      <td>0001</td>\n",
       "    </tr>\n",
       "    <tr>\n",
       "      <th>3498643</th>\n",
       "      <td>310</td>\n",
       "      <td>120</td>\n",
       "      <td>0001</td>\n",
       "    </tr>\n",
       "  </tbody>\n",
       "</table>\n",
       "<p>3498644 rows × 3 columns</p>\n",
       "</div>"
      ],
      "text/plain": [
       "        Setor Quadra  Lote\n",
       "0         001    003  0001\n",
       "1         001    003  0002\n",
       "2         001    003  0003\n",
       "3         001    003  0004\n",
       "4         001    003  0005\n",
       "...       ...    ...   ...\n",
       "3498639   310    118  0238\n",
       "3498640   310    118  0239\n",
       "3498641   310    118  0240\n",
       "3498642   310    119  0001\n",
       "3498643   310    120  0001\n",
       "\n",
       "[3498644 rows x 3 columns]"
      ]
     },
     "execution_count": 66,
     "metadata": {},
     "output_type": "execute_result"
    }
   ],
   "source": [
    "df_iptu[['Setor', 'Quadra', 'Lote']]"
   ]
  },
  {
   "cell_type": "code",
   "execution_count": 67,
   "metadata": {
    "scrolled": false
   },
   "outputs": [
    {
     "data": {
      "text/html": [
       "<pre>✔️ 217 ms (2021-01-26T16:39:46/2021-01-26T16:39:47)</pre>"
      ],
      "text/plain": [
       "<IPython.core.display.HTML object>"
      ]
     },
     "metadata": {},
     "output_type": "display_data"
    },
    {
     "data": {
      "text/plain": [
       "array(['Loja',\n",
       "       'Prédio de apartamento, não em condomínio, de uso misto (apartamentos e escritórios e/ou consultórios), com ou sem loja (predominância residencial)',\n",
       "       'Loja e residência (predominância comercial)',\n",
       "       'Outras edificações de uso comercial, com utilização múltipla',\n",
       "       'Residência e outro uso (predominância residencial)', 'Residência',\n",
       "       'Prédio de escritório ou consultório, não em condomínio, com ou sem lojas',\n",
       "       'Residência coletiva, exclusive cortiço (mais de uma residência no lote)',\n",
       "       'Loja em edifício em condomínio (unidade autônoma)',\n",
       "       'Apartamento em condomínio',\n",
       "       'Outras edificações de uso especial, com utilização múltipla',\n",
       "       'Terreno',\n",
       "       'Garagem (unidade autônoma) em edifício em condomínio de uso exclusivamente residencial',\n",
       "       'Hotel, pensão ou hospedaria', 'Oficina',\n",
       "       'Armazéns gerais e depósitos', 'Indústria', 'Posto de serviço',\n",
       "       'Clube esportivo', 'Cortiço',\n",
       "       'Estação radioemissora, de televisão ou empresa jornalística',\n",
       "       'Outras edificações de uso coletivo, com utilização múltipla',\n",
       "       'Outras edificações de uso de serviço, com utilização múltipla',\n",
       "       'Prédio de apartamento, não em condomínio, de uso exclusivamente residencial',\n",
       "       'Templo', 'Garagem (exclusive em prédio em condomínio)',\n",
       "       'Escritório/consultório em condomínio (unidade autônoma)',\n",
       "       'Garagem (unidade autônoma) em edifício em condomínio de escritórios, consultórios ou misto',\n",
       "       'Hospital, ambulatório, casa de saúde e assemelhados',\n",
       "       'Garagem (unidade autônoma) de prédio de garagens', 'Escola',\n",
       "       'Cinema, teatro, casa de diversão, clube ou congênere',\n",
       "       'Prédio de escritório, não em condomínio, de uso misto (apartamentos e escritórios e/ou consultórios) com ou sem loja (predominância comercial)',\n",
       "       'Asilo, orfanato, creche, seminário ou convento',\n",
       "       'Flat de uso comercial (semelhante a hotel)',\n",
       "       'Flat residencial em condomínio'], dtype=object)"
      ]
     },
     "execution_count": 67,
     "metadata": {},
     "output_type": "execute_result"
    }
   ],
   "source": [
    "# Temos diversos tipos de uso de imóvel\n",
    "# Suponhamos que seja interessante saber a área construída por cada tipo de uso\n",
    "\n",
    "df_iptu['TIPO DE USO DO IMOVEL'].unique()"
   ]
  },
  {
   "cell_type": "code",
   "execution_count": 147,
   "metadata": {},
   "outputs": [
    {
     "data": {
      "text/html": [
       "<pre>✔️ 247 ms (2021-01-26T18:00:33/2021-01-26T18:00:33)</pre>"
      ],
      "text/plain": [
       "<IPython.core.display.HTML object>"
      ]
     },
     "metadata": {},
     "output_type": "display_data"
    },
    {
     "data": {
      "text/html": [
       "<div>\n",
       "<style scoped>\n",
       "    .dataframe tbody tr th:only-of-type {\n",
       "        vertical-align: middle;\n",
       "    }\n",
       "\n",
       "    .dataframe tbody tr th {\n",
       "        vertical-align: top;\n",
       "    }\n",
       "\n",
       "    .dataframe thead th {\n",
       "        text-align: right;\n",
       "    }\n",
       "</style>\n",
       "<table border=\"1\" class=\"dataframe\">\n",
       "  <thead>\n",
       "    <tr style=\"text-align: right;\">\n",
       "      <th></th>\n",
       "      <th>TIPO DE USO DO IMOVEL</th>\n",
       "      <th>size</th>\n",
       "    </tr>\n",
       "  </thead>\n",
       "  <tbody>\n",
       "    <tr>\n",
       "      <th>0</th>\n",
       "      <td>Apartamento em condomínio</td>\n",
       "      <td>1363685</td>\n",
       "    </tr>\n",
       "    <tr>\n",
       "      <th>1</th>\n",
       "      <td>Armazéns gerais e depósitos</td>\n",
       "      <td>8612</td>\n",
       "    </tr>\n",
       "    <tr>\n",
       "      <th>2</th>\n",
       "      <td>Asilo, orfanato, creche, seminário ou convento</td>\n",
       "      <td>927</td>\n",
       "    </tr>\n",
       "    <tr>\n",
       "      <th>3</th>\n",
       "      <td>Cinema, teatro, casa de diversão, clube ou con...</td>\n",
       "      <td>569</td>\n",
       "    </tr>\n",
       "    <tr>\n",
       "      <th>4</th>\n",
       "      <td>Clube esportivo</td>\n",
       "      <td>563</td>\n",
       "    </tr>\n",
       "    <tr>\n",
       "      <th>5</th>\n",
       "      <td>Cortiço</td>\n",
       "      <td>1768</td>\n",
       "    </tr>\n",
       "    <tr>\n",
       "      <th>6</th>\n",
       "      <td>Escola</td>\n",
       "      <td>6941</td>\n",
       "    </tr>\n",
       "    <tr>\n",
       "      <th>7</th>\n",
       "      <td>Escritório/consultório em condomínio (unidade ...</td>\n",
       "      <td>138156</td>\n",
       "    </tr>\n",
       "    <tr>\n",
       "      <th>8</th>\n",
       "      <td>Estação radioemissora, de televisão ou empresa...</td>\n",
       "      <td>496</td>\n",
       "    </tr>\n",
       "    <tr>\n",
       "      <th>9</th>\n",
       "      <td>Flat de uso comercial (semelhante a hotel)</td>\n",
       "      <td>24239</td>\n",
       "    </tr>\n",
       "    <tr>\n",
       "      <th>10</th>\n",
       "      <td>Flat residencial em condomínio</td>\n",
       "      <td>4976</td>\n",
       "    </tr>\n",
       "    <tr>\n",
       "      <th>11</th>\n",
       "      <td>Garagem (exclusive em prédio em condomínio)</td>\n",
       "      <td>2714</td>\n",
       "    </tr>\n",
       "    <tr>\n",
       "      <th>12</th>\n",
       "      <td>Garagem (unidade autônoma) de prédio de garagens</td>\n",
       "      <td>9571</td>\n",
       "    </tr>\n",
       "    <tr>\n",
       "      <th>13</th>\n",
       "      <td>Garagem (unidade autônoma) em edifício em cond...</td>\n",
       "      <td>38221</td>\n",
       "    </tr>\n",
       "    <tr>\n",
       "      <th>14</th>\n",
       "      <td>Garagem (unidade autônoma) em edifício em cond...</td>\n",
       "      <td>196802</td>\n",
       "    </tr>\n",
       "    <tr>\n",
       "      <th>15</th>\n",
       "      <td>Hospital, ambulatório, casa de saúde e assemel...</td>\n",
       "      <td>1291</td>\n",
       "    </tr>\n",
       "    <tr>\n",
       "      <th>16</th>\n",
       "      <td>Hotel, pensão ou hospedaria</td>\n",
       "      <td>3939</td>\n",
       "    </tr>\n",
       "    <tr>\n",
       "      <th>17</th>\n",
       "      <td>Indústria</td>\n",
       "      <td>13334</td>\n",
       "    </tr>\n",
       "    <tr>\n",
       "      <th>18</th>\n",
       "      <td>Loja</td>\n",
       "      <td>54407</td>\n",
       "    </tr>\n",
       "    <tr>\n",
       "      <th>19</th>\n",
       "      <td>Loja e residência (predominância comercial)</td>\n",
       "      <td>45021</td>\n",
       "    </tr>\n",
       "    <tr>\n",
       "      <th>20</th>\n",
       "      <td>Loja em edifício em condomínio (unidade autônoma)</td>\n",
       "      <td>23589</td>\n",
       "    </tr>\n",
       "    <tr>\n",
       "      <th>21</th>\n",
       "      <td>Oficina</td>\n",
       "      <td>9983</td>\n",
       "    </tr>\n",
       "    <tr>\n",
       "      <th>22</th>\n",
       "      <td>Outras edificações de uso coletivo, com utiliz...</td>\n",
       "      <td>2935</td>\n",
       "    </tr>\n",
       "    <tr>\n",
       "      <th>23</th>\n",
       "      <td>Outras edificações de uso comercial, com utili...</td>\n",
       "      <td>21168</td>\n",
       "    </tr>\n",
       "    <tr>\n",
       "      <th>24</th>\n",
       "      <td>Outras edificações de uso de serviço, com util...</td>\n",
       "      <td>4959</td>\n",
       "    </tr>\n",
       "    <tr>\n",
       "      <th>25</th>\n",
       "      <td>Outras edificações de uso especial, com utiliz...</td>\n",
       "      <td>1267</td>\n",
       "    </tr>\n",
       "    <tr>\n",
       "      <th>26</th>\n",
       "      <td>Posto de serviço</td>\n",
       "      <td>2294</td>\n",
       "    </tr>\n",
       "    <tr>\n",
       "      <th>27</th>\n",
       "      <td>Prédio de apartamento, não em condomínio, de u...</td>\n",
       "      <td>2037</td>\n",
       "    </tr>\n",
       "    <tr>\n",
       "      <th>28</th>\n",
       "      <td>Prédio de apartamento, não em condomínio, de u...</td>\n",
       "      <td>2704</td>\n",
       "    </tr>\n",
       "    <tr>\n",
       "      <th>29</th>\n",
       "      <td>Prédio de escritório ou consultório, não em co...</td>\n",
       "      <td>24979</td>\n",
       "    </tr>\n",
       "    <tr>\n",
       "      <th>30</th>\n",
       "      <td>Prédio de escritório, não em condomínio, de us...</td>\n",
       "      <td>291</td>\n",
       "    </tr>\n",
       "    <tr>\n",
       "      <th>31</th>\n",
       "      <td>Residência</td>\n",
       "      <td>1081450</td>\n",
       "    </tr>\n",
       "    <tr>\n",
       "      <th>32</th>\n",
       "      <td>Residência coletiva, exclusive cortiço (mais d...</td>\n",
       "      <td>203816</td>\n",
       "    </tr>\n",
       "    <tr>\n",
       "      <th>33</th>\n",
       "      <td>Residência e outro uso (predominância residenc...</td>\n",
       "      <td>85255</td>\n",
       "    </tr>\n",
       "    <tr>\n",
       "      <th>34</th>\n",
       "      <td>Templo</td>\n",
       "      <td>5800</td>\n",
       "    </tr>\n",
       "    <tr>\n",
       "      <th>35</th>\n",
       "      <td>Terreno</td>\n",
       "      <td>109885</td>\n",
       "    </tr>\n",
       "  </tbody>\n",
       "</table>\n",
       "</div>"
      ],
      "text/plain": [
       "                                TIPO DE USO DO IMOVEL     size\n",
       "0                           Apartamento em condomínio  1363685\n",
       "1                         Armazéns gerais e depósitos     8612\n",
       "2      Asilo, orfanato, creche, seminário ou convento      927\n",
       "3   Cinema, teatro, casa de diversão, clube ou con...      569\n",
       "4                                     Clube esportivo      563\n",
       "5                                             Cortiço     1768\n",
       "6                                              Escola     6941\n",
       "7   Escritório/consultório em condomínio (unidade ...   138156\n",
       "8   Estação radioemissora, de televisão ou empresa...      496\n",
       "9          Flat de uso comercial (semelhante a hotel)    24239\n",
       "10                     Flat residencial em condomínio     4976\n",
       "11        Garagem (exclusive em prédio em condomínio)     2714\n",
       "12   Garagem (unidade autônoma) de prédio de garagens     9571\n",
       "13  Garagem (unidade autônoma) em edifício em cond...    38221\n",
       "14  Garagem (unidade autônoma) em edifício em cond...   196802\n",
       "15  Hospital, ambulatório, casa de saúde e assemel...     1291\n",
       "16                        Hotel, pensão ou hospedaria     3939\n",
       "17                                          Indústria    13334\n",
       "18                                               Loja    54407\n",
       "19        Loja e residência (predominância comercial)    45021\n",
       "20  Loja em edifício em condomínio (unidade autônoma)    23589\n",
       "21                                            Oficina     9983\n",
       "22  Outras edificações de uso coletivo, com utiliz...     2935\n",
       "23  Outras edificações de uso comercial, com utili...    21168\n",
       "24  Outras edificações de uso de serviço, com util...     4959\n",
       "25  Outras edificações de uso especial, com utiliz...     1267\n",
       "26                                   Posto de serviço     2294\n",
       "27  Prédio de apartamento, não em condomínio, de u...     2037\n",
       "28  Prédio de apartamento, não em condomínio, de u...     2704\n",
       "29  Prédio de escritório ou consultório, não em co...    24979\n",
       "30  Prédio de escritório, não em condomínio, de us...      291\n",
       "31                                         Residência  1081450\n",
       "32  Residência coletiva, exclusive cortiço (mais d...   203816\n",
       "33  Residência e outro uso (predominância residenc...    85255\n",
       "34                                             Templo     5800\n",
       "35                                            Terreno   109885"
      ]
     },
     "execution_count": 147,
     "metadata": {},
     "output_type": "execute_result"
    }
   ],
   "source": [
    "# É possível agrupar\n",
    "\n",
    "df_iptu.groupby('TIPO DE USO DO IMOVEL', as_index = False)['AREA CONSTRUIDA'].size()"
   ]
  },
  {
   "cell_type": "code",
   "execution_count": 146,
   "metadata": {},
   "outputs": [
    {
     "data": {
      "text/html": [
       "<pre>✔️ 581 ms (2021-01-26T18:00:06/2021-01-26T18:00:07)</pre>"
      ],
      "text/plain": [
       "<IPython.core.display.HTML object>"
      ]
     },
     "metadata": {},
     "output_type": "display_data"
    },
    {
     "data": {
      "text/plain": [
       "<AxesSubplot:xlabel='TIPO DE USO DO IMOVEL'>"
      ]
     },
     "execution_count": 146,
     "metadata": {},
     "output_type": "execute_result"
    },
    {
     "data": {
      "image/png": "[encoded data removed]",
      "text/plain": [
       "<Figure size 432x288 with 1 Axes>"
      ]
     },
     "metadata": {
      "needs_background": "light"
     },
     "output_type": "display_data"
    }
   ],
   "source": [
    "# É possível criar gráficos\n",
    "\n",
    "df_iptu.groupby('TIPO DE USO DO IMOVEL', as_index = False)['AREA CONSTRUIDA'].size(). \\\n",
    "    set_index('TIPO DE USO DO IMOVEL').plot(kind='bar', y='size', legend=False)"
   ]
  },
  {
   "cell_type": "code",
   "execution_count": 150,
   "metadata": {},
   "outputs": [
    {
     "data": {
      "text/html": [
       "<pre>✔️ 549 ms (2021-01-26T18:01:22/2021-01-26T18:01:22)</pre>"
      ],
      "text/plain": [
       "<IPython.core.display.HTML object>"
      ]
     },
     "metadata": {},
     "output_type": "display_data"
    },
    {
     "data": {
      "text/plain": [
       "<AxesSubplot:ylabel='size'>"
      ]
     },
     "execution_count": 150,
     "metadata": {},
     "output_type": "execute_result"
    },
    {
     "data": {
      "image/png": "[encoded data removed]",
      "text/plain": [
       "<Figure size 432x288 with 1 Axes>"
      ]
     },
     "metadata": {},
     "output_type": "display_data"
    }
   ],
   "source": [
    "df_iptu.groupby('TIPO DE USO DO IMOVEL', as_index = False)['AREA CONSTRUIDA'].size(). \\\n",
    "    set_index('TIPO DE USO DO IMOVEL').plot(kind='pie', y='size', legend=False)"
   ]
  },
  {
   "cell_type": "code",
   "execution_count": 78,
   "metadata": {},
   "outputs": [
    {
     "data": {
      "text/html": [
       "<pre>✔️ 341 ms (2021-01-26T16:54:27/2021-01-26T16:54:27)</pre>"
      ],
      "text/plain": [
       "<IPython.core.display.HTML object>"
      ]
     },
     "metadata": {},
     "output_type": "display_data"
    },
    {
     "data": {
      "text/html": [
       "<div>\n",
       "<style scoped>\n",
       "    .dataframe tbody tr th:only-of-type {\n",
       "        vertical-align: middle;\n",
       "    }\n",
       "\n",
       "    .dataframe tbody tr th {\n",
       "        vertical-align: top;\n",
       "    }\n",
       "\n",
       "    .dataframe thead th {\n",
       "        text-align: right;\n",
       "    }\n",
       "</style>\n",
       "<table border=\"1\" class=\"dataframe\">\n",
       "  <thead>\n",
       "    <tr style=\"text-align: right;\">\n",
       "      <th></th>\n",
       "      <th>quant</th>\n",
       "      <th>area_media</th>\n",
       "      <th>mediana</th>\n",
       "      <th>desvio_padrao</th>\n",
       "    </tr>\n",
       "    <tr>\n",
       "      <th>TIPO DE USO DO IMOVEL</th>\n",
       "      <th></th>\n",
       "      <th></th>\n",
       "      <th></th>\n",
       "      <th></th>\n",
       "    </tr>\n",
       "  </thead>\n",
       "  <tbody>\n",
       "    <tr>\n",
       "      <th>Apartamento em condomínio</th>\n",
       "      <td>1363685</td>\n",
       "      <td>130.683199</td>\n",
       "      <td>103.0</td>\n",
       "      <td>100.301951</td>\n",
       "    </tr>\n",
       "    <tr>\n",
       "      <th>Armazéns gerais e depósitos</th>\n",
       "      <td>8612</td>\n",
       "      <td>985.091965</td>\n",
       "      <td>400.0</td>\n",
       "      <td>3242.221167</td>\n",
       "    </tr>\n",
       "    <tr>\n",
       "      <th>Asilo, orfanato, creche, seminário ou convento</th>\n",
       "      <td>927</td>\n",
       "      <td>949.371090</td>\n",
       "      <td>461.0</td>\n",
       "      <td>1862.280942</td>\n",
       "    </tr>\n",
       "    <tr>\n",
       "      <th>Cinema, teatro, casa de diversão, clube ou congênere</th>\n",
       "      <td>569</td>\n",
       "      <td>1469.637961</td>\n",
       "      <td>557.0</td>\n",
       "      <td>4088.639502</td>\n",
       "    </tr>\n",
       "    <tr>\n",
       "      <th>Clube esportivo</th>\n",
       "      <td>563</td>\n",
       "      <td>4087.024867</td>\n",
       "      <td>676.0</td>\n",
       "      <td>15979.220064</td>\n",
       "    </tr>\n",
       "    <tr>\n",
       "      <th>Cortiço</th>\n",
       "      <td>1768</td>\n",
       "      <td>310.774887</td>\n",
       "      <td>168.0</td>\n",
       "      <td>2182.497785</td>\n",
       "    </tr>\n",
       "    <tr>\n",
       "      <th>Escola</th>\n",
       "      <td>6941</td>\n",
       "      <td>1552.815156</td>\n",
       "      <td>385.0</td>\n",
       "      <td>12076.644469</td>\n",
       "    </tr>\n",
       "    <tr>\n",
       "      <th>Escritório/consultório em condomínio (unidade autônoma)</th>\n",
       "      <td>138156</td>\n",
       "      <td>154.573222</td>\n",
       "      <td>82.0</td>\n",
       "      <td>319.979275</td>\n",
       "    </tr>\n",
       "    <tr>\n",
       "      <th>Estação radioemissora, de televisão ou empresa jornalística</th>\n",
       "      <td>496</td>\n",
       "      <td>917.469758</td>\n",
       "      <td>30.0</td>\n",
       "      <td>4639.332167</td>\n",
       "    </tr>\n",
       "    <tr>\n",
       "      <th>Flat de uso comercial (semelhante a hotel)</th>\n",
       "      <td>24239</td>\n",
       "      <td>76.161393</td>\n",
       "      <td>69.0</td>\n",
       "      <td>163.869147</td>\n",
       "    </tr>\n",
       "    <tr>\n",
       "      <th>Flat residencial em condomínio</th>\n",
       "      <td>4976</td>\n",
       "      <td>91.588826</td>\n",
       "      <td>89.0</td>\n",
       "      <td>42.345477</td>\n",
       "    </tr>\n",
       "    <tr>\n",
       "      <th>Garagem (exclusive em prédio em condomínio)</th>\n",
       "      <td>2714</td>\n",
       "      <td>392.676861</td>\n",
       "      <td>164.0</td>\n",
       "      <td>1196.062048</td>\n",
       "    </tr>\n",
       "    <tr>\n",
       "      <th>Garagem (unidade autônoma) de prédio de garagens</th>\n",
       "      <td>9571</td>\n",
       "      <td>31.789991</td>\n",
       "      <td>25.0</td>\n",
       "      <td>222.970179</td>\n",
       "    </tr>\n",
       "    <tr>\n",
       "      <th>Garagem (unidade autônoma) em edifício em condomínio de escritórios, consultórios ou misto</th>\n",
       "      <td>38221</td>\n",
       "      <td>42.843385</td>\n",
       "      <td>28.0</td>\n",
       "      <td>331.811194</td>\n",
       "    </tr>\n",
       "    <tr>\n",
       "      <th>Garagem (unidade autônoma) em edifício em condomínio de uso exclusivamente residencial</th>\n",
       "      <td>196802</td>\n",
       "      <td>31.520381</td>\n",
       "      <td>26.0</td>\n",
       "      <td>87.932665</td>\n",
       "    </tr>\n",
       "    <tr>\n",
       "      <th>Hospital, ambulatório, casa de saúde e assemelhados</th>\n",
       "      <td>1291</td>\n",
       "      <td>2880.711851</td>\n",
       "      <td>417.0</td>\n",
       "      <td>11518.717805</td>\n",
       "    </tr>\n",
       "    <tr>\n",
       "      <th>Hotel, pensão ou hospedaria</th>\n",
       "      <td>3939</td>\n",
       "      <td>496.382077</td>\n",
       "      <td>57.0</td>\n",
       "      <td>2313.559067</td>\n",
       "    </tr>\n",
       "    <tr>\n",
       "      <th>Indústria</th>\n",
       "      <td>13334</td>\n",
       "      <td>1334.579196</td>\n",
       "      <td>506.0</td>\n",
       "      <td>4141.253331</td>\n",
       "    </tr>\n",
       "    <tr>\n",
       "      <th>Loja</th>\n",
       "      <td>54407</td>\n",
       "      <td>448.369272</td>\n",
       "      <td>212.0</td>\n",
       "      <td>2436.882116</td>\n",
       "    </tr>\n",
       "    <tr>\n",
       "      <th>Loja e residência (predominância comercial)</th>\n",
       "      <td>45021</td>\n",
       "      <td>271.813132</td>\n",
       "      <td>220.0</td>\n",
       "      <td>230.103226</td>\n",
       "    </tr>\n",
       "    <tr>\n",
       "      <th>Loja em edifício em condomínio (unidade autônoma)</th>\n",
       "      <td>23589</td>\n",
       "      <td>183.372250</td>\n",
       "      <td>83.0</td>\n",
       "      <td>1573.092570</td>\n",
       "    </tr>\n",
       "    <tr>\n",
       "      <th>Oficina</th>\n",
       "      <td>9983</td>\n",
       "      <td>281.127417</td>\n",
       "      <td>192.0</td>\n",
       "      <td>488.245412</td>\n",
       "    </tr>\n",
       "    <tr>\n",
       "      <th>Outras edificações de uso coletivo, com utilização múltipla</th>\n",
       "      <td>2935</td>\n",
       "      <td>1548.797615</td>\n",
       "      <td>416.0</td>\n",
       "      <td>6582.195424</td>\n",
       "    </tr>\n",
       "    <tr>\n",
       "      <th>Outras edificações de uso comercial, com utilização múltipla</th>\n",
       "      <td>21168</td>\n",
       "      <td>794.577948</td>\n",
       "      <td>367.0</td>\n",
       "      <td>5866.017794</td>\n",
       "    </tr>\n",
       "    <tr>\n",
       "      <th>Outras edificações de uso de serviço, com utilização múltipla</th>\n",
       "      <td>4959</td>\n",
       "      <td>660.874975</td>\n",
       "      <td>299.0</td>\n",
       "      <td>1685.577672</td>\n",
       "    </tr>\n",
       "    <tr>\n",
       "      <th>Outras edificações de uso especial, com utilização múltipla</th>\n",
       "      <td>1267</td>\n",
       "      <td>3164.535912</td>\n",
       "      <td>630.0</td>\n",
       "      <td>11840.809151</td>\n",
       "    </tr>\n",
       "    <tr>\n",
       "      <th>Posto de serviço</th>\n",
       "      <td>2294</td>\n",
       "      <td>496.364429</td>\n",
       "      <td>448.5</td>\n",
       "      <td>341.899755</td>\n",
       "    </tr>\n",
       "    <tr>\n",
       "      <th>Prédio de apartamento, não em condomínio, de uso exclusivamente residencial</th>\n",
       "      <td>2037</td>\n",
       "      <td>1289.178694</td>\n",
       "      <td>307.0</td>\n",
       "      <td>3293.519039</td>\n",
       "    </tr>\n",
       "    <tr>\n",
       "      <th>Prédio de apartamento, não em condomínio, de uso misto (apartamentos e escritórios e/ou consultórios), com ou sem loja (predominância residencial)</th>\n",
       "      <td>2704</td>\n",
       "      <td>873.816568</td>\n",
       "      <td>602.0</td>\n",
       "      <td>1275.258201</td>\n",
       "    </tr>\n",
       "    <tr>\n",
       "      <th>Prédio de escritório ou consultório, não em condomínio, com ou sem lojas</th>\n",
       "      <td>24979</td>\n",
       "      <td>605.335122</td>\n",
       "      <td>200.0</td>\n",
       "      <td>2803.291032</td>\n",
       "    </tr>\n",
       "    <tr>\n",
       "      <th>Prédio de escritório, não em condomínio, de uso misto (apartamentos e escritórios e/ou consultórios) com ou sem loja (predominância comercial)</th>\n",
       "      <td>291</td>\n",
       "      <td>964.089347</td>\n",
       "      <td>400.0</td>\n",
       "      <td>3923.740692</td>\n",
       "    </tr>\n",
       "    <tr>\n",
       "      <th>Residência</th>\n",
       "      <td>1081450</td>\n",
       "      <td>122.102798</td>\n",
       "      <td>102.0</td>\n",
       "      <td>88.695426</td>\n",
       "    </tr>\n",
       "    <tr>\n",
       "      <th>Residência coletiva, exclusive cortiço (mais de uma residência no lote)</th>\n",
       "      <td>203816</td>\n",
       "      <td>165.582398</td>\n",
       "      <td>140.0</td>\n",
       "      <td>314.400583</td>\n",
       "    </tr>\n",
       "    <tr>\n",
       "      <th>Residência e outro uso (predominância residencial)</th>\n",
       "      <td>85255</td>\n",
       "      <td>186.098094</td>\n",
       "      <td>140.0</td>\n",
       "      <td>2131.603800</td>\n",
       "    </tr>\n",
       "    <tr>\n",
       "      <th>Templo</th>\n",
       "      <td>5800</td>\n",
       "      <td>565.038448</td>\n",
       "      <td>302.5</td>\n",
       "      <td>1858.086879</td>\n",
       "    </tr>\n",
       "    <tr>\n",
       "      <th>Terreno</th>\n",
       "      <td>109885</td>\n",
       "      <td>0.000000</td>\n",
       "      <td>0.0</td>\n",
       "      <td>0.000000</td>\n",
       "    </tr>\n",
       "  </tbody>\n",
       "</table>\n",
       "</div>"
      ],
      "text/plain": [
       "                                                      quant   area_media  \\\n",
       "TIPO DE USO DO IMOVEL                                                      \n",
       "Apartamento em condomínio                           1363685   130.683199   \n",
       "Armazéns gerais e depósitos                            8612   985.091965   \n",
       "Asilo, orfanato, creche, seminário ou convento          927   949.371090   \n",
       "Cinema, teatro, casa de diversão, clube ou cong...      569  1469.637961   \n",
       "Clube esportivo                                         563  4087.024867   \n",
       "Cortiço                                                1768   310.774887   \n",
       "Escola                                                 6941  1552.815156   \n",
       "Escritório/consultório em condomínio (unidade a...   138156   154.573222   \n",
       "Estação radioemissora, de televisão ou empresa ...      496   917.469758   \n",
       "Flat de uso comercial (semelhante a hotel)            24239    76.161393   \n",
       "Flat residencial em condomínio                         4976    91.588826   \n",
       "Garagem (exclusive em prédio em condomínio)            2714   392.676861   \n",
       "Garagem (unidade autônoma) de prédio de garagens       9571    31.789991   \n",
       "Garagem (unidade autônoma) em edifício em condo...    38221    42.843385   \n",
       "Garagem (unidade autônoma) em edifício em condo...   196802    31.520381   \n",
       "Hospital, ambulatório, casa de saúde e assemelh...     1291  2880.711851   \n",
       "Hotel, pensão ou hospedaria                            3939   496.382077   \n",
       "Indústria                                             13334  1334.579196   \n",
       "Loja                                                  54407   448.369272   \n",
       "Loja e residência (predominância comercial)           45021   271.813132   \n",
       "Loja em edifício em condomínio (unidade autônoma)     23589   183.372250   \n",
       "Oficina                                                9983   281.127417   \n",
       "Outras edificações de uso coletivo, com utiliza...     2935  1548.797615   \n",
       "Outras edificações de uso comercial, com utiliz...    21168   794.577948   \n",
       "Outras edificações de uso de serviço, com utili...     4959   660.874975   \n",
       "Outras edificações de uso especial, com utiliza...     1267  3164.535912   \n",
       "Posto de serviço                                       2294   496.364429   \n",
       "Prédio de apartamento, não em condomínio, de us...     2037  1289.178694   \n",
       "Prédio de apartamento, não em condomínio, de us...     2704   873.816568   \n",
       "Prédio de escritório ou consultório, não em con...    24979   605.335122   \n",
       "Prédio de escritório, não em condomínio, de uso...      291   964.089347   \n",
       "Residência                                          1081450   122.102798   \n",
       "Residência coletiva, exclusive cortiço (mais de...   203816   165.582398   \n",
       "Residência e outro uso (predominância residencial)    85255   186.098094   \n",
       "Templo                                                 5800   565.038448   \n",
       "Terreno                                              109885     0.000000   \n",
       "\n",
       "                                                    mediana  desvio_padrao  \n",
       "TIPO DE USO DO IMOVEL                                                       \n",
       "Apartamento em condomínio                             103.0     100.301951  \n",
       "Armazéns gerais e depósitos                           400.0    3242.221167  \n",
       "Asilo, orfanato, creche, seminário ou convento        461.0    1862.280942  \n",
       "Cinema, teatro, casa de diversão, clube ou cong...    557.0    4088.639502  \n",
       "Clube esportivo                                       676.0   15979.220064  \n",
       "Cortiço                                               168.0    2182.497785  \n",
       "Escola                                                385.0   12076.644469  \n",
       "Escritório/consultório em condomínio (unidade a...     82.0     319.979275  \n",
       "Estação radioemissora, de televisão ou empresa ...     30.0    4639.332167  \n",
       "Flat de uso comercial (semelhante a hotel)             69.0     163.869147  \n",
       "Flat residencial em condomínio                         89.0      42.345477  \n",
       "Garagem (exclusive em prédio em condomínio)           164.0    1196.062048  \n",
       "Garagem (unidade autônoma) de prédio de garagens       25.0     222.970179  \n",
       "Garagem (unidade autônoma) em edifício em condo...     28.0     331.811194  \n",
       "Garagem (unidade autônoma) em edifício em condo...     26.0      87.932665  \n",
       "Hospital, ambulatório, casa de saúde e assemelh...    417.0   11518.717805  \n",
       "Hotel, pensão ou hospedaria                            57.0    2313.559067  \n",
       "Indústria                                             506.0    4141.253331  \n",
       "Loja                                                  212.0    2436.882116  \n",
       "Loja e residência (predominância comercial)           220.0     230.103226  \n",
       "Loja em edifício em condomínio (unidade autônoma)      83.0    1573.092570  \n",
       "Oficina                                               192.0     488.245412  \n",
       "Outras edificações de uso coletivo, com utiliza...    416.0    6582.195424  \n",
       "Outras edificações de uso comercial, com utiliz...    367.0    5866.017794  \n",
       "Outras edificações de uso de serviço, com utili...    299.0    1685.577672  \n",
       "Outras edificações de uso especial, com utiliza...    630.0   11840.809151  \n",
       "Posto de serviço                                      448.5     341.899755  \n",
       "Prédio de apartamento, não em condomínio, de us...    307.0    3293.519039  \n",
       "Prédio de apartamento, não em condomínio, de us...    602.0    1275.258201  \n",
       "Prédio de escritório ou consultório, não em con...    200.0    2803.291032  \n",
       "Prédio de escritório, não em condomínio, de uso...    400.0    3923.740692  \n",
       "Residência                                            102.0      88.695426  \n",
       "Residência coletiva, exclusive cortiço (mais de...    140.0     314.400583  \n",
       "Residência e outro uso (predominância residencial)    140.0    2131.603800  \n",
       "Templo                                                302.5    1858.086879  \n",
       "Terreno                                                 0.0       0.000000  "
      ]
     },
     "execution_count": 78,
     "metadata": {},
     "output_type": "execute_result"
    }
   ],
   "source": [
    "# mas dá pra melhorar\n",
    "\n",
    "df_iptu.groupby('TIPO DE USO DO IMOVEL') \\\n",
    "    .agg(quant=('AREA CONSTRUIDA', 'size'), \\\n",
    "         area_media=('AREA CONSTRUIDA', 'mean'), \\\n",
    "         mediana=('AREA CONSTRUIDA', 'median'), \\\n",
    "         desvio_padrao=('AREA CONSTRUIDA', 'std'))"
   ]
  },
  {
   "cell_type": "code",
   "execution_count": 79,
   "metadata": {},
   "outputs": [
    {
     "data": {
      "text/html": [
       "<pre>✔️ 1.13 ms (2021-01-26T16:56:32/2021-01-26T16:56:32)</pre>"
      ],
      "text/plain": [
       "<IPython.core.display.HTML object>"
      ]
     },
     "metadata": {},
     "output_type": "display_data"
    }
   ],
   "source": [
    "# mas dá pra melhorar mais ainda ...\n",
    "# pensando aqui poderíamos agrupar por distrito, \n",
    "# no entanto, vamos deixar para uma próxima, quando formos geoespacializar esses IPTUs\n",
    "\n",
    "# df_iptu.groupby('TIPO DE USO DO IMOVEL') \\\n",
    "#     .agg(quant=('AREA CONSTRUIDA', 'size'), \\\n",
    "#          area_media=('AREA CONSTRUIDA', 'mean'), \\\n",
    "#          mediana=('AREA CONSTRUIDA', 'median'), \\\n",
    "#          desvio_padrao=('AREA CONSTRUIDA', 'std'))"
   ]
  },
  {
   "cell_type": "code",
   "execution_count": 84,
   "metadata": {},
   "outputs": [
    {
     "data": {
      "text/html": [
       "<pre>✔️ 17.6 ms (2021-01-26T16:58:51/2021-01-26T16:58:52)</pre>"
      ],
      "text/plain": [
       "<IPython.core.display.HTML object>"
      ]
     },
     "metadata": {},
     "output_type": "display_data"
    },
    {
     "data": {
      "text/plain": [
       "1906.349301329315"
      ]
     },
     "execution_count": 84,
     "metadata": {},
     "output_type": "execute_result"
    }
   ],
   "source": [
    "# Como falamos em média, mediana, desvio padrão ...\n",
    "# média\n",
    "\n",
    "df_iptu['VALOR DO M2 DO TERRENO'].mean()"
   ]
  },
  {
   "cell_type": "code",
   "execution_count": 86,
   "metadata": {},
   "outputs": [
    {
     "data": {
      "text/html": [
       "<pre>✔️ 33.6 ms (2021-01-26T16:59:05/2021-01-26T16:59:05)</pre>"
      ],
      "text/plain": [
       "<IPython.core.display.HTML object>"
      ]
     },
     "metadata": {},
     "output_type": "display_data"
    },
    {
     "data": {
      "text/plain": [
       "1052.0"
      ]
     },
     "execution_count": 86,
     "metadata": {},
     "output_type": "execute_result"
    }
   ],
   "source": [
    "# mediana\n",
    "\n",
    "df_iptu['VALOR DO M2 DO TERRENO'].median()"
   ]
  },
  {
   "cell_type": "code",
   "execution_count": 87,
   "metadata": {},
   "outputs": [
    {
     "data": {
      "text/html": [
       "<pre>✔️ 31.1 ms (2021-01-26T16:59:15/2021-01-26T16:59:15)</pre>"
      ],
      "text/plain": [
       "<IPython.core.display.HTML object>"
      ]
     },
     "metadata": {},
     "output_type": "display_data"
    },
    {
     "data": {
      "text/plain": [
       "2520.6938375198447"
      ]
     },
     "execution_count": 87,
     "metadata": {},
     "output_type": "execute_result"
    }
   ],
   "source": [
    "# desvio padrão\n",
    "\n",
    "df_iptu['VALOR DO M2 DO TERRENO'].std()"
   ]
  },
  {
   "cell_type": "code",
   "execution_count": 88,
   "metadata": {},
   "outputs": [
    {
     "data": {
      "text/html": [
       "<pre>✔️ 45.9 ms (2021-01-26T17:07:46/2021-01-26T17:07:46)</pre>"
      ],
      "text/plain": [
       "<IPython.core.display.HTML object>"
      ]
     },
     "metadata": {},
     "output_type": "display_data"
    },
    {
     "data": {
      "text/plain": [
       "41.493434166876874"
      ]
     },
     "execution_count": 88,
     "metadata": {},
     "output_type": "execute_result"
    }
   ],
   "source": [
    "# Curtose\n",
    "# Quando próximo a zero significa que é a a distribuição é muito proxima a uma distribuição normal\n",
    "\n",
    "df_iptu['VALOR DO M2 DO TERRENO'].kurtosis()"
   ]
  },
  {
   "cell_type": "code",
   "execution_count": 89,
   "metadata": {},
   "outputs": [
    {
     "data": {
      "text/html": [
       "<pre>✔️ 44.1 ms (2021-01-26T17:08:44/2021-01-26T17:08:45)</pre>"
      ],
      "text/plain": [
       "<IPython.core.display.HTML object>"
      ]
     },
     "metadata": {},
     "output_type": "display_data"
    },
    {
     "data": {
      "text/plain": [
       "5.00359078517017"
      ]
     },
     "execution_count": 89,
     "metadata": {},
     "output_type": "execute_result"
    }
   ],
   "source": [
    "# Assimetria\n",
    "# quanto mais distante de 0, maior o deslocamento asimétrico da distribuição\n",
    "\n",
    "df_iptu['VALOR DO M2 DO TERRENO'].skew(axis=0)"
   ]
  },
  {
   "cell_type": "code",
   "execution_count": 95,
   "metadata": {},
   "outputs": [
    {
     "data": {
      "text/html": [
       "<pre>✔️ 15.6 ms (2021-01-26T17:16:12/2021-01-26T17:16:12)</pre>"
      ],
      "text/plain": [
       "<IPython.core.display.HTML object>"
      ]
     },
     "metadata": {},
     "output_type": "display_data"
    },
    {
     "data": {
      "text/plain": [
       "28815.0"
      ]
     },
     "execution_count": 95,
     "metadata": {},
     "output_type": "execute_result"
    }
   ],
   "source": [
    "df_iptu['VALOR DO M2 DO TERRENO'].max()"
   ]
  },
  {
   "cell_type": "code",
   "execution_count": 96,
   "metadata": {},
   "outputs": [
    {
     "data": {
      "text/html": [
       "<pre>✔️ 18.3 ms (2021-01-26T17:16:22/2021-01-26T17:16:22)</pre>"
      ],
      "text/plain": [
       "<IPython.core.display.HTML object>"
      ]
     },
     "metadata": {},
     "output_type": "display_data"
    },
    {
     "data": {
      "text/plain": [
       "48.0"
      ]
     },
     "execution_count": 96,
     "metadata": {},
     "output_type": "execute_result"
    }
   ],
   "source": [
    "df_iptu['VALOR DO M2 DO TERRENO'].min()"
   ]
  },
  {
   "cell_type": "code",
   "execution_count": 99,
   "metadata": {},
   "outputs": [
    {
     "data": {
      "text/html": [
       "<pre>✔️ 839 ms (2021-01-26T17:18:09/2021-01-26T17:18:10)</pre>"
      ],
      "text/plain": [
       "<IPython.core.display.HTML object>"
      ]
     },
     "metadata": {},
     "output_type": "display_data"
    },
    {
     "data": {
      "text/plain": [
       "<AxesSubplot:ylabel='Density'>"
      ]
     },
     "execution_count": 99,
     "metadata": {},
     "output_type": "execute_result"
    },
    {
     "data": {
      "image/png": "[encoded data removed]",
      "text/plain": [
       "<Figure size 432x288 with 1 Axes>"
      ]
     },
     "metadata": {
      "needs_background": "light"
     },
     "output_type": "display_data"
    }
   ],
   "source": [
    "df_iptu['VALOR DO M2 DO TERRENO'].plot.kde(ind=list(range(0, 15000, 1000)))"
   ]
  },
  {
   "cell_type": "code",
   "execution_count": 27,
   "metadata": {},
   "outputs": [
    {
     "data": {
      "text/html": [
       "<pre>✔️ 3.43 ms (2021-01-27T11:34:26/2021-01-27T11:34:26)</pre>"
      ],
      "text/plain": [
       "<IPython.core.display.HTML object>"
      ]
     },
     "metadata": {},
     "output_type": "display_data"
    },
    {
     "data": {
      "text/plain": [
       "0          2319.0\n",
       "1          2319.0\n",
       "2          2319.0\n",
       "3          2319.0\n",
       "4          2319.0\n",
       "            ...  \n",
       "3498639    1420.0\n",
       "3498640    1420.0\n",
       "3498641    1420.0\n",
       "3498642    1257.0\n",
       "3498643     293.0\n",
       "Name: VALOR DO M2 DO TERRENO, Length: 3498644, dtype: float64"
      ]
     },
     "execution_count": 27,
     "metadata": {},
     "output_type": "execute_result"
    }
   ],
   "source": [
    "df_iptu['VALOR DO M2 DO TERRENO']"
   ]
  },
  {
   "cell_type": "code",
   "execution_count": 28,
   "metadata": {},
   "outputs": [
    {
     "data": {
      "text/html": [
       "<pre>✔️ 43.4 ms (2021-01-27T11:34:44/2021-01-27T11:34:44)</pre>"
      ],
      "text/plain": [
       "<IPython.core.display.HTML object>"
      ]
     },
     "metadata": {},
     "output_type": "display_data"
    },
    {
     "data": {
      "text/plain": [
       "0.014759861510258042"
      ]
     },
     "execution_count": 28,
     "metadata": {},
     "output_type": "execute_result"
    }
   ],
   "source": [
    "# Correlações \n",
    "\n",
    "df_iptu['VALOR DO M2 DO TERRENO'].corr(df_iptu['AREA CONSTRUIDA'])"
   ]
  },
  {
   "cell_type": "code",
   "execution_count": 114,
   "metadata": {},
   "outputs": [
    {
     "data": {
      "text/html": [
       "<pre>✔️ 771 ms (2021-01-26T17:33:15/2021-01-26T17:33:16)</pre>"
      ],
      "text/plain": [
       "<IPython.core.display.HTML object>"
      ]
     },
     "metadata": {},
     "output_type": "display_data"
    },
    {
     "data": {
      "text/html": [
       "<div>\n",
       "<style scoped>\n",
       "    .dataframe tbody tr th:only-of-type {\n",
       "        vertical-align: middle;\n",
       "    }\n",
       "\n",
       "    .dataframe tbody tr th {\n",
       "        vertical-align: top;\n",
       "    }\n",
       "\n",
       "    .dataframe thead th {\n",
       "        text-align: right;\n",
       "    }\n",
       "</style>\n",
       "<table border=\"1\" class=\"dataframe\">\n",
       "  <thead>\n",
       "    <tr style=\"text-align: right;\">\n",
       "      <th></th>\n",
       "      <th>QUANTIDADE DE ESQUINAS/FRENTES</th>\n",
       "      <th>AREA DO TERRENO</th>\n",
       "      <th>AREA CONSTRUIDA</th>\n",
       "      <th>AREA OCUPADA</th>\n",
       "      <th>VALOR DO M2 DO TERRENO</th>\n",
       "      <th>VALOR DO M2 DE CONSTRUCAO</th>\n",
       "      <th>ANO DA CONSTRUCAO CORRIGIDO</th>\n",
       "      <th>QUANTIDADE DE PAVIMENTOS</th>\n",
       "      <th>TESTADA PARA CALCULO</th>\n",
       "    </tr>\n",
       "  </thead>\n",
       "  <tbody>\n",
       "    <tr>\n",
       "      <th>QUANTIDADE DE ESQUINAS/FRENTES</th>\n",
       "      <td>1.000000</td>\n",
       "      <td>0.305975</td>\n",
       "      <td>0.024284</td>\n",
       "      <td>0.359454</td>\n",
       "      <td>0.057088</td>\n",
       "      <td>0.187152</td>\n",
       "      <td>0.063801</td>\n",
       "      <td>0.363913</td>\n",
       "      <td>0.413010</td>\n",
       "    </tr>\n",
       "    <tr>\n",
       "      <th>AREA DO TERRENO</th>\n",
       "      <td>0.305975</td>\n",
       "      <td>1.000000</td>\n",
       "      <td>0.125396</td>\n",
       "      <td>0.760262</td>\n",
       "      <td>-0.031397</td>\n",
       "      <td>0.058735</td>\n",
       "      <td>0.031861</td>\n",
       "      <td>0.155633</td>\n",
       "      <td>0.471283</td>\n",
       "    </tr>\n",
       "    <tr>\n",
       "      <th>AREA CONSTRUIDA</th>\n",
       "      <td>0.024284</td>\n",
       "      <td>0.125396</td>\n",
       "      <td>1.000000</td>\n",
       "      <td>0.120932</td>\n",
       "      <td>0.014760</td>\n",
       "      <td>0.043320</td>\n",
       "      <td>0.026431</td>\n",
       "      <td>-0.005044</td>\n",
       "      <td>0.041020</td>\n",
       "    </tr>\n",
       "    <tr>\n",
       "      <th>AREA OCUPADA</th>\n",
       "      <td>0.359454</td>\n",
       "      <td>0.760262</td>\n",
       "      <td>0.120932</td>\n",
       "      <td>1.000000</td>\n",
       "      <td>0.044163</td>\n",
       "      <td>0.199479</td>\n",
       "      <td>0.077848</td>\n",
       "      <td>0.335712</td>\n",
       "      <td>0.501522</td>\n",
       "    </tr>\n",
       "    <tr>\n",
       "      <th>VALOR DO M2 DO TERRENO</th>\n",
       "      <td>0.057088</td>\n",
       "      <td>-0.031397</td>\n",
       "      <td>0.014760</td>\n",
       "      <td>0.044163</td>\n",
       "      <td>1.000000</td>\n",
       "      <td>0.607883</td>\n",
       "      <td>0.084538</td>\n",
       "      <td>0.426577</td>\n",
       "      <td>-0.008007</td>\n",
       "    </tr>\n",
       "    <tr>\n",
       "      <th>VALOR DO M2 DE CONSTRUCAO</th>\n",
       "      <td>0.187152</td>\n",
       "      <td>0.058735</td>\n",
       "      <td>0.043320</td>\n",
       "      <td>0.199479</td>\n",
       "      <td>0.607883</td>\n",
       "      <td>1.000000</td>\n",
       "      <td>0.379049</td>\n",
       "      <td>0.680331</td>\n",
       "      <td>0.127033</td>\n",
       "    </tr>\n",
       "    <tr>\n",
       "      <th>ANO DA CONSTRUCAO CORRIGIDO</th>\n",
       "      <td>0.063801</td>\n",
       "      <td>0.031861</td>\n",
       "      <td>0.026431</td>\n",
       "      <td>0.077848</td>\n",
       "      <td>0.084538</td>\n",
       "      <td>0.379049</td>\n",
       "      <td>1.000000</td>\n",
       "      <td>0.196551</td>\n",
       "      <td>0.053134</td>\n",
       "    </tr>\n",
       "    <tr>\n",
       "      <th>QUANTIDADE DE PAVIMENTOS</th>\n",
       "      <td>0.363913</td>\n",
       "      <td>0.155633</td>\n",
       "      <td>-0.005044</td>\n",
       "      <td>0.335712</td>\n",
       "      <td>0.426577</td>\n",
       "      <td>0.680331</td>\n",
       "      <td>0.196551</td>\n",
       "      <td>1.000000</td>\n",
       "      <td>0.301493</td>\n",
       "    </tr>\n",
       "    <tr>\n",
       "      <th>TESTADA PARA CALCULO</th>\n",
       "      <td>0.413010</td>\n",
       "      <td>0.471283</td>\n",
       "      <td>0.041020</td>\n",
       "      <td>0.501522</td>\n",
       "      <td>-0.008007</td>\n",
       "      <td>0.127033</td>\n",
       "      <td>0.053134</td>\n",
       "      <td>0.301493</td>\n",
       "      <td>1.000000</td>\n",
       "    </tr>\n",
       "  </tbody>\n",
       "</table>\n",
       "</div>"
      ],
      "text/plain": [
       "                                QUANTIDADE DE ESQUINAS/FRENTES  \\\n",
       "QUANTIDADE DE ESQUINAS/FRENTES                        1.000000   \n",
       "AREA DO TERRENO                                       0.305975   \n",
       "AREA CONSTRUIDA                                       0.024284   \n",
       "AREA OCUPADA                                          0.359454   \n",
       "VALOR DO M2 DO TERRENO                                0.057088   \n",
       "VALOR DO M2 DE CONSTRUCAO                             0.187152   \n",
       "ANO DA CONSTRUCAO CORRIGIDO                           0.063801   \n",
       "QUANTIDADE DE PAVIMENTOS                              0.363913   \n",
       "TESTADA PARA CALCULO                                  0.413010   \n",
       "\n",
       "                                AREA DO TERRENO  AREA CONSTRUIDA  \\\n",
       "QUANTIDADE DE ESQUINAS/FRENTES         0.305975         0.024284   \n",
       "AREA DO TERRENO                        1.000000         0.125396   \n",
       "AREA CONSTRUIDA                        0.125396         1.000000   \n",
       "AREA OCUPADA                           0.760262         0.120932   \n",
       "VALOR DO M2 DO TERRENO                -0.031397         0.014760   \n",
       "VALOR DO M2 DE CONSTRUCAO              0.058735         0.043320   \n",
       "ANO DA CONSTRUCAO CORRIGIDO            0.031861         0.026431   \n",
       "QUANTIDADE DE PAVIMENTOS               0.155633        -0.005044   \n",
       "TESTADA PARA CALCULO                   0.471283         0.041020   \n",
       "\n",
       "                                AREA OCUPADA  VALOR DO M2 DO TERRENO  \\\n",
       "QUANTIDADE DE ESQUINAS/FRENTES      0.359454                0.057088   \n",
       "AREA DO TERRENO                     0.760262               -0.031397   \n",
       "AREA CONSTRUIDA                     0.120932                0.014760   \n",
       "AREA OCUPADA                        1.000000                0.044163   \n",
       "VALOR DO M2 DO TERRENO              0.044163                1.000000   \n",
       "VALOR DO M2 DE CONSTRUCAO           0.199479                0.607883   \n",
       "ANO DA CONSTRUCAO CORRIGIDO         0.077848                0.084538   \n",
       "QUANTIDADE DE PAVIMENTOS            0.335712                0.426577   \n",
       "TESTADA PARA CALCULO                0.501522               -0.008007   \n",
       "\n",
       "                                VALOR DO M2 DE CONSTRUCAO  \\\n",
       "QUANTIDADE DE ESQUINAS/FRENTES                   0.187152   \n",
       "AREA DO TERRENO                                  0.058735   \n",
       "AREA CONSTRUIDA                                  0.043320   \n",
       "AREA OCUPADA                                     0.199479   \n",
       "VALOR DO M2 DO TERRENO                           0.607883   \n",
       "VALOR DO M2 DE CONSTRUCAO                        1.000000   \n",
       "ANO DA CONSTRUCAO CORRIGIDO                      0.379049   \n",
       "QUANTIDADE DE PAVIMENTOS                         0.680331   \n",
       "TESTADA PARA CALCULO                             0.127033   \n",
       "\n",
       "                                ANO DA CONSTRUCAO CORRIGIDO  \\\n",
       "QUANTIDADE DE ESQUINAS/FRENTES                     0.063801   \n",
       "AREA DO TERRENO                                    0.031861   \n",
       "AREA CONSTRUIDA                                    0.026431   \n",
       "AREA OCUPADA                                       0.077848   \n",
       "VALOR DO M2 DO TERRENO                             0.084538   \n",
       "VALOR DO M2 DE CONSTRUCAO                          0.379049   \n",
       "ANO DA CONSTRUCAO CORRIGIDO                        1.000000   \n",
       "QUANTIDADE DE PAVIMENTOS                           0.196551   \n",
       "TESTADA PARA CALCULO                               0.053134   \n",
       "\n",
       "                                QUANTIDADE DE PAVIMENTOS  TESTADA PARA CALCULO  \n",
       "QUANTIDADE DE ESQUINAS/FRENTES                  0.363913              0.413010  \n",
       "AREA DO TERRENO                                 0.155633              0.471283  \n",
       "AREA CONSTRUIDA                                -0.005044              0.041020  \n",
       "AREA OCUPADA                                    0.335712              0.501522  \n",
       "VALOR DO M2 DO TERRENO                          0.426577             -0.008007  \n",
       "VALOR DO M2 DE CONSTRUCAO                       0.680331              0.127033  \n",
       "ANO DA CONSTRUCAO CORRIGIDO                     0.196551              0.053134  \n",
       "QUANTIDADE DE PAVIMENTOS                        1.000000              0.301493  \n",
       "TESTADA PARA CALCULO                            0.301493              1.000000  "
      ]
     },
     "execution_count": 114,
     "metadata": {},
     "output_type": "execute_result"
    }
   ],
   "source": [
    "df_iptu[['QUANTIDADE DE ESQUINAS/FRENTES',\n",
    "        'AREA DO TERRENO',\n",
    "        'AREA CONSTRUIDA', \n",
    "        'AREA OCUPADA',\n",
    "        'VALOR DO M2 DO TERRENO', \n",
    "        'VALOR DO M2 DE CONSTRUCAO',\n",
    "        'ANO DA CONSTRUCAO CORRIGIDO', \n",
    "        'QUANTIDADE DE PAVIMENTOS',\n",
    "        'TESTADA PARA CALCULO']].corr()"
   ]
  },
  {
   "cell_type": "code",
   "execution_count": 32,
   "metadata": {},
   "outputs": [
    {
     "data": {
      "text/html": [
       "<pre>✔️ 2.36 s (2021-01-27T11:40:21/2021-01-27T11:40:24)</pre>"
      ],
      "text/plain": [
       "<IPython.core.display.HTML object>"
      ]
     },
     "metadata": {},
     "output_type": "display_data"
    }
   ],
   "source": [
    "# Por último, muitas vezes precisamos expotar os dados\n",
    "\n",
    "df_cep01 = df_iptu[df_iptu['CEP DO IMOVEL'].str[0:2] == '01']"
   ]
  },
  {
   "cell_type": "code",
   "execution_count": 29,
   "metadata": {},
   "outputs": [],
   "source": [
    "df_cep01.to_csv('resultados/iptu-2020-cep01.csv.gz', compression='gzip')"
   ]
  },
  {
   "cell_type": "code",
   "execution_count": null,
   "metadata": {},
   "outputs": [
    {
     "data": {
      "text/html": [
       "<pre>⌛ 30.3 s (2021-01-27T11:41:04)</pre>"
      ],
      "text/plain": [
       "<IPython.core.display.HTML object>"
      ]
     },
     "metadata": {},
     "output_type": "display_data"
    }
   ],
   "source": [
    "df_cep01[['Setor', 'Quadra', 'Lote']]"
   ]
  },
  {
   "cell_type": "code",
   "execution_count": 7,
   "metadata": {},
   "outputs": [
    {
     "data": {
      "text/html": [
       "<pre>✔️ 3.07 ms (2021-01-26T15:10:29/2021-01-26T15:10:29)</pre>"
      ],
      "text/plain": [
       "<IPython.core.display.HTML object>"
      ]
     },
     "metadata": {},
     "output_type": "display_data"
    }
   ],
   "source": [
    "# Tá Mais como eu sei que tenho que usar um determinado comando?\n",
    "# Buscando ajuda\n",
    "# Digite pd. e em seguida a tecla TAB\n",
    "\n",
    "# ou digitando Shift+TAB\n"
   ]
  }
 ],
 "metadata": {
  "celltoolbar": "Slideshow",
  "kernelspec": {
   "display_name": "Python 3",
   "language": "python",
   "name": "python3"
  },
  "language_info": {
   "codemirror_mode": {
    "name": "ipython",
    "version": 3
   },
   "file_extension": ".py",
   "mimetype": "text/x-python",
   "name": "python",
   "nbconvert_exporter": "python",
   "pygments_lexer": "ipython3",
   "version": "3.8.2"
  }
 },
 "nbformat": 4,
 "nbformat_minor": 4
}
