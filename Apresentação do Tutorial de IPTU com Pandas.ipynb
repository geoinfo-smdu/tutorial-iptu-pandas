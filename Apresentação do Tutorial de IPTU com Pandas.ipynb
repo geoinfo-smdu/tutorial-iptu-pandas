{
 "cells": [
  {
   "cell_type": "markdown",
   "metadata": {
    "slideshow": {
     "slide_type": "slide"
    }
   },
   "source": [
    "# Tutorial\n",
    "\n",
    "## Trabalhando com a base de dados de IPTU\n",
    "\n",
    "> Um ensejo para usar Python e trabalhar de modo eficaz com conjunto de dados massivos"
   ]
  },
  {
   "cell_type": "markdown",
   "metadata": {
    "slideshow": {
     "slide_type": "subslide"
    }
   },
   "source": [
    "## Agenda\n",
    "\n",
    "* Justificando por que estamos aqui, um pouco dos princípios por trás disso que estamos fazendo.\n",
    "* Mão-na-massa, Demonstração ao vivo, direto sem falar sobre programação\n",
    "* Bate-papo e próximos passos\n",
    "* Lição de casa para quem quiser usar o Pandas\n"
   ]
  },
  {
   "cell_type": "markdown",
   "metadata": {
    "slideshow": {
     "slide_type": "slide"
    }
   },
   "source": [
    "## Este não é um curso de programação\n",
    "\n",
    "* .... mas vamos usar programação\n",
    "* Como aprendemos uma linguagem?\n",
    "* Não tente fazer isso em casa! :)\n",
    "* Por que precisamos de uma linguagem? (alguns argumentos)\n",
    "    * Dialogar, estabelecer consenso e trabalhar em grupos (colaboração)\n",
    "    * Registrar, documentar, revisar e auditar\n",
    "    * Imaginar <-- é aqui talvez que seja o ponto para hoje\n"
   ]
  },
  {
   "cell_type": "markdown",
   "metadata": {
    "slideshow": {
     "slide_type": "subslide"
    }
   },
   "source": [
    "## Como se ensina a programar?"
   ]
  },
  {
   "cell_type": "markdown",
   "metadata": {
    "slideshow": {
     "slide_type": "fragment"
    }
   },
   "source": [
    "* Não sei"
   ]
  },
  {
   "cell_type": "markdown",
   "metadata": {
    "slideshow": {
     "slide_type": "fragment"
    }
   },
   "source": [
    "* Mas sei como se aprende\n",
    "* ... e como não se ensina\n",
    "* \"Ei Hello World, vai tomar no SUS!\"\n",
    "* Tem que ter repertório próprio"
   ]
  },
  {
   "cell_type": "markdown",
   "metadata": {
    "slideshow": {
     "slide_type": "subslide"
    }
   },
   "source": [
    "## Agnosticismo[técnico]\n",
    "\n",
    "* Nunca pressupor que sabe o que é melhor para se resolver um problema\n",
    "* Sempre buscar uma solução específica para um problema específico\n",
    "* Oposto de um evangelizador tecnológico [https://en.wikipedia.org/wiki/Technology_evangelist]\n",
    "* Diferente de quando se escolhe um programa para aprender e chamar de seu (processo similar a alienação) [https://www.schneier.com/blog/archives/2010/12/software_monocu.html]\n",
    "* Promove: Autonomia, Agrega valor à solução, possibilita uma visão mais holística, etc ..."
   ]
  },
  {
   "cell_type": "markdown",
   "metadata": {
    "slideshow": {
     "slide_type": "slide"
    }
   },
   "source": [
    "# Então vamos ao que interessa\n",
    "\n",
    "* E o que interessa? Falar sobre o que temos interesse no dia-a-dia\n",
    "* Conjuntos de dados ou Banco de Dados?\n",
    "* Grandes Conjuntos de Dados! O IPTU pra começar\n",
    "> LiveDemo"
   ]
  },
  {
   "cell_type": "markdown",
   "metadata": {
    "slideshow": {
     "slide_type": "slide"
    }
   },
   "source": [
    "# Ufa... Acabou ... por hj!\n",
    "\n",
    "* E ai? Que tal?\n",
    "* Muita coisa né?\n",
    "* O que podemos fazer agora com isso?"
   ]
  },
  {
   "cell_type": "markdown",
   "metadata": {
    "slideshow": {
     "slide_type": "subslide"
    }
   },
   "source": [
    "## Próximos passos\n",
    "\n",
    "* Como relacionar o IPTU com dados espaciais\n",
    "* Série histórica do IPTU\n",
    "* Espacializando dados tabulados, exemplo SP156\n",
    "* HTML básico\n",
    "* HTML/JavaScript para visualização de dados (ObservaSampa)\n",
    "* GitHub\n",
    "* Introdução ao GeoProcessamento com Python e GeoPandas\n",
    "* GeoPandas avançado, polígono de vias\n",
    "* Automatização de tarefas\n",
    "* LiDAR 3D e Python\n",
    "* Consumindo Serviços Geo(Sampa) com Python\n",
    "* Sugestões?"
   ]
  },
  {
   "cell_type": "markdown",
   "metadata": {
    "slideshow": {
     "slide_type": "slide"
    }
   },
   "source": [
    "## Pra quem quiser instalar o Pandas e reproduzir isso tudo\n",
    "\n",
    "* Instalar o Anaconda [https://docs.continuum.io/anaconda/install/windows/]\n",
    "* Video tutorial para instalar o Anaconda [https://www.youtube.com/watch?v=BP4D-yaxw6E]\n",
    "* Tentar abrir a base de IPTU 2020 no Pandas\n",
    "* Canal Programação Dinâmica da Kizzy e do Hallison, playlist de Análise de dados com Pandas [https://www.youtube.com/playlist?list=PL5TJqBvpXQv5N3iV68bGBkea0HjMk98lR] <-- SE FOR ESCOLHER APENAS UMA TAREFA PARA FAZER, ESCOLHA ESTA!"
   ]
  },
  {
   "cell_type": "code",
   "execution_count": null,
   "metadata": {},
   "outputs": [],
   "source": []
  }
 ],
 "metadata": {
  "celltoolbar": "Slideshow",
  "kernelspec": {
   "display_name": "Python 3",
   "language": "python",
   "name": "python3"
  },
  "language_info": {
   "codemirror_mode": {
    "name": "ipython",
    "version": 3
   },
   "file_extension": ".py",
   "mimetype": "text/x-python",
   "name": "python",
   "nbconvert_exporter": "python",
   "pygments_lexer": "ipython3",
   "version": "3.8.2"
  }
 },
 "nbformat": 4,
 "nbformat_minor": 4
}
